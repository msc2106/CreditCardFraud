{
 "cells": [
  {
   "attachments": {},
   "cell_type": "markdown",
   "metadata": {},
   "source": [
    "# Modeling"
   ]
  },
  {
   "cell_type": "code",
   "execution_count": 1,
   "metadata": {},
   "outputs": [],
   "source": [
    "import sys\n",
    "import pandas as pd\n",
    "import numpy as np\n",
    "from sklearn.preprocessing import StandardScaler\n",
    "from sklearn.pipeline import make_pipeline\n",
    "from sklearn.linear_model import LogisticRegression\n",
    "from sklearn.model_selection import train_test_split\n",
    "from sklearn.metrics import classification_report, confusion_matrix\n",
    "sys.path.append(\"../src\")\n",
    "import utils\n",
    "\n",
    "rng = np.random.default_rng(10)"
   ]
  },
  {
   "attachments": {},
   "cell_type": "markdown",
   "metadata": {},
   "source": [
    "## 1. Preprocessing\n",
    "\n",
    "TODO:\n",
    "1. Join income and credit limit features from users data\n",
    "1. Calculate \"home city\", \"home state\", \"home country\", user age, and retired features\n",
    "1. Calculate card vintage and time to expiration features from card data\n",
    "1. **What to do with MCCs?** There are 109 of them: too many to just make dummies? Perhaps they could be grouped according to fraud rates, though this would need to be done using only training data.\n",
    "1. 70/30 train/test split. Because there are user-level measures, I think there is a need to avoid contamination. Also, this will be definitely necessary for alternative modeling methods that explicitly consider the user level."
   ]
  },
  {
   "attachments": {},
   "cell_type": "markdown",
   "metadata": {},
   "source": [
    "Transactions"
   ]
  },
  {
   "cell_type": "code",
   "execution_count": 2,
   "metadata": {},
   "outputs": [
    {
     "name": "stdout",
     "output_type": "stream",
     "text": [
      "<class 'pandas.core.frame.DataFrame'>\n",
      "Index: 5214807 entries, 28882 to 24270533\n",
      "Data columns (total 11 columns):\n",
      " #   Column          Dtype         \n",
      "---  ------          -----         \n",
      " 0   user            int64         \n",
      " 1   card            int64         \n",
      " 2   amount          float64       \n",
      " 3   merchant_city   object        \n",
      " 4   merchant_state  object        \n",
      " 5   zip             float64       \n",
      " 6   mcc             int64         \n",
      " 7   errors          object        \n",
      " 8   is_fraud        bool          \n",
      " 9   timestamp       datetime64[ns]\n",
      " 10  tx_type         object        \n",
      "dtypes: bool(1), datetime64[ns](1), float64(2), int64(3), object(4)\n",
      "memory usage: 442.6+ MB\n",
      "None\n"
     ]
    }
   ],
   "source": [
    "tx_data = pd.read_csv(\n",
    "    utils.prepend_dir('tx_sample.csv'),\n",
    "    index_col=0,\n",
    "    parse_dates=['timestamp']\n",
    ")\n",
    "tx_data.drop(['year', 'month', 'day', 'time', 'merchant_name', 'use_chip'], axis=1, inplace=True)\n",
    "print(tx_data.info())"
   ]
  },
  {
   "attachments": {},
   "cell_type": "markdown",
   "metadata": {},
   "source": [
    "Cards"
   ]
  },
  {
   "cell_type": "code",
   "execution_count": 3,
   "metadata": {},
   "outputs": [
    {
     "name": "stdout",
     "output_type": "stream",
     "text": [
      "<class 'pandas.core.frame.DataFrame'>\n",
      "Index: 1241 entries, 10 to 6109\n",
      "Data columns (total 18 columns):\n",
      " #   Column                 Non-Null Count  Dtype         \n",
      "---  ------                 --------------  -----         \n",
      " 0   user                   1241 non-null   int64         \n",
      " 1   card_index             1241 non-null   int64         \n",
      " 2   card_brand             1241 non-null   object        \n",
      " 3   card_type              1241 non-null   object        \n",
      " 4   card_number            1241 non-null   int64         \n",
      " 5   expires                1241 non-null   datetime64[ns]\n",
      " 6   cvv                    1241 non-null   int64         \n",
      " 7   has_chip               1241 non-null   bool          \n",
      " 8   cards_issued           1241 non-null   int64         \n",
      " 9   credit_limit           1241 non-null   float64       \n",
      " 10  acct_open_date         1241 non-null   datetime64[ns]\n",
      " 11  year_pin_last_changed  1241 non-null   int64         \n",
      " 12  num_transactions       1241 non-null   int64         \n",
      " 13  total_tx_amount        1241 non-null   float64       \n",
      " 14  fraud_rate             1241 non-null   float64       \n",
      " 15  chip_rate              1241 non-null   float64       \n",
      " 16  online_rate            1241 non-null   float64       \n",
      " 17  swipe_rate             1241 non-null   float64       \n",
      "dtypes: bool(1), datetime64[ns](2), float64(6), int64(7), object(2)\n",
      "memory usage: 175.7+ KB\n",
      "None\n"
     ]
    }
   ],
   "source": [
    "card_data = pd.read_csv(\n",
    "    utils.prepend_dir('cards_sample.csv'), \n",
    "    index_col=0, \n",
    "    parse_dates=['expires', 'acct_open_date']\n",
    ")\n",
    "print(card_data.info())\n",
    "card_cols = ['user', 'card_index', 'card_brand', 'card_type', 'expires', 'has_chip', 'cards_issued', 'credit_limit', 'acct_open_date']"
   ]
  },
  {
   "attachments": {},
   "cell_type": "markdown",
   "metadata": {},
   "source": [
    "Users"
   ]
  },
  {
   "cell_type": "code",
   "execution_count": 4,
   "metadata": {},
   "outputs": [
    {
     "name": "stdout",
     "output_type": "stream",
     "text": [
      "<class 'pandas.core.frame.DataFrame'>\n",
      "Index: 400 entries, 2 to 1987\n",
      "Data columns (total 21 columns):\n",
      " #   Column                     Non-Null Count  Dtype         \n",
      "---  ------                     --------------  -----         \n",
      " 0   person                     400 non-null    object        \n",
      " 1   current_age                400 non-null    int64         \n",
      " 2   retirement_age             400 non-null    int64         \n",
      " 3   birth_year                 400 non-null    int64         \n",
      " 4   birth_month                400 non-null    int64         \n",
      " 5   gender                     400 non-null    object        \n",
      " 6   address                    400 non-null    object        \n",
      " 7   apartment                  102 non-null    float64       \n",
      " 8   city                       400 non-null    object        \n",
      " 9   state                      400 non-null    object        \n",
      " 10  zipcode                    400 non-null    int64         \n",
      " 11  latitude                   400 non-null    float64       \n",
      " 12  longitude                  400 non-null    float64       \n",
      " 13  per_capita_income_zipcode  400 non-null    float64       \n",
      " 14  yearly_income_person       400 non-null    float64       \n",
      " 15  total_debt                 400 non-null    float64       \n",
      " 16  fico_score                 400 non-null    int64         \n",
      " 17  num_credit_cards           400 non-null    int64         \n",
      " 18  fraud_rate                 400 non-null    float64       \n",
      " 19  total_credit_limit         400 non-null    float64       \n",
      " 20  birthdate                  400 non-null    datetime64[ns]\n",
      "dtypes: datetime64[ns](1), float64(8), int64(7), object(5)\n",
      "memory usage: 68.8+ KB\n",
      "None\n"
     ]
    }
   ],
   "source": [
    "user_data = pd.read_csv(\n",
    "    utils.prepend_dir('users_sample.csv'),\n",
    "    index_col=0\n",
    ")\n",
    "user_data['birthdate'] = pd.to_datetime({\n",
    "    'year': user_data.birth_year, \n",
    "    'month': user_data.birth_month, \n",
    "    'day':1\n",
    "})\n",
    "print(user_data.info())\n",
    "user_cols = ['birthdate', 'retirement_age', 'gender' ,'city', 'state', 'zipcode', 'latitude', 'longitude', 'per_capita_income_zipcode', 'yearly_income_person', 'total_debt', 'fico_score', 'num_credit_cards']"
   ]
  },
  {
   "attachments": {},
   "cell_type": "markdown",
   "metadata": {},
   "source": [
    "Merging data"
   ]
  },
  {
   "cell_type": "code",
   "execution_count": 5,
   "metadata": {},
   "outputs": [
    {
     "name": "stdout",
     "output_type": "stream",
     "text": [
      "<class 'pandas.core.frame.DataFrame'>\n",
      "Index: 5214807 entries, 0 to 5214806\n",
      "Data columns (total 31 columns):\n",
      " #   Column                     Dtype         \n",
      "---  ------                     -----         \n",
      " 0   user                       int64         \n",
      " 1   card                       int64         \n",
      " 2   amount                     float64       \n",
      " 3   merchant_city              object        \n",
      " 4   merchant_state             object        \n",
      " 5   zip                        float64       \n",
      " 6   mcc                        int64         \n",
      " 7   errors                     object        \n",
      " 8   is_fraud                   bool          \n",
      " 9   timestamp                  datetime64[ns]\n",
      " 10  tx_type                    object        \n",
      " 11  card_brand                 object        \n",
      " 12  card_type                  object        \n",
      " 13  expires                    datetime64[ns]\n",
      " 14  has_chip                   bool          \n",
      " 15  cards_issued               int64         \n",
      " 16  credit_limit               float64       \n",
      " 17  acct_open_date             datetime64[ns]\n",
      " 18  birthdate                  datetime64[ns]\n",
      " 19  retirement_age             int64         \n",
      " 20  gender                     object        \n",
      " 21  city                       object        \n",
      " 22  state                      object        \n",
      " 23  zipcode                    int64         \n",
      " 24  latitude                   float64       \n",
      " 25  longitude                  float64       \n",
      " 26  per_capita_income_zipcode  float64       \n",
      " 27  yearly_income_person       float64       \n",
      " 28  total_debt                 float64       \n",
      " 29  fico_score                 int64         \n",
      " 30  num_credit_cards           int64         \n",
      "dtypes: bool(2), datetime64[ns](4), float64(8), int64(8), object(9)\n",
      "memory usage: 1.2+ GB\n"
     ]
    }
   ],
   "source": [
    "merged_df = (tx_data\n",
    "    .merge(\n",
    "        card_data[card_cols],\n",
    "        left_on=['user', 'card'],\n",
    "        right_on=['user', 'card_index'])\n",
    "    .drop('card_index', axis=1)\n",
    "    .merge(user_data[user_cols],\n",
    "        left_on='user',\n",
    "        right_index=True)\n",
    ")\n",
    "\n",
    "merged_df.info()"
   ]
  },
  {
   "attachments": {},
   "cell_type": "markdown",
   "metadata": {},
   "source": [
    "Constructing features"
   ]
  },
  {
   "cell_type": "code",
   "execution_count": 6,
   "metadata": {},
   "outputs": [],
   "source": [
    "# location-based features\n",
    "merged_df['home_city'] = (merged_df.city == merged_df.merchant_city) & (merged_df.state == merged_df.merchant_state)\n",
    "merged_df['home_state'] = merged_df.state == merged_df.merchant_state\n",
    "merged_df['home_zip'] = merged_df.zip == merged_df.zipcode\n",
    "merged_df['overseas'] = (merged_df.tx_type != 'online') & merged_df.zip.isna()\n",
    "merged_df = merged_df[~(merged_df.merchant_state.isna() & (merged_df.tx_type != 'online'))]"
   ]
  },
  {
   "cell_type": "code",
   "execution_count": 7,
   "metadata": {},
   "outputs": [],
   "source": [
    "# time-based features\n",
    "merged_df['user_age'] = (merged_df.timestamp - merged_df.birthdate).dt.days/365\n",
    "merged_df['retired'] = merged_df.user_age >= merged_df.retirement_age\n",
    "merged_df['until_expired'] = (merged_df.expires - merged_df.timestamp).dt.days\n",
    "merged_df['since_opened'] = (merged_df.timestamp - merged_df.acct_open_date).dt.days"
   ]
  },
  {
   "cell_type": "code",
   "execution_count": 8,
   "metadata": {},
   "outputs": [],
   "source": [
    "# dropping unneeded columns\n",
    "redundant_cols = ['merchant_city', 'merchant_state', 'zip', 'city', 'state', 'zipcode', 'birthdate', 'retirement_age', 'expires', 'acct_open_date', 'timestamp']\n",
    "merged_df.drop(columns=redundant_cols, inplace=True)"
   ]
  },
  {
   "attachments": {},
   "cell_type": "markdown",
   "metadata": {},
   "source": [
    "Converting categories to dummies"
   ]
  },
  {
   "cell_type": "code",
   "execution_count": 9,
   "metadata": {},
   "outputs": [],
   "source": [
    "dummy_df = merged_df.copy()\n",
    "\n",
    "errors = set()\n",
    "for entry in merged_df.errors.dropna().unique().tolist():\n",
    "    for error in entry.split(','):\n",
    "        errors.add(error)\n",
    "for error in list(errors):\n",
    "    dummy_df[error] = dummy_df.errors.str.contains(error).fillna(False)\n",
    "dummy_df.groupby('errors').agg({error:'sum' for error in errors})\n",
    "dummy_df.drop(columns='errors', inplace=True)"
   ]
  },
  {
   "cell_type": "code",
   "execution_count": 10,
   "metadata": {},
   "outputs": [
    {
     "data": {
      "text/html": [
       "<div>\n",
       "<style scoped>\n",
       "    .dataframe tbody tr th:only-of-type {\n",
       "        vertical-align: middle;\n",
       "    }\n",
       "\n",
       "    .dataframe tbody tr th {\n",
       "        vertical-align: top;\n",
       "    }\n",
       "\n",
       "    .dataframe thead th {\n",
       "        text-align: right;\n",
       "    }\n",
       "</style>\n",
       "<table border=\"1\" class=\"dataframe\">\n",
       "  <thead>\n",
       "    <tr style=\"text-align: right;\">\n",
       "      <th></th>\n",
       "      <th>3566505</th>\n",
       "    </tr>\n",
       "  </thead>\n",
       "  <tbody>\n",
       "    <tr>\n",
       "      <th>user</th>\n",
       "      <td>1316</td>\n",
       "    </tr>\n",
       "    <tr>\n",
       "      <th>card</th>\n",
       "      <td>2</td>\n",
       "    </tr>\n",
       "    <tr>\n",
       "      <th>amount</th>\n",
       "      <td>8.84</td>\n",
       "    </tr>\n",
       "    <tr>\n",
       "      <th>mcc</th>\n",
       "      <td>5815</td>\n",
       "    </tr>\n",
       "    <tr>\n",
       "      <th>is_fraud</th>\n",
       "      <td>False</td>\n",
       "    </tr>\n",
       "    <tr>\n",
       "      <th>has_chip</th>\n",
       "      <td>True</td>\n",
       "    </tr>\n",
       "    <tr>\n",
       "      <th>cards_issued</th>\n",
       "      <td>2</td>\n",
       "    </tr>\n",
       "    <tr>\n",
       "      <th>credit_limit</th>\n",
       "      <td>13193.0</td>\n",
       "    </tr>\n",
       "    <tr>\n",
       "      <th>latitude</th>\n",
       "      <td>40.68</td>\n",
       "    </tr>\n",
       "    <tr>\n",
       "      <th>longitude</th>\n",
       "      <td>-75.22</td>\n",
       "    </tr>\n",
       "    <tr>\n",
       "      <th>per_capita_income_zipcode</th>\n",
       "      <td>21005.0</td>\n",
       "    </tr>\n",
       "    <tr>\n",
       "      <th>yearly_income_person</th>\n",
       "      <td>42831.0</td>\n",
       "    </tr>\n",
       "    <tr>\n",
       "      <th>total_debt</th>\n",
       "      <td>59948.0</td>\n",
       "    </tr>\n",
       "    <tr>\n",
       "      <th>fico_score</th>\n",
       "      <td>566</td>\n",
       "    </tr>\n",
       "    <tr>\n",
       "      <th>num_credit_cards</th>\n",
       "      <td>3</td>\n",
       "    </tr>\n",
       "    <tr>\n",
       "      <th>home_city</th>\n",
       "      <td>False</td>\n",
       "    </tr>\n",
       "    <tr>\n",
       "      <th>home_state</th>\n",
       "      <td>False</td>\n",
       "    </tr>\n",
       "    <tr>\n",
       "      <th>home_zip</th>\n",
       "      <td>False</td>\n",
       "    </tr>\n",
       "    <tr>\n",
       "      <th>overseas</th>\n",
       "      <td>False</td>\n",
       "    </tr>\n",
       "    <tr>\n",
       "      <th>user_age</th>\n",
       "      <td>64.191781</td>\n",
       "    </tr>\n",
       "    <tr>\n",
       "      <th>retired</th>\n",
       "      <td>False</td>\n",
       "    </tr>\n",
       "    <tr>\n",
       "      <th>until_expired</th>\n",
       "      <td>1466</td>\n",
       "    </tr>\n",
       "    <tr>\n",
       "      <th>since_opened</th>\n",
       "      <td>2214</td>\n",
       "    </tr>\n",
       "    <tr>\n",
       "      <th>Bad Card Number</th>\n",
       "      <td>False</td>\n",
       "    </tr>\n",
       "    <tr>\n",
       "      <th>Technical Glitch</th>\n",
       "      <td>False</td>\n",
       "    </tr>\n",
       "    <tr>\n",
       "      <th>Insufficient Balance</th>\n",
       "      <td>False</td>\n",
       "    </tr>\n",
       "    <tr>\n",
       "      <th>Bad Zipcode</th>\n",
       "      <td>False</td>\n",
       "    </tr>\n",
       "    <tr>\n",
       "      <th>Bad Expiration</th>\n",
       "      <td>False</td>\n",
       "    </tr>\n",
       "    <tr>\n",
       "      <th>Bad PIN</th>\n",
       "      <td>False</td>\n",
       "    </tr>\n",
       "    <tr>\n",
       "      <th>Bad CVV</th>\n",
       "      <td>False</td>\n",
       "    </tr>\n",
       "    <tr>\n",
       "      <th>tx_type_online</th>\n",
       "      <td>True</td>\n",
       "    </tr>\n",
       "    <tr>\n",
       "      <th>tx_type_swipe</th>\n",
       "      <td>False</td>\n",
       "    </tr>\n",
       "    <tr>\n",
       "      <th>card_brand_Discover</th>\n",
       "      <td>False</td>\n",
       "    </tr>\n",
       "    <tr>\n",
       "      <th>card_brand_Mastercard</th>\n",
       "      <td>True</td>\n",
       "    </tr>\n",
       "    <tr>\n",
       "      <th>card_brand_Visa</th>\n",
       "      <td>False</td>\n",
       "    </tr>\n",
       "    <tr>\n",
       "      <th>card_type_Debit</th>\n",
       "      <td>True</td>\n",
       "    </tr>\n",
       "    <tr>\n",
       "      <th>card_type_Debit (Prepaid)</th>\n",
       "      <td>False</td>\n",
       "    </tr>\n",
       "    <tr>\n",
       "      <th>gender_Male</th>\n",
       "      <td>True</td>\n",
       "    </tr>\n",
       "  </tbody>\n",
       "</table>\n",
       "</div>"
      ],
      "text/plain": [
       "                             3566505\n",
       "user                            1316\n",
       "card                               2\n",
       "amount                          8.84\n",
       "mcc                             5815\n",
       "is_fraud                       False\n",
       "has_chip                        True\n",
       "cards_issued                       2\n",
       "credit_limit                 13193.0\n",
       "latitude                       40.68\n",
       "longitude                     -75.22\n",
       "per_capita_income_zipcode    21005.0\n",
       "yearly_income_person         42831.0\n",
       "total_debt                   59948.0\n",
       "fico_score                       566\n",
       "num_credit_cards                   3\n",
       "home_city                      False\n",
       "home_state                     False\n",
       "home_zip                       False\n",
       "overseas                       False\n",
       "user_age                   64.191781\n",
       "retired                        False\n",
       "until_expired                   1466\n",
       "since_opened                    2214\n",
       "Bad Card Number                False\n",
       "Technical Glitch               False\n",
       "Insufficient Balance           False\n",
       "Bad Zipcode                    False\n",
       "Bad Expiration                 False\n",
       "Bad PIN                        False\n",
       "Bad CVV                        False\n",
       "tx_type_online                  True\n",
       "tx_type_swipe                  False\n",
       "card_brand_Discover            False\n",
       "card_brand_Mastercard           True\n",
       "card_brand_Visa                False\n",
       "card_type_Debit                 True\n",
       "card_type_Debit (Prepaid)      False\n",
       "gender_Male                     True"
      ]
     },
     "execution_count": 10,
     "metadata": {},
     "output_type": "execute_result"
    }
   ],
   "source": [
    "dummy_df = pd.get_dummies(dummy_df, drop_first=True)\n",
    "dummy_df.sample().T"
   ]
  },
  {
   "attachments": {},
   "cell_type": "markdown",
   "metadata": {},
   "source": [
    "TODO: deal with MCC codes"
   ]
  },
  {
   "attachments": {},
   "cell_type": "markdown",
   "metadata": {},
   "source": [
    "Training and test data"
   ]
  },
  {
   "cell_type": "code",
   "execution_count": 11,
   "metadata": {},
   "outputs": [
    {
     "data": {
      "text/plain": [
       "((3909902, 36), (1303301, 36), (3909902,), (1303301,))"
      ]
     },
     "execution_count": 11,
     "metadata": {},
     "output_type": "execute_result"
    }
   ],
   "source": [
    "X_train, X_test, y_train, y_test = train_test_split(dummy_df.drop(columns=['mcc', 'is_fraud']), dummy_df.is_fraud, random_state=10, stratify=dummy_df.is_fraud)\n",
    "X_train.shape, X_test.shape, y_train.shape, y_test.shape"
   ]
  },
  {
   "attachments": {},
   "cell_type": "markdown",
   "metadata": {},
   "source": [
    "## Logistic regression"
   ]
  },
  {
   "cell_type": "code",
   "execution_count": 12,
   "metadata": {},
   "outputs": [
    {
     "name": "stdout",
     "output_type": "stream",
     "text": [
      "[ 9.64543861e+02  1.36666776e+00  4.35697736e+01  8.82102927e-01\n",
      "  1.55065396e+00  1.52484051e+04  3.74994855e+01 -9.16847868e+01\n",
      "  2.40509967e+04  4.69325991e+04  5.64387827e+04  7.06028538e+02\n",
      "  3.72515833e+00  5.61498472e-01  7.99080386e-01  5.02623084e-01\n",
      "  6.55668608e-03  4.67785291e+01  1.40697644e-01  3.27419064e+03\n",
      "  2.18175197e+03  5.65998841e-04  2.00337502e-03  9.53297551e-03\n",
      "  9.30969625e-05  4.78272857e-04  2.35095406e-03  4.73924922e-04\n",
      "  1.16129765e-01  6.31324519e-01  3.51770965e-02  5.25221604e-01\n",
      "  3.52933910e-01  5.99463363e-01  7.22862108e-02  5.10897460e-01] [5.86729105e+02 1.32664700e+00 8.08953009e+01 3.22486206e-01\n",
      " 5.07893867e-01 1.14582572e+04 5.22517916e+00 1.54526038e+01\n",
      " 1.12416954e+04 2.37626140e+04 4.79500214e+04 6.77999748e+01\n",
      " 1.51635022e+00 4.96203525e-01 4.00688061e-01 4.99993119e-01\n",
      " 8.07074714e-02 1.59550630e+01 3.47709386e-01 1.95322913e+03\n",
      " 1.64919533e+03 2.37839964e-02 4.47142204e-02 9.71704579e-02\n",
      " 9.64822758e-03 2.18642199e-02 4.84296095e-02 2.17646575e-02\n",
      " 3.20380465e-01 4.82445718e-01 1.84227219e-01 4.99363466e-01\n",
      " 4.77882376e-01 4.90007183e-01 2.58961222e-01 4.99881231e-01]\n"
     ]
    }
   ],
   "source": [
    "scaler = StandardScaler()\n",
    "scaler.fit(X_train)\n",
    "print(scaler.mean_, scaler.scale_)"
   ]
  },
  {
   "cell_type": "code",
   "execution_count": 13,
   "metadata": {},
   "outputs": [],
   "source": [
    "X_train_z = (X_train - scaler.mean_) / scaler.scale_\n",
    "X_test_z = (X_test - scaler.mean_) / scaler.scale_"
   ]
  },
  {
   "cell_type": "code",
   "execution_count": 14,
   "metadata": {},
   "outputs": [
    {
     "ename": "",
     "evalue": "",
     "output_type": "error",
     "traceback": [
      "\u001b[1;31mCanceled future for execute_request message before replies were done"
     ]
    },
    {
     "ename": "",
     "evalue": "",
     "output_type": "error",
     "traceback": [
      "\u001b[1;31mThe Kernel crashed while executing code in the the current cell or a previous cell. Please review the code in the cell(s) to identify a possible cause of the failure. Click <a href='https://aka.ms/vscodeJupyterKernelCrash'>here</a> for more info. View Jupyter <a href='command:jupyter.viewOutput'>log</a> for further details."
     ]
    }
   ],
   "source": [
    "log_reg = LogisticRegression()\n",
    "log_reg.fit(X_train_z, y_train)"
   ]
  },
  {
   "cell_type": "code",
   "execution_count": 13,
   "metadata": {},
   "outputs": [
    {
     "ename": "",
     "evalue": "",
     "output_type": "error",
     "traceback": [
      "\u001b[1;31mCanceled future for execute_request message before replies were done"
     ]
    },
    {
     "ename": "",
     "evalue": "",
     "output_type": "error",
     "traceback": [
      "\u001b[1;31mThe Kernel crashed while executing code in the the current cell or a previous cell. Please review the code in the cell(s) to identify a possible cause of the failure. Click <a href='https://aka.ms/vscodeJupyterKernelCrash'>here</a> for more info. View Jupyter <a href='command:jupyter.viewOutput'>log</a> for further details."
     ]
    }
   ],
   "source": [
    "# baseline model with default values\n",
    "\n",
    "logit_pipe_default = make_pipeline(\n",
    "    StandardScaler(),\n",
    "    LogisticRegression()\n",
    ")\n",
    "\n",
    "logit_pipe_default.fit(X_train, y_train)\n",
    "y_pred_train = logit_pipe_default.predict(X_train)\n",
    "y_pred_test = logit_pipe_default.predict(X_test)\n",
    "print('Training:')\n",
    "print(classification_report(y_train, y_pred_train))\n",
    "print('Validation:')\n",
    "print(classification_report(y_test, y_pred_test))"
   ]
  }
 ],
 "metadata": {
  "kernelspec": {
   "display_name": "CreditCardFraud-EA29h7JT",
   "language": "python",
   "name": "python3"
  },
  "language_info": {
   "codemirror_mode": {
    "name": "ipython",
    "version": 3
   },
   "file_extension": ".py",
   "mimetype": "text/x-python",
   "name": "python",
   "nbconvert_exporter": "python",
   "pygments_lexer": "ipython3",
   "version": "3.9.16"
  },
  "orig_nbformat": 4
 },
 "nbformat": 4,
 "nbformat_minor": 2
}
