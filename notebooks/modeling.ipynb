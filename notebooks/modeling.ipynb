{
 "cells": [
  {
   "cell_type": "markdown",
   "metadata": {},
   "source": [
    "# Modeling"
   ]
  },
  {
   "cell_type": "code",
   "execution_count": 1,
   "metadata": {},
   "outputs": [],
   "source": [
    "import sys\n",
    "import pandas as pd\n",
    "import numpy as np\n",
    "from sklearn.preprocessing import StandardScaler\n",
    "from sklearn.pipeline import make_pipeline\n",
    "from sklearn.linear_model import LogisticRegression\n",
    "from sklearn.model_selection import train_test_split\n",
    "from sklearn.metrics import classification_report, confusion_matrix, PrecisionRecallDisplay, precision_recall_curve\n",
    "import seaborn as sns\n",
    "import matplotlib.pyplot as plt\n",
    "sys.path.append(\"../src\")\n",
    "import utils\n",
    "\n",
    "rng = np.random.default_rng(10)"
   ]
  },
  {
   "cell_type": "markdown",
   "metadata": {},
   "source": [
    "## 1. Preprocessing\n",
    "\n",
    "TODO:\n",
    "1. Join income and credit limit features from users data\n",
    "1. Calculate \"home city\", \"home state\", \"home country\", user age, and retired features\n",
    "1. Calculate card vintage and time to expiration features from card data\n",
    "1. **What to do with MCCs?** There are 109 of them: too many to just make dummies? Perhaps they could be grouped according to fraud rates, though this would need to be done using only training data.\n",
    "1. 70/30 train/test split. Because there are user-level measures, I think there is a need to avoid contamination. Also, this will be definitely necessary for alternative modeling methods that explicitly consider the user level."
   ]
  },
  {
   "cell_type": "markdown",
   "metadata": {},
   "source": [
    "Transactions"
   ]
  },
  {
   "cell_type": "code",
   "execution_count": 2,
   "metadata": {},
   "outputs": [
    {
     "name": "stdout",
     "output_type": "stream",
     "text": [
      "<class 'pandas.core.frame.DataFrame'>\n",
      "Index: 5214807 entries, 28882 to 24270533\n",
      "Data columns (total 11 columns):\n",
      " #   Column          Dtype         \n",
      "---  ------          -----         \n",
      " 0   user            int64         \n",
      " 1   card            int64         \n",
      " 2   amount          float64       \n",
      " 3   merchant_city   object        \n",
      " 4   merchant_state  object        \n",
      " 5   zip             float64       \n",
      " 6   mcc             int64         \n",
      " 7   errors          object        \n",
      " 8   is_fraud        bool          \n",
      " 9   timestamp       datetime64[ns]\n",
      " 10  tx_type         object        \n",
      "dtypes: bool(1), datetime64[ns](1), float64(2), int64(3), object(4)\n",
      "memory usage: 442.6+ MB\n",
      "None\n"
     ]
    }
   ],
   "source": [
    "tx_data = pd.read_csv(\n",
    "    utils.prepend_dir('tx_sample.csv'),\n",
    "    index_col=0,\n",
    "    parse_dates=['timestamp']\n",
    ")\n",
    "# tx_data.drop(['year', 'month', 'day', 'time', 'merchant_name', 'use_chip'], axis=1, inplace=True)\n",
    "print(tx_data.info())"
   ]
  },
  {
   "cell_type": "markdown",
   "metadata": {},
   "source": [
    "Cards"
   ]
  },
  {
   "cell_type": "code",
   "execution_count": 3,
   "metadata": {},
   "outputs": [
    {
     "name": "stdout",
     "output_type": "stream",
     "text": [
      "<class 'pandas.core.frame.DataFrame'>\n",
      "Index: 1241 entries, 10 to 6109\n",
      "Data columns (total 18 columns):\n",
      " #   Column                 Non-Null Count  Dtype         \n",
      "---  ------                 --------------  -----         \n",
      " 0   user                   1241 non-null   int64         \n",
      " 1   card_index             1241 non-null   int64         \n",
      " 2   card_brand             1241 non-null   object        \n",
      " 3   card_type              1241 non-null   object        \n",
      " 4   card_number            1241 non-null   int64         \n",
      " 5   expires                1241 non-null   datetime64[ns]\n",
      " 6   cvv                    1241 non-null   int64         \n",
      " 7   has_chip               1241 non-null   bool          \n",
      " 8   cards_issued           1241 non-null   int64         \n",
      " 9   credit_limit           1241 non-null   float64       \n",
      " 10  acct_open_date         1241 non-null   datetime64[ns]\n",
      " 11  year_pin_last_changed  1241 non-null   int64         \n",
      " 12  num_transactions       1241 non-null   int64         \n",
      " 13  total_tx_amount        1241 non-null   float64       \n",
      " 14  fraud_rate             1241 non-null   float64       \n",
      " 15  chip_rate              1241 non-null   float64       \n",
      " 16  online_rate            1241 non-null   float64       \n",
      " 17  swipe_rate             1241 non-null   float64       \n",
      "dtypes: bool(1), datetime64[ns](2), float64(6), int64(7), object(2)\n",
      "memory usage: 175.7+ KB\n",
      "None\n"
     ]
    }
   ],
   "source": [
    "card_data = pd.read_csv(\n",
    "    utils.prepend_dir('cards_sample.csv'), \n",
    "    index_col=0, \n",
    "    parse_dates=['expires', 'acct_open_date']\n",
    ")\n",
    "print(card_data.info())\n",
    "card_cols = ['user', 'card_index', 'card_brand', 'card_type', 'expires', 'has_chip', 'cards_issued', 'credit_limit', 'acct_open_date']"
   ]
  },
  {
   "cell_type": "markdown",
   "metadata": {},
   "source": [
    "Users"
   ]
  },
  {
   "cell_type": "code",
   "execution_count": 4,
   "metadata": {},
   "outputs": [
    {
     "name": "stdout",
     "output_type": "stream",
     "text": [
      "<class 'pandas.core.frame.DataFrame'>\n",
      "Index: 400 entries, 2 to 1987\n",
      "Data columns (total 21 columns):\n",
      " #   Column                     Non-Null Count  Dtype         \n",
      "---  ------                     --------------  -----         \n",
      " 0   person                     400 non-null    object        \n",
      " 1   current_age                400 non-null    int64         \n",
      " 2   retirement_age             400 non-null    int64         \n",
      " 3   birth_year                 400 non-null    int64         \n",
      " 4   birth_month                400 non-null    int64         \n",
      " 5   gender                     400 non-null    object        \n",
      " 6   address                    400 non-null    object        \n",
      " 7   apartment                  102 non-null    float64       \n",
      " 8   city                       400 non-null    object        \n",
      " 9   state                      400 non-null    object        \n",
      " 10  zipcode                    400 non-null    int64         \n",
      " 11  latitude                   400 non-null    float64       \n",
      " 12  longitude                  400 non-null    float64       \n",
      " 13  per_capita_income_zipcode  400 non-null    float64       \n",
      " 14  yearly_income_person       400 non-null    float64       \n",
      " 15  total_debt                 400 non-null    float64       \n",
      " 16  fico_score                 400 non-null    int64         \n",
      " 17  num_credit_cards           400 non-null    int64         \n",
      " 18  fraud_rate                 400 non-null    float64       \n",
      " 19  total_credit_limit         400 non-null    float64       \n",
      " 20  birthdate                  400 non-null    datetime64[ns]\n",
      "dtypes: datetime64[ns](1), float64(8), int64(7), object(5)\n",
      "memory usage: 68.8+ KB\n",
      "None\n"
     ]
    }
   ],
   "source": [
    "user_data = pd.read_csv(\n",
    "    utils.prepend_dir('users_sample.csv'),\n",
    "    index_col=0\n",
    ")\n",
    "user_data['birthdate'] = pd.to_datetime({\n",
    "    'year': user_data.birth_year, \n",
    "    'month': user_data.birth_month, \n",
    "    'day':1\n",
    "})\n",
    "print(user_data.info())\n",
    "user_cols = ['birthdate', 'retirement_age', 'gender' ,'city', 'state', 'zipcode', 'latitude', 'longitude', 'per_capita_income_zipcode', 'yearly_income_person', 'total_debt', 'fico_score', 'num_credit_cards']"
   ]
  },
  {
   "cell_type": "markdown",
   "metadata": {},
   "source": [
    "Merging data"
   ]
  },
  {
   "cell_type": "code",
   "execution_count": 5,
   "metadata": {},
   "outputs": [
    {
     "name": "stdout",
     "output_type": "stream",
     "text": [
      "<class 'pandas.core.frame.DataFrame'>\n",
      "Index: 5214807 entries, 0 to 5214806\n",
      "Data columns (total 29 columns):\n",
      " #   Column                     Dtype         \n",
      "---  ------                     -----         \n",
      " 0   amount                     float64       \n",
      " 1   merchant_city              object        \n",
      " 2   merchant_state             object        \n",
      " 3   zip                        float64       \n",
      " 4   mcc                        int64         \n",
      " 5   errors                     object        \n",
      " 6   is_fraud                   bool          \n",
      " 7   timestamp                  datetime64[ns]\n",
      " 8   tx_type                    object        \n",
      " 9   card_brand                 object        \n",
      " 10  card_type                  object        \n",
      " 11  expires                    datetime64[ns]\n",
      " 12  has_chip                   bool          \n",
      " 13  cards_issued               int64         \n",
      " 14  credit_limit               float64       \n",
      " 15  acct_open_date             datetime64[ns]\n",
      " 16  birthdate                  datetime64[ns]\n",
      " 17  retirement_age             int64         \n",
      " 18  gender                     object        \n",
      " 19  city                       object        \n",
      " 20  state                      object        \n",
      " 21  zipcode                    int64         \n",
      " 22  latitude                   float64       \n",
      " 23  longitude                  float64       \n",
      " 24  per_capita_income_zipcode  float64       \n",
      " 25  yearly_income_person       float64       \n",
      " 26  total_debt                 float64       \n",
      " 27  fico_score                 int64         \n",
      " 28  num_credit_cards           int64         \n",
      "dtypes: bool(2), datetime64[ns](4), float64(8), int64(6), object(9)\n",
      "memory usage: 1.1+ GB\n",
      "None\n"
     ]
    }
   ],
   "source": [
    "merged_df = (tx_data\n",
    "    .merge(\n",
    "        card_data[card_cols],\n",
    "        left_on=['user', 'card'],\n",
    "        right_on=['user', 'card_index'])\n",
    "    .merge(user_data[user_cols],\n",
    "        left_on='user',\n",
    "        right_index=True)\n",
    "    .drop(columns=['card_index', 'card', 'user'])\n",
    ")\n",
    "\n",
    "print(merged_df.info())\n",
    "\n",
    "# there's enought data that memory is a constraint\n",
    "del tx_data\n",
    "del user_data\n",
    "del card_data"
   ]
  },
  {
   "cell_type": "markdown",
   "metadata": {},
   "source": [
    "Constructing features"
   ]
  },
  {
   "cell_type": "code",
   "execution_count": 6,
   "metadata": {},
   "outputs": [],
   "source": [
    "# location-based features\n",
    "merged_df['home_city'] = (merged_df.city == merged_df.merchant_city) & (merged_df.state == merged_df.merchant_state)\n",
    "merged_df['home_state'] = merged_df.state == merged_df.merchant_state\n",
    "merged_df['home_zip'] = merged_df.zip == merged_df.zipcode\n",
    "merged_df['overseas'] = (merged_df.tx_type != 'online') & merged_df.zip.isna()\n",
    "merged_df = merged_df[~(merged_df.merchant_state.isna() & (merged_df.tx_type != 'online'))]"
   ]
  },
  {
   "cell_type": "code",
   "execution_count": 7,
   "metadata": {},
   "outputs": [],
   "source": [
    "# time-based features\n",
    "merged_df['user_age'] = (merged_df.timestamp - merged_df.birthdate).dt.days/365\n",
    "merged_df['retired'] = merged_df.user_age >= merged_df.retirement_age\n",
    "merged_df['until_expired'] = (merged_df.expires - merged_df.timestamp).dt.days\n",
    "merged_df['since_opened'] = (merged_df.timestamp - merged_df.acct_open_date).dt.days"
   ]
  },
  {
   "cell_type": "code",
   "execution_count": 8,
   "metadata": {},
   "outputs": [],
   "source": [
    "# dropping unneeded columns\n",
    "redundant_cols = ['merchant_city', 'merchant_state', 'zip', 'city', 'state', 'zipcode', 'birthdate', 'retirement_age', 'expires', 'acct_open_date', 'timestamp']\n",
    "merged_df.drop(columns=redundant_cols, inplace=True)"
   ]
  },
  {
   "cell_type": "markdown",
   "metadata": {},
   "source": [
    "Converting categories to dummies"
   ]
  },
  {
   "cell_type": "code",
   "execution_count": 9,
   "metadata": {},
   "outputs": [
    {
     "name": "stdout",
     "output_type": "stream",
     "text": [
      "                                       Bad Expiration  Bad Card Number   \n",
      "errors                                                                   \n",
      "Bad CVV                                             0                0  \\\n",
      "Bad CVV,Insufficient Balance                        0                0   \n",
      "Bad CVV,Technical Glitch                            0                0   \n",
      "Bad Card Number                                     0             2883   \n",
      "Bad Card Number,Bad CVV                             0               12   \n",
      "Bad Card Number,Bad Expiration                      6                6   \n",
      "Bad Card Number,Insufficient Balance                0               24   \n",
      "Bad Card Number,Technical Glitch                    0                8   \n",
      "Bad Expiration                                   2404                0   \n",
      "Bad Expiration,Bad CVV                             14                0   \n",
      "Bad Expiration,Insufficient Balance                19                0   \n",
      "Bad Expiration,Technical Glitch                     9                0   \n",
      "Bad PIN                                             0                0   \n",
      "Bad PIN,Insufficient Balance                        0                0   \n",
      "Bad PIN,Technical Glitch                            0                0   \n",
      "Bad Zipcode                                         0                0   \n",
      "Bad Zipcode,Insufficient Balance                    0                0   \n",
      "Bad Zipcode,Technical Glitch                        0                0   \n",
      "Insufficient Balance                                0                0   \n",
      "Insufficient Balance,Technical Glitch               0                0   \n",
      "Technical Glitch                                    0                0   \n",
      "\n",
      "                                       Technical Glitch  Bad CVV  Bad PIN   \n",
      "errors                                                                      \n",
      "Bad CVV                                               0     2455        0  \\\n",
      "Bad CVV,Insufficient Balance                          0       23        0   \n",
      "Bad CVV,Technical Glitch                              5        5        0   \n",
      "Bad Card Number                                       0        0        0   \n",
      "Bad Card Number,Bad CVV                               0       12        0   \n",
      "Bad Card Number,Bad Expiration                        0        0        0   \n",
      "Bad Card Number,Insufficient Balance                  0        0        0   \n",
      "Bad Card Number,Technical Glitch                      8        0        0   \n",
      "Bad Expiration                                        0        0        0   \n",
      "Bad Expiration,Bad CVV                                0       14        0   \n",
      "Bad Expiration,Insufficient Balance                   0        0        0   \n",
      "Bad Expiration,Technical Glitch                       9        0        0   \n",
      "Bad PIN                                               0        0    12175   \n",
      "Bad PIN,Insufficient Balance                          0        0       93   \n",
      "Bad PIN,Technical Glitch                             28        0       28   \n",
      "Bad Zipcode                                           0        0        0   \n",
      "Bad Zipcode,Insufficient Balance                      0        0        0   \n",
      "Bad Zipcode,Technical Glitch                          2        0        0   \n",
      "Insufficient Balance                                  0        0        0   \n",
      "Insufficient Balance,Technical Glitch                86        0        0   \n",
      "Technical Glitch                                  10322        0        0   \n",
      "\n",
      "                                       Bad Zipcode  Insufficient Balance  \n",
      "errors                                                                    \n",
      "Bad CVV                                          0                     0  \n",
      "Bad CVV,Insufficient Balance                     0                    23  \n",
      "Bad CVV,Technical Glitch                         0                     0  \n",
      "Bad Card Number                                  0                     0  \n",
      "Bad Card Number,Bad CVV                          0                     0  \n",
      "Bad Card Number,Bad Expiration                   0                     0  \n",
      "Bad Card Number,Insufficient Balance             0                    24  \n",
      "Bad Card Number,Technical Glitch                 0                     0  \n",
      "Bad Expiration                                   0                     0  \n",
      "Bad Expiration,Bad CVV                           0                     0  \n",
      "Bad Expiration,Insufficient Balance              0                    19  \n",
      "Bad Expiration,Technical Glitch                  0                     0  \n",
      "Bad PIN                                          0                     0  \n",
      "Bad PIN,Insufficient Balance                     0                    93  \n",
      "Bad PIN,Technical Glitch                         0                     0  \n",
      "Bad Zipcode                                    497                     0  \n",
      "Bad Zipcode,Insufficient Balance                 2                     2  \n",
      "Bad Zipcode,Technical Glitch                     2                     0  \n",
      "Insufficient Balance                             0                 49535  \n",
      "Insufficient Balance,Technical Glitch            0                    86  \n",
      "Technical Glitch                                 0                     0  \n"
     ]
    }
   ],
   "source": [
    "dummy_df = merged_df.copy()\n",
    "\n",
    "errors = set()\n",
    "for entry in merged_df.errors.dropna().unique().tolist():\n",
    "    for error in entry.split(','):\n",
    "        errors.add(error)\n",
    "for error in list(errors):\n",
    "    dummy_df[error] = dummy_df.errors.str.contains(error).fillna(False)\n",
    "print(dummy_df.groupby('errors').agg({error:'sum' for error in errors}))\n",
    "dummy_df.drop(columns='errors', inplace=True)"
   ]
  },
  {
   "cell_type": "code",
   "execution_count": 10,
   "metadata": {},
   "outputs": [
    {
     "data": {
      "text/html": [
       "<div>\n",
       "<style scoped>\n",
       "    .dataframe tbody tr th:only-of-type {\n",
       "        vertical-align: middle;\n",
       "    }\n",
       "\n",
       "    .dataframe tbody tr th {\n",
       "        vertical-align: top;\n",
       "    }\n",
       "\n",
       "    .dataframe thead th {\n",
       "        text-align: right;\n",
       "    }\n",
       "</style>\n",
       "<table border=\"1\" class=\"dataframe\">\n",
       "  <thead>\n",
       "    <tr style=\"text-align: right;\">\n",
       "      <th></th>\n",
       "      <th>2818704</th>\n",
       "    </tr>\n",
       "  </thead>\n",
       "  <tbody>\n",
       "    <tr>\n",
       "      <th>amount</th>\n",
       "      <td>6.43</td>\n",
       "    </tr>\n",
       "    <tr>\n",
       "      <th>mcc</th>\n",
       "      <td>5411</td>\n",
       "    </tr>\n",
       "    <tr>\n",
       "      <th>is_fraud</th>\n",
       "      <td>False</td>\n",
       "    </tr>\n",
       "    <tr>\n",
       "      <th>has_chip</th>\n",
       "      <td>True</td>\n",
       "    </tr>\n",
       "    <tr>\n",
       "      <th>cards_issued</th>\n",
       "      <td>2</td>\n",
       "    </tr>\n",
       "    <tr>\n",
       "      <th>credit_limit</th>\n",
       "      <td>13390.0</td>\n",
       "    </tr>\n",
       "    <tr>\n",
       "      <th>latitude</th>\n",
       "      <td>35.32</td>\n",
       "    </tr>\n",
       "    <tr>\n",
       "      <th>longitude</th>\n",
       "      <td>-82.46</td>\n",
       "    </tr>\n",
       "    <tr>\n",
       "      <th>per_capita_income_zipcode</th>\n",
       "      <td>13634.0</td>\n",
       "    </tr>\n",
       "    <tr>\n",
       "      <th>yearly_income_person</th>\n",
       "      <td>23993.0</td>\n",
       "    </tr>\n",
       "    <tr>\n",
       "      <th>total_debt</th>\n",
       "      <td>2573.0</td>\n",
       "    </tr>\n",
       "    <tr>\n",
       "      <th>fico_score</th>\n",
       "      <td>714</td>\n",
       "    </tr>\n",
       "    <tr>\n",
       "      <th>num_credit_cards</th>\n",
       "      <td>5</td>\n",
       "    </tr>\n",
       "    <tr>\n",
       "      <th>home_city</th>\n",
       "      <td>False</td>\n",
       "    </tr>\n",
       "    <tr>\n",
       "      <th>home_state</th>\n",
       "      <td>False</td>\n",
       "    </tr>\n",
       "    <tr>\n",
       "      <th>home_zip</th>\n",
       "      <td>False</td>\n",
       "    </tr>\n",
       "    <tr>\n",
       "      <th>overseas</th>\n",
       "      <td>False</td>\n",
       "    </tr>\n",
       "    <tr>\n",
       "      <th>user_age</th>\n",
       "      <td>62.89589</td>\n",
       "    </tr>\n",
       "    <tr>\n",
       "      <th>retired</th>\n",
       "      <td>False</td>\n",
       "    </tr>\n",
       "    <tr>\n",
       "      <th>until_expired</th>\n",
       "      <td>2304</td>\n",
       "    </tr>\n",
       "    <tr>\n",
       "      <th>since_opened</th>\n",
       "      <td>2199</td>\n",
       "    </tr>\n",
       "    <tr>\n",
       "      <th>Bad Expiration</th>\n",
       "      <td>False</td>\n",
       "    </tr>\n",
       "    <tr>\n",
       "      <th>Bad Card Number</th>\n",
       "      <td>False</td>\n",
       "    </tr>\n",
       "    <tr>\n",
       "      <th>Technical Glitch</th>\n",
       "      <td>False</td>\n",
       "    </tr>\n",
       "    <tr>\n",
       "      <th>Bad CVV</th>\n",
       "      <td>False</td>\n",
       "    </tr>\n",
       "    <tr>\n",
       "      <th>Bad PIN</th>\n",
       "      <td>False</td>\n",
       "    </tr>\n",
       "    <tr>\n",
       "      <th>Bad Zipcode</th>\n",
       "      <td>False</td>\n",
       "    </tr>\n",
       "    <tr>\n",
       "      <th>Insufficient Balance</th>\n",
       "      <td>False</td>\n",
       "    </tr>\n",
       "    <tr>\n",
       "      <th>tx_type_online</th>\n",
       "      <td>False</td>\n",
       "    </tr>\n",
       "    <tr>\n",
       "      <th>tx_type_swipe</th>\n",
       "      <td>True</td>\n",
       "    </tr>\n",
       "    <tr>\n",
       "      <th>card_brand_Discover</th>\n",
       "      <td>False</td>\n",
       "    </tr>\n",
       "    <tr>\n",
       "      <th>card_brand_Mastercard</th>\n",
       "      <td>False</td>\n",
       "    </tr>\n",
       "    <tr>\n",
       "      <th>card_brand_Visa</th>\n",
       "      <td>True</td>\n",
       "    </tr>\n",
       "    <tr>\n",
       "      <th>card_type_Debit</th>\n",
       "      <td>True</td>\n",
       "    </tr>\n",
       "    <tr>\n",
       "      <th>card_type_Debit (Prepaid)</th>\n",
       "      <td>False</td>\n",
       "    </tr>\n",
       "    <tr>\n",
       "      <th>gender_Male</th>\n",
       "      <td>True</td>\n",
       "    </tr>\n",
       "  </tbody>\n",
       "</table>\n",
       "</div>"
      ],
      "text/plain": [
       "                            2818704\n",
       "amount                         6.43\n",
       "mcc                            5411\n",
       "is_fraud                      False\n",
       "has_chip                       True\n",
       "cards_issued                      2\n",
       "credit_limit                13390.0\n",
       "latitude                      35.32\n",
       "longitude                    -82.46\n",
       "per_capita_income_zipcode   13634.0\n",
       "yearly_income_person        23993.0\n",
       "total_debt                   2573.0\n",
       "fico_score                      714\n",
       "num_credit_cards                  5\n",
       "home_city                     False\n",
       "home_state                    False\n",
       "home_zip                      False\n",
       "overseas                      False\n",
       "user_age                   62.89589\n",
       "retired                       False\n",
       "until_expired                  2304\n",
       "since_opened                   2199\n",
       "Bad Expiration                False\n",
       "Bad Card Number               False\n",
       "Technical Glitch              False\n",
       "Bad CVV                       False\n",
       "Bad PIN                       False\n",
       "Bad Zipcode                   False\n",
       "Insufficient Balance          False\n",
       "tx_type_online                False\n",
       "tx_type_swipe                  True\n",
       "card_brand_Discover           False\n",
       "card_brand_Mastercard         False\n",
       "card_brand_Visa                True\n",
       "card_type_Debit                True\n",
       "card_type_Debit (Prepaid)     False\n",
       "gender_Male                    True"
      ]
     },
     "execution_count": 10,
     "metadata": {},
     "output_type": "execute_result"
    }
   ],
   "source": [
    "dummy_df = pd.get_dummies(dummy_df, drop_first=True)\n",
    "dummy_df.sample().T"
   ]
  },
  {
   "cell_type": "markdown",
   "metadata": {},
   "source": [
    "TODO: deal with MCC codes"
   ]
  },
  {
   "cell_type": "markdown",
   "metadata": {},
   "source": [
    "Training and test data"
   ]
  },
  {
   "cell_type": "code",
   "execution_count": 11,
   "metadata": {},
   "outputs": [
    {
     "data": {
      "text/plain": [
       "((3909902, 34), (1303301, 34), (3909902,), (1303301,))"
      ]
     },
     "execution_count": 11,
     "metadata": {},
     "output_type": "execute_result"
    }
   ],
   "source": [
    "X_train, X_test, y_train, y_test = train_test_split(dummy_df.drop(columns=['mcc', 'is_fraud']), dummy_df.is_fraud, random_state=10, stratify=dummy_df.is_fraud)\n",
    "X_train.shape, X_test.shape, y_train.shape, y_test.shape"
   ]
  },
  {
   "attachments": {},
   "cell_type": "markdown",
   "metadata": {},
   "source": [
    "## Model assessment"
   ]
  },
  {
   "cell_type": "code",
   "execution_count": 18,
   "metadata": {},
   "outputs": [],
   "source": [
    "def assess_model(model, name, X_train, X_test, y_train, y_test):\n",
    "    model.fit(X_train, y_train)\n",
    "    y_pred_train = model.predict(X_train)\n",
    "    y_pred_test = model.predict(X_test)\n",
    "    \n",
    "    # print metrics\n",
    "    print('Training:')\n",
    "    print(classification_report(y_train, y_pred_train))\n",
    "    print('Validation:')\n",
    "    print(classification_report(y_test, y_pred_test))\n",
    "\n",
    "    # precision-recall plot\n",
    "    _ = PrecisionRecallDisplay.from_estimator(model, X_test, y_test)\n",
    "    plt.axhline(0.01, color='red');\n",
    "    plt.axis([0.5, 1., 0., 0.2]);\n",
    "    plt.legend(loc='upper right');\n",
    "    plt.title(f\"Precision-Recall Curve for {name}\");\n",
    "    \n",
    "    # save precision-recall table\n",
    "    test_fraud_prob = model.predict_proba(X_test)[:,1]\n",
    "    precision, recall, thresholds = precision_recall_curve(y_test, test_fraud_prob)\n",
    "    return pd.DataFrame({\n",
    "        'precision':precision[:-1],\n",
    "        'recall': recall[:-1]},\n",
    "        index=thresholds\n",
    "    )"
   ]
  },
  {
   "cell_type": "markdown",
   "metadata": {},
   "source": [
    "## Logistic regression"
   ]
  },
  {
   "cell_type": "code",
   "execution_count": 12,
   "metadata": {},
   "outputs": [
    {
     "name": "stderr",
     "output_type": "stream",
     "text": [
      "/home/mark/.local/share/virtualenvs/CreditCardFraud-EA29h7JT/lib/python3.9/site-packages/sklearn/linear_model/_logistic.py:458: ConvergenceWarning: lbfgs failed to converge (status=1):\n",
      "STOP: TOTAL NO. of ITERATIONS REACHED LIMIT.\n",
      "\n",
      "Increase the number of iterations (max_iter) or scale the data as shown in:\n",
      "    https://scikit-learn.org/stable/modules/preprocessing.html\n",
      "Please also refer to the documentation for alternative solver options:\n",
      "    https://scikit-learn.org/stable/modules/linear_model.html#logistic-regression\n",
      "  n_iter_i = _check_optimize_result(\n"
     ]
    },
    {
     "name": "stdout",
     "output_type": "stream",
     "text": [
      "Training:\n",
      "              precision    recall  f1-score   support\n",
      "\n",
      "       False       1.00      1.00      1.00   3905365\n",
      "        True       0.31      0.00      0.00      4537\n",
      "\n",
      "    accuracy                           1.00   3909902\n",
      "   macro avg       0.65      0.50      0.50   3909902\n",
      "weighted avg       1.00      1.00      1.00   3909902\n",
      "\n",
      "Validation:\n",
      "              precision    recall  f1-score   support\n",
      "\n",
      "       False       1.00      1.00      1.00   1301789\n",
      "        True       0.55      0.00      0.01      1512\n",
      "\n",
      "    accuracy                           1.00   1303301\n",
      "   macro avg       0.77      0.50      0.50   1303301\n",
      "weighted avg       1.00      1.00      1.00   1303301\n",
      "\n"
     ]
    }
   ],
   "source": [
    "# baseline model with default values\n",
    "\n",
    "logit_pipe_default = make_pipeline(\n",
    "    StandardScaler(),\n",
    "    LogisticRegression()\n",
    ")\n",
    "\n",
    "assess_model(\n",
    "    logit_pipe_default,\n",
    "    'Logistic Regression with Defaults',\n",
    "    X_train,\n",
    "    X_test,\n",
    "    y_train,\n",
    "    y_test\n",
    ")\n",
    "\n",
    "# logit_pipe_default.fit(X_train, y_train)\n",
    "# y_pred_train = logit_pipe_default.predict(X_train)\n",
    "# y_pred_test = logit_pipe_default.predict(X_test)\n",
    "# print('Training:')\n",
    "# print(classification_report(y_train, y_pred_train))\n",
    "# print('Validation:')\n",
    "# print(classification_report(y_test, y_pred_test))"
   ]
  },
  {
   "cell_type": "code",
   "execution_count": 13,
   "metadata": {},
   "outputs": [],
   "source": [
    "# train_fraud_prob = logit_pipe_default.predict_proba(X_train)[:,1]\n",
    "# test_fraud_prob = logit_pipe_default.predict_proba(X_test)[:,1]"
   ]
  },
  {
   "cell_type": "code",
   "execution_count": 14,
   "metadata": {},
   "outputs": [
    {
     "data": {
      "text/html": [
       "<div>\n",
       "<style scoped>\n",
       "    .dataframe tbody tr th:only-of-type {\n",
       "        vertical-align: middle;\n",
       "    }\n",
       "\n",
       "    .dataframe tbody tr th {\n",
       "        vertical-align: top;\n",
       "    }\n",
       "\n",
       "    .dataframe thead th {\n",
       "        text-align: right;\n",
       "    }\n",
       "</style>\n",
       "<table border=\"1\" class=\"dataframe\">\n",
       "  <thead>\n",
       "    <tr style=\"text-align: right;\">\n",
       "      <th></th>\n",
       "      <th>precision</th>\n",
       "      <th>recall</th>\n",
       "    </tr>\n",
       "  </thead>\n",
       "  <tbody>\n",
       "    <tr>\n",
       "      <th>0.008286</th>\n",
       "      <td>0.022842</td>\n",
       "      <td>0.500661</td>\n",
       "    </tr>\n",
       "    <tr>\n",
       "      <th>0.008286</th>\n",
       "      <td>0.022843</td>\n",
       "      <td>0.500661</td>\n",
       "    </tr>\n",
       "    <tr>\n",
       "      <th>0.008286</th>\n",
       "      <td>0.022844</td>\n",
       "      <td>0.500661</td>\n",
       "    </tr>\n",
       "    <tr>\n",
       "      <th>0.008286</th>\n",
       "      <td>0.022845</td>\n",
       "      <td>0.500661</td>\n",
       "    </tr>\n",
       "    <tr>\n",
       "      <th>0.008286</th>\n",
       "      <td>0.022845</td>\n",
       "      <td>0.500661</td>\n",
       "    </tr>\n",
       "  </tbody>\n",
       "</table>\n",
       "</div>"
      ],
      "text/plain": [
       "          precision    recall\n",
       "0.008286   0.022842  0.500661\n",
       "0.008286   0.022843  0.500661\n",
       "0.008286   0.022844  0.500661\n",
       "0.008286   0.022845  0.500661\n",
       "0.008286   0.022845  0.500661"
      ]
     },
     "execution_count": 14,
     "metadata": {},
     "output_type": "execute_result"
    }
   ],
   "source": [
    "# precision, recall, thresholds = precision_recall_curve(y_test, test_fraud_prob)\n",
    "# logit_default_prc = pd.DataFrame({\n",
    "#     'precision':precision[:-1],\n",
    "#     'recall': recall[:-1]},\n",
    "#     index=thresholds\n",
    "# )\n",
    "# logit_default_prc[logit_default_prc.recall>.5].tail()"
   ]
  },
  {
   "cell_type": "code",
   "execution_count": 15,
   "metadata": {},
   "outputs": [
    {
     "data": {
      "image/png": "[encoded data removed]",
      "text/plain": [
       "<Figure size 640x480 with 1 Axes>"
      ]
     },
     "metadata": {},
     "output_type": "display_data"
    }
   ],
   "source": [
    "# prc_display = PrecisionRecallDisplay.from_estimator(logit_pipe_default, X_test, y_test)\n",
    "# plt.axhline(0.01, color='red');\n",
    "# plt.axis([0.5, 1., 0., 0.2]);\n",
    "# plt.legend(loc='upper right');\n",
    "# plt.title(\"Precision-Recall Curve for Default Logistic Regression\");"
   ]
  },
  {
   "attachments": {},
   "cell_type": "markdown",
   "metadata": {},
   "source": [
    "With such an imbalanced data set, it is not surprising that the model gives very few transactions a majority probability of being fradulent. We can consider whether the model is at all better than pure than guessing by looking at the precision-recall curve, which shows it is better, but not by much. To catch about half of fraudulent transaction, a threshold of <1% is needed. At that level, over 40 legitimate transactions would be flagged as fraudulent."
   ]
  },
  {
   "attachments": {},
   "cell_type": "markdown",
   "metadata": {},
   "source": [
    "The SAG solver is said to be better for larger samples."
   ]
  },
  {
   "cell_type": "code",
   "execution_count": 12,
   "metadata": {},
   "outputs": [
    {
     "name": "stderr",
     "output_type": "stream",
     "text": [
      "/home/mark/.local/share/virtualenvs/CreditCardFraud-EA29h7JT/lib/python3.9/site-packages/sklearn/linear_model/_sag.py:350: ConvergenceWarning: The max_iter was reached which means the coef_ did not converge\n",
      "  warnings.warn(\n"
     ]
    },
    {
     "name": "stdout",
     "output_type": "stream",
     "text": [
      "Training:\n",
      "              precision    recall  f1-score   support\n",
      "\n",
      "       False       1.00      1.00      1.00   3905365\n",
      "        True       0.32      0.00      0.01      4537\n",
      "\n",
      "    accuracy                           1.00   3909902\n",
      "   macro avg       0.66      0.50      0.50   3909902\n",
      "weighted avg       1.00      1.00      1.00   3909902\n",
      "\n",
      "Validation:\n",
      "              precision    recall  f1-score   support\n",
      "\n",
      "       False       1.00      1.00      1.00   1301789\n",
      "        True       0.55      0.00      0.01      1512\n",
      "\n",
      "    accuracy                           1.00   1303301\n",
      "   macro avg       0.77      0.50      0.50   1303301\n",
      "weighted avg       1.00      1.00      1.00   1303301\n",
      "\n"
     ]
    },
    {
     "ename": "NameError",
     "evalue": "name 'logit_pipe_default' is not defined",
     "output_type": "error",
     "traceback": [
      "\u001b[0;31m---------------------------------------------------------------------------\u001b[0m",
      "\u001b[0;31mNameError\u001b[0m                                 Traceback (most recent call last)",
      "Cell \u001b[0;32mIn[12], line 13\u001b[0m\n\u001b[1;32m     11\u001b[0m \u001b[39mprint\u001b[39m(\u001b[39m'\u001b[39m\u001b[39mValidation:\u001b[39m\u001b[39m'\u001b[39m)\n\u001b[1;32m     12\u001b[0m \u001b[39mprint\u001b[39m(classification_report(y_test, y_pred_test))\n\u001b[0;32m---> 13\u001b[0m prc_display \u001b[39m=\u001b[39m PrecisionRecallDisplay\u001b[39m.\u001b[39mfrom_estimator(logit_pipe_default, X_test, y_test)\n\u001b[1;32m     14\u001b[0m plt\u001b[39m.\u001b[39maxhline(\u001b[39m0.01\u001b[39m);\n\u001b[1;32m     15\u001b[0m plt\u001b[39m.\u001b[39maxis([\u001b[39m0.5\u001b[39m, \u001b[39m1.\u001b[39m, \u001b[39m0.\u001b[39m, \u001b[39m0.2\u001b[39m]);\n",
      "\u001b[0;31mNameError\u001b[0m: name 'logit_pipe_default' is not defined"
     ]
    }
   ],
   "source": [
    "logit_pipe_sag = make_pipeline(\n",
    "    StandardScaler(),\n",
    "    LogisticRegression(solver='sag')\n",
    ")\n",
    "\n",
    "logit_pipe_sag.fit(X_train, y_train)\n",
    "y_pred_train = logit_pipe_sag.predict(X_train)\n",
    "y_pred_test = logit_pipe_sag.predict(X_test)\n",
    "print('Training:')\n",
    "print(classification_report(y_train, y_pred_train))\n",
    "print('Validation:')\n",
    "print(classification_report(y_test, y_pred_test))\n",
    "prc_display = PrecisionRecallDisplay.from_estimator(logit_pipe_sag, X_test, y_test)\n",
    "plt.axhline(0.01);\n",
    "plt.axis([0.5, 1., 0., 0.2]);\n",
    "plt.legend(loc='upper right');\n",
    "plt.title(\"Precision-Recall Curve for Logistic Regression with SAG solver\");"
   ]
  },
  {
   "attachments": {},
   "cell_type": "markdown",
   "metadata": {},
   "source": [
    "## Dealing with balance"
   ]
  },
  {
   "attachments": {},
   "cell_type": "markdown",
   "metadata": {},
   "source": [
    "Sampling from negative training cases to have equal number of positives and negatives. As seen below, this results in a training set of just over 9,000 transactions. Interestingly, the results are mostly similar (if anything slightly worse), but with different thresholds. That is to say, whereas a threshold of ~0.02 had precision ~2% and recall of ~50%, with the balanced data, a threshold of 0.88 had similar performance.\n",
    "\n",
    "Some thoughts:\n",
    "1. More data might not hurt: could redo the original sampling such that there is an explicit \"testing\" subsample pulled directly from the original data, and then ALL positive transactions are pulled and matched to create balanced sample. This would in theory be something like 15,000 each fraudulent and legitimate transactions.\n",
    "1. The smaller dataset (even 30,000, as opposed to 5 million) fits much more quickly: it is more viable to do some optimization and cross-validation to tune."
   ]
  },
  {
   "cell_type": "code",
   "execution_count": 17,
   "metadata": {},
   "outputs": [
    {
     "data": {
      "text/plain": [
       "((9074, 34), (9074,))"
      ]
     },
     "execution_count": 17,
     "metadata": {},
     "output_type": "execute_result"
    }
   ],
   "source": [
    "(non_fraud_indices,) = np.nonzero(~y_train)\n",
    "(fraud_indices,) = np.nonzero(y_train)\n",
    "balanced_indices = np.concatenate((fraud_indices, rng.choice(non_fraud_indices, size=len(fraud_indices))))\n",
    "balanced_X_train = X_train.iloc[balanced_indices]\n",
    "balanced_y_train = y_train.iloc[balanced_indices]\n",
    "balanced_X_train.shape, balanced_y_train.shape"
   ]
  },
  {
   "cell_type": "code",
   "execution_count": 22,
   "metadata": {},
   "outputs": [
    {
     "name": "stdout",
     "output_type": "stream",
     "text": [
      "Training:\n",
      "              precision    recall  f1-score   support\n",
      "\n",
      "       False       0.86      0.86      0.86      4537\n",
      "        True       0.86      0.86      0.86      4537\n",
      "\n",
      "    accuracy                           0.86      9074\n",
      "   macro avg       0.86      0.86      0.86      9074\n",
      "weighted avg       0.86      0.86      0.86      9074\n",
      "\n",
      "Validation:\n",
      "              precision    recall  f1-score   support\n",
      "\n",
      "       False       1.00      0.86      0.92   1301789\n",
      "        True       0.01      0.87      0.01      1512\n",
      "\n",
      "    accuracy                           0.86   1303301\n",
      "   macro avg       0.50      0.87      0.47   1303301\n",
      "weighted avg       1.00      0.86      0.92   1303301\n",
      "\n",
      "          precision    recall\n",
      "0.875698   0.019392  0.500661\n",
      "0.875698   0.019393  0.500661\n",
      "0.875699   0.019393  0.500661\n",
      "0.875700   0.019394  0.500661\n",
      "0.875701   0.019394  0.500661\n"
     ]
    },
    {
     "data": {
      "image/png": "[encoded data removed]",
      "text/plain": [
       "<Figure size 640x480 with 1 Axes>"
      ]
     },
     "metadata": {},
     "output_type": "display_data"
    }
   ],
   "source": [
    "logit_pipe_balanced = make_pipeline(\n",
    "    StandardScaler(),\n",
    "    LogisticRegression()\n",
    ")\n",
    "\n",
    "logit_balanced_prc = assess_model(\n",
    "    logit_pipe_balanced, \n",
    "    \"Logistic Regression with Balanced Training Data\",\n",
    "    balanced_X_train,\n",
    "    X_test,\n",
    "    balanced_y_train,\n",
    "    y_test\n",
    ")\n",
    "print(logit_balanced_prc[logit_balanced_prc.recall>0.5].tail())"
   ]
  }
 ],
 "metadata": {
  "kernelspec": {
   "display_name": "Python 3 (ipykernel)",
   "language": "python",
   "name": "python3"
  },
  "language_info": {
   "codemirror_mode": {
    "name": "ipython",
    "version": 3
   },
   "file_extension": ".py",
   "mimetype": "text/x-python",
   "name": "python",
   "nbconvert_exporter": "python",
   "pygments_lexer": "ipython3",
   "version": "3.9.16"
  }
 },
 "nbformat": 4,
 "nbformat_minor": 2
}
