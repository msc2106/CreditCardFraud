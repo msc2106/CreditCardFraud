{
 "cells": [
  {
   "cell_type": "markdown",
   "metadata": {},
   "source": [
    "# Modeling"
   ]
  },
  {
   "cell_type": "code",
   "execution_count": 20,
   "metadata": {},
   "outputs": [],
   "source": [
    "import sys\n",
    "import pandas as pd\n",
    "import numpy as np\n",
    "from sklearn.preprocessing import StandardScaler\n",
    "from sklearn.pipeline import make_pipeline\n",
    "from sklearn.linear_model import LogisticRegression\n",
    "from sklearn.model_selection import train_test_split\n",
    "from sklearn.metrics import classification_report, confusion_matrix, PrecisionRecallDisplay, precision_recall_curve\n",
    "import seaborn as sns\n",
    "import matplotlib.pyplot as plt\n",
    "sys.path.append(\"../src\")\n",
    "import utils\n",
    "\n",
    "rng = np.random.default_rng(10)"
   ]
  },
  {
   "cell_type": "markdown",
   "metadata": {},
   "source": [
    "## 1. Preprocessing\n",
    "\n",
    "TODO:\n",
    "1. Join income and credit limit features from users data\n",
    "1. Calculate \"home city\", \"home state\", \"home country\", user age, and retired features\n",
    "1. Calculate card vintage and time to expiration features from card data\n",
    "1. **What to do with MCCs?** There are 109 of them: too many to just make dummies? Perhaps they could be grouped according to fraud rates, though this would need to be done using only training data.\n",
    "1. 70/30 train/test split. Because there are user-level measures, I think there is a need to avoid contamination. Also, this will be definitely necessary for alternative modeling methods that explicitly consider the user level."
   ]
  },
  {
   "cell_type": "markdown",
   "metadata": {},
   "source": [
    "Transactions"
   ]
  },
  {
   "cell_type": "code",
   "execution_count": 21,
   "metadata": {},
   "outputs": [
    {
     "name": "stdout",
     "output_type": "stream",
     "text": [
      "<class 'pandas.core.frame.DataFrame'>\n",
      "Int64Index: 5214807 entries, 28882 to 24270533\n",
      "Data columns (total 11 columns):\n",
      " #   Column          Dtype         \n",
      "---  ------          -----         \n",
      " 0   user            int64         \n",
      " 1   card            int64         \n",
      " 2   amount          float64       \n",
      " 3   merchant_city   object        \n",
      " 4   merchant_state  object        \n",
      " 5   zip             float64       \n",
      " 6   mcc             int64         \n",
      " 7   errors          object        \n",
      " 8   is_fraud        bool          \n",
      " 9   timestamp       datetime64[ns]\n",
      " 10  tx_type         object        \n",
      "dtypes: bool(1), datetime64[ns](1), float64(2), int64(3), object(4)\n",
      "memory usage: 442.6+ MB\n",
      "None\n"
     ]
    }
   ],
   "source": [
    "tx_data = pd.read_csv(\n",
    "    utils.prepend_dir('tx_sample.csv'),\n",
    "    index_col=0,\n",
    "    parse_dates=['timestamp']\n",
    ")\n",
    "# tx_data.drop(['year', 'month', 'day', 'time', 'merchant_name', 'use_chip'], axis=1, inplace=True)\n",
    "print(tx_data.info())"
   ]
  },
  {
   "cell_type": "markdown",
   "metadata": {},
   "source": [
    "Cards"
   ]
  },
  {
   "cell_type": "code",
   "execution_count": 22,
   "metadata": {},
   "outputs": [
    {
     "name": "stdout",
     "output_type": "stream",
     "text": [
      "<class 'pandas.core.frame.DataFrame'>\n",
      "Int64Index: 1241 entries, 10 to 6109\n",
      "Data columns (total 18 columns):\n",
      " #   Column                 Non-Null Count  Dtype         \n",
      "---  ------                 --------------  -----         \n",
      " 0   user                   1241 non-null   int64         \n",
      " 1   card_index             1241 non-null   int64         \n",
      " 2   card_brand             1241 non-null   object        \n",
      " 3   card_type              1241 non-null   object        \n",
      " 4   card_number            1241 non-null   int64         \n",
      " 5   expires                1241 non-null   datetime64[ns]\n",
      " 6   cvv                    1241 non-null   int64         \n",
      " 7   has_chip               1241 non-null   bool          \n",
      " 8   cards_issued           1241 non-null   int64         \n",
      " 9   credit_limit           1241 non-null   float64       \n",
      " 10  acct_open_date         1241 non-null   datetime64[ns]\n",
      " 11  year_pin_last_changed  1241 non-null   int64         \n",
      " 12  num_transactions       1241 non-null   int64         \n",
      " 13  total_tx_amount        1241 non-null   float64       \n",
      " 14  fraud_rate             1241 non-null   float64       \n",
      " 15  chip_rate              1241 non-null   float64       \n",
      " 16  online_rate            1241 non-null   float64       \n",
      " 17  swipe_rate             1241 non-null   float64       \n",
      "dtypes: bool(1), datetime64[ns](2), float64(6), int64(7), object(2)\n",
      "memory usage: 175.7+ KB\n",
      "None\n"
     ]
    }
   ],
   "source": [
    "card_data = pd.read_csv(\n",
    "    utils.prepend_dir('cards_sample.csv'), \n",
    "    index_col=0, \n",
    "    parse_dates=['expires', 'acct_open_date']\n",
    ")\n",
    "print(card_data.info())\n",
    "card_cols = ['user', 'card_index', 'card_brand', 'card_type', 'expires', 'has_chip', 'cards_issued', 'credit_limit', 'acct_open_date']"
   ]
  },
  {
   "cell_type": "markdown",
   "metadata": {},
   "source": [
    "Users"
   ]
  },
  {
   "cell_type": "code",
   "execution_count": 23,
   "metadata": {},
   "outputs": [
    {
     "name": "stdout",
     "output_type": "stream",
     "text": [
      "<class 'pandas.core.frame.DataFrame'>\n",
      "Int64Index: 400 entries, 2 to 1987\n",
      "Data columns (total 21 columns):\n",
      " #   Column                     Non-Null Count  Dtype         \n",
      "---  ------                     --------------  -----         \n",
      " 0   person                     400 non-null    object        \n",
      " 1   current_age                400 non-null    int64         \n",
      " 2   retirement_age             400 non-null    int64         \n",
      " 3   birth_year                 400 non-null    int64         \n",
      " 4   birth_month                400 non-null    int64         \n",
      " 5   gender                     400 non-null    object        \n",
      " 6   address                    400 non-null    object        \n",
      " 7   apartment                  102 non-null    float64       \n",
      " 8   city                       400 non-null    object        \n",
      " 9   state                      400 non-null    object        \n",
      " 10  zipcode                    400 non-null    int64         \n",
      " 11  latitude                   400 non-null    float64       \n",
      " 12  longitude                  400 non-null    float64       \n",
      " 13  per_capita_income_zipcode  400 non-null    float64       \n",
      " 14  yearly_income_person       400 non-null    float64       \n",
      " 15  total_debt                 400 non-null    float64       \n",
      " 16  fico_score                 400 non-null    int64         \n",
      " 17  num_credit_cards           400 non-null    int64         \n",
      " 18  fraud_rate                 400 non-null    float64       \n",
      " 19  total_credit_limit         400 non-null    float64       \n",
      " 20  birthdate                  400 non-null    datetime64[ns]\n",
      "dtypes: datetime64[ns](1), float64(8), int64(7), object(5)\n",
      "memory usage: 68.8+ KB\n",
      "None\n"
     ]
    }
   ],
   "source": [
    "user_data = pd.read_csv(\n",
    "    utils.prepend_dir('users_sample.csv'),\n",
    "    index_col=0\n",
    ")\n",
    "user_data['birthdate'] = pd.to_datetime({\n",
    "    'year': user_data.birth_year, \n",
    "    'month': user_data.birth_month, \n",
    "    'day':1\n",
    "})\n",
    "print(user_data.info())\n",
    "user_cols = ['birthdate', 'retirement_age', 'gender' ,'city', 'state', 'zipcode', 'latitude', 'longitude', 'per_capita_income_zipcode', 'yearly_income_person', 'total_debt', 'fico_score', 'num_credit_cards']"
   ]
  },
  {
   "cell_type": "markdown",
   "metadata": {},
   "source": [
    "Merging data"
   ]
  },
  {
   "cell_type": "code",
   "execution_count": 24,
   "metadata": {},
   "outputs": [
    {
     "name": "stdout",
     "output_type": "stream",
     "text": [
      "<class 'pandas.core.frame.DataFrame'>\n",
      "Int64Index: 5214807 entries, 0 to 5214806\n",
      "Data columns (total 31 columns):\n",
      " #   Column                     Dtype         \n",
      "---  ------                     -----         \n",
      " 0   user                       int64         \n",
      " 1   card                       int64         \n",
      " 2   amount                     float64       \n",
      " 3   merchant_city              object        \n",
      " 4   merchant_state             object        \n",
      " 5   zip                        float64       \n",
      " 6   mcc                        int64         \n",
      " 7   errors                     object        \n",
      " 8   is_fraud                   bool          \n",
      " 9   timestamp                  datetime64[ns]\n",
      " 10  tx_type                    object        \n",
      " 11  card_brand                 object        \n",
      " 12  card_type                  object        \n",
      " 13  expires                    datetime64[ns]\n",
      " 14  has_chip                   bool          \n",
      " 15  cards_issued               int64         \n",
      " 16  credit_limit               float64       \n",
      " 17  acct_open_date             datetime64[ns]\n",
      " 18  birthdate                  datetime64[ns]\n",
      " 19  retirement_age             int64         \n",
      " 20  gender                     object        \n",
      " 21  city                       object        \n",
      " 22  state                      object        \n",
      " 23  zipcode                    int64         \n",
      " 24  latitude                   float64       \n",
      " 25  longitude                  float64       \n",
      " 26  per_capita_income_zipcode  float64       \n",
      " 27  yearly_income_person       float64       \n",
      " 28  total_debt                 float64       \n",
      " 29  fico_score                 int64         \n",
      " 30  num_credit_cards           int64         \n",
      "dtypes: bool(2), datetime64[ns](4), float64(8), int64(8), object(9)\n",
      "memory usage: 1.2+ GB\n"
     ]
    }
   ],
   "source": [
    "merged_df = (tx_data\n",
    "    .merge(\n",
    "        card_data[card_cols],\n",
    "        left_on=['user', 'card'],\n",
    "        right_on=['user', 'card_index'])\n",
    "    .drop('card_index', axis=1)\n",
    "    .merge(user_data[user_cols],\n",
    "        left_on='user',\n",
    "        right_index=True)\n",
    ")\n",
    "\n",
    "merged_df.info()"
   ]
  },
  {
   "cell_type": "markdown",
   "metadata": {},
   "source": [
    "Constructing features"
   ]
  },
  {
   "cell_type": "code",
   "execution_count": 25,
   "metadata": {},
   "outputs": [],
   "source": [
    "# location-based features\n",
    "merged_df['home_city'] = (merged_df.city == merged_df.merchant_city) & (merged_df.state == merged_df.merchant_state)\n",
    "merged_df['home_state'] = merged_df.state == merged_df.merchant_state\n",
    "merged_df['home_zip'] = merged_df.zip == merged_df.zipcode\n",
    "merged_df['overseas'] = (merged_df.tx_type != 'online') & merged_df.zip.isna()\n",
    "merged_df = merged_df[~(merged_df.merchant_state.isna() & (merged_df.tx_type != 'online'))]"
   ]
  },
  {
   "cell_type": "code",
   "execution_count": 26,
   "metadata": {},
   "outputs": [],
   "source": [
    "# time-based features\n",
    "merged_df['user_age'] = (merged_df.timestamp - merged_df.birthdate).dt.days/365\n",
    "merged_df['retired'] = merged_df.user_age >= merged_df.retirement_age\n",
    "merged_df['until_expired'] = (merged_df.expires - merged_df.timestamp).dt.days\n",
    "merged_df['since_opened'] = (merged_df.timestamp - merged_df.acct_open_date).dt.days"
   ]
  },
  {
   "cell_type": "code",
   "execution_count": 27,
   "metadata": {},
   "outputs": [],
   "source": [
    "# dropping unneeded columns\n",
    "redundant_cols = ['merchant_city', 'merchant_state', 'zip', 'city', 'state', 'zipcode', 'birthdate', 'retirement_age', 'expires', 'acct_open_date', 'timestamp']\n",
    "merged_df.drop(columns=redundant_cols, inplace=True)"
   ]
  },
  {
   "cell_type": "markdown",
   "metadata": {},
   "source": [
    "Converting categories to dummies"
   ]
  },
  {
   "cell_type": "code",
   "execution_count": 28,
   "metadata": {},
   "outputs": [
    {
     "name": "stdout",
     "output_type": "stream",
     "text": [
      "                                       Bad Expiration  Bad Zipcode  Bad CVV  \\\n",
      "errors                                                                        \n",
      "Bad CVV                                             0            0     2455   \n",
      "Bad CVV,Insufficient Balance                        0            0       23   \n",
      "Bad CVV,Technical Glitch                            0            0        5   \n",
      "Bad Card Number                                     0            0        0   \n",
      "Bad Card Number,Bad CVV                             0            0       12   \n",
      "Bad Card Number,Bad Expiration                      6            0        0   \n",
      "Bad Card Number,Insufficient Balance                0            0        0   \n",
      "Bad Card Number,Technical Glitch                    0            0        0   \n",
      "Bad Expiration                                   2404            0        0   \n",
      "Bad Expiration,Bad CVV                             14            0       14   \n",
      "Bad Expiration,Insufficient Balance                19            0        0   \n",
      "Bad Expiration,Technical Glitch                     9            0        0   \n",
      "Bad PIN                                             0            0        0   \n",
      "Bad PIN,Insufficient Balance                        0            0        0   \n",
      "Bad PIN,Technical Glitch                            0            0        0   \n",
      "Bad Zipcode                                         0          497        0   \n",
      "Bad Zipcode,Insufficient Balance                    0            2        0   \n",
      "Bad Zipcode,Technical Glitch                        0            2        0   \n",
      "Insufficient Balance                                0            0        0   \n",
      "Insufficient Balance,Technical Glitch               0            0        0   \n",
      "Technical Glitch                                    0            0        0   \n",
      "\n",
      "                                       Bad PIN  Bad Card Number  \\\n",
      "errors                                                            \n",
      "Bad CVV                                      0                0   \n",
      "Bad CVV,Insufficient Balance                 0                0   \n",
      "Bad CVV,Technical Glitch                     0                0   \n",
      "Bad Card Number                              0             2883   \n",
      "Bad Card Number,Bad CVV                      0               12   \n",
      "Bad Card Number,Bad Expiration               0                6   \n",
      "Bad Card Number,Insufficient Balance         0               24   \n",
      "Bad Card Number,Technical Glitch             0                8   \n",
      "Bad Expiration                               0                0   \n",
      "Bad Expiration,Bad CVV                       0                0   \n",
      "Bad Expiration,Insufficient Balance          0                0   \n",
      "Bad Expiration,Technical Glitch              0                0   \n",
      "Bad PIN                                  12175                0   \n",
      "Bad PIN,Insufficient Balance                93                0   \n",
      "Bad PIN,Technical Glitch                    28                0   \n",
      "Bad Zipcode                                  0                0   \n",
      "Bad Zipcode,Insufficient Balance             0                0   \n",
      "Bad Zipcode,Technical Glitch                 0                0   \n",
      "Insufficient Balance                         0                0   \n",
      "Insufficient Balance,Technical Glitch        0                0   \n",
      "Technical Glitch                             0                0   \n",
      "\n",
      "                                       Insufficient Balance  Technical Glitch  \n",
      "errors                                                                         \n",
      "Bad CVV                                                   0                 0  \n",
      "Bad CVV,Insufficient Balance                             23                 0  \n",
      "Bad CVV,Technical Glitch                                  0                 5  \n",
      "Bad Card Number                                           0                 0  \n",
      "Bad Card Number,Bad CVV                                   0                 0  \n",
      "Bad Card Number,Bad Expiration                            0                 0  \n",
      "Bad Card Number,Insufficient Balance                     24                 0  \n",
      "Bad Card Number,Technical Glitch                          0                 8  \n",
      "Bad Expiration                                            0                 0  \n",
      "Bad Expiration,Bad CVV                                    0                 0  \n",
      "Bad Expiration,Insufficient Balance                      19                 0  \n",
      "Bad Expiration,Technical Glitch                           0                 9  \n",
      "Bad PIN                                                   0                 0  \n",
      "Bad PIN,Insufficient Balance                             93                 0  \n",
      "Bad PIN,Technical Glitch                                  0                28  \n",
      "Bad Zipcode                                               0                 0  \n",
      "Bad Zipcode,Insufficient Balance                          2                 0  \n",
      "Bad Zipcode,Technical Glitch                              0                 2  \n",
      "Insufficient Balance                                  49535                 0  \n",
      "Insufficient Balance,Technical Glitch                    86                86  \n",
      "Technical Glitch                                          0             10322  \n"
     ]
    }
   ],
   "source": [
    "dummy_df = merged_df.copy()\n",
    "\n",
    "errors = set()\n",
    "for entry in merged_df.errors.dropna().unique().tolist():\n",
    "    for error in entry.split(','):\n",
    "        errors.add(error)\n",
    "for error in list(errors):\n",
    "    dummy_df[error] = dummy_df.errors.str.contains(error).fillna(False)\n",
    "print(dummy_df.groupby('errors').agg({error:'sum' for error in errors}))\n",
    "dummy_df.drop(columns='errors', inplace=True)"
   ]
  },
  {
   "cell_type": "code",
   "execution_count": 29,
   "metadata": {},
   "outputs": [
    {
     "data": {
      "text/html": [
       "<div>\n",
       "<style scoped>\n",
       "    .dataframe tbody tr th:only-of-type {\n",
       "        vertical-align: middle;\n",
       "    }\n",
       "\n",
       "    .dataframe tbody tr th {\n",
       "        vertical-align: top;\n",
       "    }\n",
       "\n",
       "    .dataframe thead th {\n",
       "        text-align: right;\n",
       "    }\n",
       "</style>\n",
       "<table border=\"1\" class=\"dataframe\">\n",
       "  <thead>\n",
       "    <tr style=\"text-align: right;\">\n",
       "      <th></th>\n",
       "      <th>3472821</th>\n",
       "    </tr>\n",
       "  </thead>\n",
       "  <tbody>\n",
       "    <tr>\n",
       "      <th>user</th>\n",
       "      <td>1287</td>\n",
       "    </tr>\n",
       "    <tr>\n",
       "      <th>card</th>\n",
       "      <td>1</td>\n",
       "    </tr>\n",
       "    <tr>\n",
       "      <th>amount</th>\n",
       "      <td>-90.0</td>\n",
       "    </tr>\n",
       "    <tr>\n",
       "      <th>mcc</th>\n",
       "      <td>5541</td>\n",
       "    </tr>\n",
       "    <tr>\n",
       "      <th>is_fraud</th>\n",
       "      <td>False</td>\n",
       "    </tr>\n",
       "    <tr>\n",
       "      <th>has_chip</th>\n",
       "      <td>True</td>\n",
       "    </tr>\n",
       "    <tr>\n",
       "      <th>cards_issued</th>\n",
       "      <td>2</td>\n",
       "    </tr>\n",
       "    <tr>\n",
       "      <th>credit_limit</th>\n",
       "      <td>21177.0</td>\n",
       "    </tr>\n",
       "    <tr>\n",
       "      <th>latitude</th>\n",
       "      <td>35.15</td>\n",
       "    </tr>\n",
       "    <tr>\n",
       "      <th>longitude</th>\n",
       "      <td>-89.75</td>\n",
       "    </tr>\n",
       "    <tr>\n",
       "      <th>per_capita_income_zipcode</th>\n",
       "      <td>27474.0</td>\n",
       "    </tr>\n",
       "    <tr>\n",
       "      <th>yearly_income_person</th>\n",
       "      <td>56018.0</td>\n",
       "    </tr>\n",
       "    <tr>\n",
       "      <th>total_debt</th>\n",
       "      <td>100163.0</td>\n",
       "    </tr>\n",
       "    <tr>\n",
       "      <th>fico_score</th>\n",
       "      <td>739</td>\n",
       "    </tr>\n",
       "    <tr>\n",
       "      <th>num_credit_cards</th>\n",
       "      <td>2</td>\n",
       "    </tr>\n",
       "    <tr>\n",
       "      <th>home_city</th>\n",
       "      <td>True</td>\n",
       "    </tr>\n",
       "    <tr>\n",
       "      <th>home_state</th>\n",
       "      <td>True</td>\n",
       "    </tr>\n",
       "    <tr>\n",
       "      <th>home_zip</th>\n",
       "      <td>True</td>\n",
       "    </tr>\n",
       "    <tr>\n",
       "      <th>overseas</th>\n",
       "      <td>False</td>\n",
       "    </tr>\n",
       "    <tr>\n",
       "      <th>user_age</th>\n",
       "      <td>23.846575</td>\n",
       "    </tr>\n",
       "    <tr>\n",
       "      <th>retired</th>\n",
       "      <td>False</td>\n",
       "    </tr>\n",
       "    <tr>\n",
       "      <th>until_expired</th>\n",
       "      <td>398</td>\n",
       "    </tr>\n",
       "    <tr>\n",
       "      <th>since_opened</th>\n",
       "      <td>1246</td>\n",
       "    </tr>\n",
       "    <tr>\n",
       "      <th>Bad Expiration</th>\n",
       "      <td>False</td>\n",
       "    </tr>\n",
       "    <tr>\n",
       "      <th>Bad Zipcode</th>\n",
       "      <td>False</td>\n",
       "    </tr>\n",
       "    <tr>\n",
       "      <th>Bad CVV</th>\n",
       "      <td>False</td>\n",
       "    </tr>\n",
       "    <tr>\n",
       "      <th>Bad PIN</th>\n",
       "      <td>False</td>\n",
       "    </tr>\n",
       "    <tr>\n",
       "      <th>Bad Card Number</th>\n",
       "      <td>False</td>\n",
       "    </tr>\n",
       "    <tr>\n",
       "      <th>Insufficient Balance</th>\n",
       "      <td>False</td>\n",
       "    </tr>\n",
       "    <tr>\n",
       "      <th>Technical Glitch</th>\n",
       "      <td>False</td>\n",
       "    </tr>\n",
       "    <tr>\n",
       "      <th>tx_type_online</th>\n",
       "      <td>0</td>\n",
       "    </tr>\n",
       "    <tr>\n",
       "      <th>tx_type_swipe</th>\n",
       "      <td>1</td>\n",
       "    </tr>\n",
       "    <tr>\n",
       "      <th>card_brand_Discover</th>\n",
       "      <td>0</td>\n",
       "    </tr>\n",
       "    <tr>\n",
       "      <th>card_brand_Mastercard</th>\n",
       "      <td>1</td>\n",
       "    </tr>\n",
       "    <tr>\n",
       "      <th>card_brand_Visa</th>\n",
       "      <td>0</td>\n",
       "    </tr>\n",
       "    <tr>\n",
       "      <th>card_type_Debit</th>\n",
       "      <td>1</td>\n",
       "    </tr>\n",
       "    <tr>\n",
       "      <th>card_type_Debit (Prepaid)</th>\n",
       "      <td>0</td>\n",
       "    </tr>\n",
       "    <tr>\n",
       "      <th>gender_Male</th>\n",
       "      <td>1</td>\n",
       "    </tr>\n",
       "  </tbody>\n",
       "</table>\n",
       "</div>"
      ],
      "text/plain": [
       "                             3472821\n",
       "user                            1287\n",
       "card                               1\n",
       "amount                         -90.0\n",
       "mcc                             5541\n",
       "is_fraud                       False\n",
       "has_chip                        True\n",
       "cards_issued                       2\n",
       "credit_limit                 21177.0\n",
       "latitude                       35.15\n",
       "longitude                     -89.75\n",
       "per_capita_income_zipcode    27474.0\n",
       "yearly_income_person         56018.0\n",
       "total_debt                  100163.0\n",
       "fico_score                       739\n",
       "num_credit_cards                   2\n",
       "home_city                       True\n",
       "home_state                      True\n",
       "home_zip                        True\n",
       "overseas                       False\n",
       "user_age                   23.846575\n",
       "retired                        False\n",
       "until_expired                    398\n",
       "since_opened                    1246\n",
       "Bad Expiration                 False\n",
       "Bad Zipcode                    False\n",
       "Bad CVV                        False\n",
       "Bad PIN                        False\n",
       "Bad Card Number                False\n",
       "Insufficient Balance           False\n",
       "Technical Glitch               False\n",
       "tx_type_online                     0\n",
       "tx_type_swipe                      1\n",
       "card_brand_Discover                0\n",
       "card_brand_Mastercard              1\n",
       "card_brand_Visa                    0\n",
       "card_type_Debit                    1\n",
       "card_type_Debit (Prepaid)          0\n",
       "gender_Male                        1"
      ]
     },
     "execution_count": 29,
     "metadata": {},
     "output_type": "execute_result"
    }
   ],
   "source": [
    "dummy_df = pd.get_dummies(dummy_df, drop_first=True)\n",
    "dummy_df.sample().T"
   ]
  },
  {
   "cell_type": "markdown",
   "metadata": {},
   "source": [
    "TODO: deal with MCC codes"
   ]
  },
  {
   "cell_type": "markdown",
   "metadata": {},
   "source": [
    "Training and test data"
   ]
  },
  {
   "cell_type": "code",
   "execution_count": 30,
   "metadata": {},
   "outputs": [
    {
     "data": {
      "text/plain": [
       "((3909902, 36), (1303301, 36), (3909902,), (1303301,))"
      ]
     },
     "execution_count": 30,
     "metadata": {},
     "output_type": "execute_result"
    }
   ],
   "source": [
    "X_train, X_test, y_train, y_test = train_test_split(dummy_df.drop(columns=['mcc', 'is_fraud']), dummy_df.is_fraud, random_state=10, stratify=dummy_df.is_fraud)\n",
    "X_train.shape, X_test.shape, y_train.shape, y_test.shape"
   ]
  },
  {
   "cell_type": "markdown",
   "metadata": {},
   "source": [
    "## Logistic regression"
   ]
  },
  {
   "cell_type": "code",
   "execution_count": 31,
   "metadata": {},
   "outputs": [
    {
     "ename": "",
     "evalue": "",
     "output_type": "error",
     "traceback": [
      "\u001b[1;31mCanceled future for execute_request message before replies were done"
     ]
    },
    {
     "ename": "",
     "evalue": "",
     "output_type": "error",
     "traceback": [
      "\u001b[1;31mThe Kernel crashed while executing code in the the current cell or a previous cell. Please review the code in the cell(s) to identify a possible cause of the failure. Click <a href='https://aka.ms/vscodeJupyterKernelCrash'>here</a> for more info. View Jupyter <a href='command:jupyter.viewOutput'>log</a> for further details."
     ]
    }
   ],
   "source": [
    "# baseline model with default values\n",
    "\n",
    "logit_pipe_default = make_pipeline(\n",
    "    StandardScaler(),\n",
    "    LogisticRegression()\n",
    ")\n",
    "\n",
    "logit_pipe_default.fit(X_train, y_train)\n",
    "y_pred_train = logit_pipe_default.predict(X_train)\n",
    "y_pred_test = logit_pipe_default.predict(X_test)\n",
    "print('Training:')\n",
    "print(classification_report(y_train, y_pred_train))\n",
    "print('Validation:')\n",
    "print(classification_report(y_test, y_pred_test))"
   ]
  },
  {
   "cell_type": "markdown",
   "metadata": {},
   "source": [
    "With such an imbalanced data set, it is not surprising that the model gives very few transactions a majority probability of being fradulent. We can consider whether the model is at all better than guessing by looking at the precision-recall curve."
   ]
  },
  {
   "cell_type": "code",
   "execution_count": null,
   "metadata": {},
   "outputs": [],
   "source": [
    "train_fraud_prob = logit_pipe_default.predict_proba(X_train)[:,1]\n",
    "test_fraud_prob = logit_pipe_default.predict_proba(X_test)[:,1]"
   ]
  },
  {
   "cell_type": "code",
   "execution_count": null,
   "metadata": {},
   "outputs": [],
   "source": [
    "precision, recall, thresholds = precision_recall_curve(y_test, test_fraud_prob)\n",
    "logit_default_prc = pd.DataFrame({\n",
    "    'precision':precision[:-1],\n",
    "    'recall': recall[:-1]},\n",
    "    index=thresholds\n",
    ")\n",
    "logit_default_prc[logit_default_prc.recall>.5].tail()"
   ]
  },
  {
   "cell_type": "code",
   "execution_count": null,
   "metadata": {},
   "outputs": [],
   "source": [
    "prc_display = PrecisionRecallDisplay.from_estimator(logit_pipe_default, X_test, y_test)\n",
    "plt.axhline(0.01);\n",
    "plt.axis([0.5, 1., 0., 0.2]);\n",
    "plt.legend(loc='upper right');\n",
    "plt.title(\"Precision-Recall Curve for Default Logistic Regression\");"
   ]
  },
  {
   "cell_type": "markdown",
   "metadata": {},
   "source": [
    "A naive logistic regression model is better than pure chance, but not by much. To catch about half of fraudulent transaction, a threshold of <1% is needed. At that level, over 40 legitimate transactions would be flagged as fraudulent."
   ]
  }
 ],
 "metadata": {
  "kernelspec": {
   "display_name": "Python 3 (ipykernel)",
   "language": "python",
   "name": "python3"
  },
  "language_info": {
   "codemirror_mode": {
    "name": "ipython",
    "version": 3
   },
   "file_extension": ".py",
   "mimetype": "text/x-python",
   "name": "python",
   "nbconvert_exporter": "python",
   "pygments_lexer": "ipython3",
   "version": "3.11.3"
  }
 },
 "nbformat": 4,
 "nbformat_minor": 2
}
