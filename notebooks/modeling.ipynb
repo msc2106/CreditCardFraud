{
 "cells": [
  {
   "attachments": {},
   "cell_type": "markdown",
   "metadata": {},
   "source": [
    "# Modeling"
   ]
  },
  {
   "cell_type": "code",
   "execution_count": 1,
   "metadata": {},
   "outputs": [],
   "source": [
    "import sys\n",
    "import pandas as pd\n",
    "import numpy as np\n",
    "from sklearn.linear_model import LogisticRegression\n",
    "from sklearn.model_selection import train_test_split\n",
    "from sklearn.metrics import classification_report, confusion_matrix\n",
    "sys.path.append(\"../src\")\n",
    "import utils\n",
    "\n",
    "rng = np.random.default_rng(10)"
   ]
  },
  {
   "attachments": {},
   "cell_type": "markdown",
   "metadata": {},
   "source": [
    "## 1. Preprocessing\n",
    "\n",
    "TODO:\n",
    "1. Calculate \"home city\", \"home state\", \"home country\", and user age features\n",
    "1. Calculate card vintage and time to expiration features\n",
    "1. Join income and credit limit features\n",
    "1. 70/30 train/test split. Because there are user-level measures, I think there is a need to avoid contamination. Also, this will be definitely necessary for alternative modeling methods that explicitly consider the user level."
   ]
  },
  {
   "cell_type": "code",
   "execution_count": 2,
   "metadata": {},
   "outputs": [
    {
     "name": "stdout",
     "output_type": "stream",
     "text": [
      "<class 'pandas.core.frame.DataFrame'>\n",
      "Index: 5214807 entries, 28882 to 24270533\n",
      "Data columns (total 17 columns):\n",
      " #   Column          Dtype         \n",
      "---  ------          -----         \n",
      " 0   user            int64         \n",
      " 1   card            int64         \n",
      " 2   year            int64         \n",
      " 3   month           int64         \n",
      " 4   day             int64         \n",
      " 5   time            object        \n",
      " 6   amount          float64       \n",
      " 7   use_chip        object        \n",
      " 8   merchant_name   int64         \n",
      " 9   merchant_city   object        \n",
      " 10  merchant_state  object        \n",
      " 11  zip             float64       \n",
      " 12  mcc             int64         \n",
      " 13  errors          object        \n",
      " 14  is_fraud        bool          \n",
      " 15  timestamp       datetime64[ns]\n",
      " 16  tx_type         object        \n",
      "dtypes: bool(1), datetime64[ns](1), float64(2), int64(7), object(6)\n",
      "memory usage: 681.3+ MB\n"
     ]
    }
   ],
   "source": [
    "data_file_loc = utils.prepend_dir('tx_sample.csv')\n",
    "tx_data = pd.read_csv(\n",
    "    data_file_loc,\n",
    "    index_col=0,\n",
    "    parse_dates=['timestamp']\n",
    ")\n",
    "tx_data.info()"
   ]
  },
  {
   "cell_type": "code",
   "execution_count": null,
   "metadata": {},
   "outputs": [],
   "source": []
  }
 ],
 "metadata": {
  "kernelspec": {
   "display_name": "CreditCardFraud-EA29h7JT",
   "language": "python",
   "name": "python3"
  },
  "language_info": {
   "codemirror_mode": {
    "name": "ipython",
    "version": 3
   },
   "file_extension": ".py",
   "mimetype": "text/x-python",
   "name": "python",
   "nbconvert_exporter": "python",
   "pygments_lexer": "ipython3",
   "version": "3.9.16"
  },
  "orig_nbformat": 4
 },
 "nbformat": 4,
 "nbformat_minor": 2
}
