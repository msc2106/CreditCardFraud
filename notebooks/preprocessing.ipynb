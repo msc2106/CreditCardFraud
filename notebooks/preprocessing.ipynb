{
 "cells": [
  {
   "attachments": {},
   "cell_type": "markdown",
   "metadata": {},
   "source": [
    "# Preprocessing\n",
    "\n",
    "This notebook walks through generating test and training data sets."
   ]
  },
  {
   "cell_type": "code",
   "execution_count": 1,
   "metadata": {},
   "outputs": [],
   "source": [
    "%load_ext autoreload\n",
    "%autoreload 2"
   ]
  },
  {
   "cell_type": "code",
   "execution_count": 2,
   "metadata": {},
   "outputs": [],
   "source": [
    "import sys\n",
    "import pandas as pd\n",
    "import numpy as np\n",
    "from sklearn.pipeline import make_pipeline\n",
    "from sklearn.preprocessing import StandardScaler\n",
    "sys.path.append(\"../src\")\n",
    "import utils\n",
    "\n",
    "rng = np.random.default_rng(10)"
   ]
  },
  {
   "attachments": {},
   "cell_type": "markdown",
   "metadata": {},
   "source": [
    "## Preparing User and Card Data\n",
    "\n",
    "Before beginning to prepare the transaction data, it is necessary to assemble the needed information about cards and users, which will be joined to each transaction record. To enable doing the later join with the transaction dataw in one step, the following cells create a combined data frame of cards and their owners."
   ]
  },
  {
   "cell_type": "markdown",
   "metadata": {},
   "source": [
    "Users"
   ]
  },
  {
   "cell_type": "code",
   "execution_count": 3,
   "metadata": {},
   "outputs": [
    {
     "name": "stdout",
     "output_type": "stream",
     "text": [
      "<class 'pandas.core.frame.DataFrame'>\n",
      "Index: 2000 entries, 0 to 1999\n",
      "Data columns (total 19 columns):\n",
      " #   Column                     Non-Null Count  Dtype         \n",
      "---  ------                     --------------  -----         \n",
      " 0   person                     2000 non-null   object        \n",
      " 1   current_age                2000 non-null   int64         \n",
      " 2   retirement_age             2000 non-null   int64         \n",
      " 3   birth_year                 2000 non-null   int64         \n",
      " 4   birth_month                2000 non-null   int64         \n",
      " 5   gender                     2000 non-null   object        \n",
      " 6   address                    2000 non-null   object        \n",
      " 7   apartment                  528 non-null    float64       \n",
      " 8   city                       2000 non-null   object        \n",
      " 9   state                      2000 non-null   object        \n",
      " 10  zipcode                    2000 non-null   int64         \n",
      " 11  latitude                   2000 non-null   float64       \n",
      " 12  longitude                  2000 non-null   float64       \n",
      " 13  per_capita_income_zipcode  2000 non-null   float64       \n",
      " 14  yearly_income_person       2000 non-null   float64       \n",
      " 15  total_debt                 2000 non-null   float64       \n",
      " 16  fico_score                 2000 non-null   int64         \n",
      " 17  num_credit_cards           2000 non-null   int64         \n",
      " 18  birthdate                  2000 non-null   datetime64[ns]\n",
      "dtypes: datetime64[ns](1), float64(6), int64(7), object(5)\n",
      "memory usage: 312.5+ KB\n",
      "None\n"
     ]
    }
   ],
   "source": [
    "user_data = pd.read_csv(\n",
    "    utils.prepend_dir('users_all.csv'),\n",
    "    index_col=0\n",
    ")\n",
    "user_data['birthdate'] = pd.to_datetime({\n",
    "    'year': user_data.birth_year, \n",
    "    'month': user_data.birth_month, \n",
    "    'day':1\n",
    "})\n",
    "\n",
    "N_users = user_data.shape[0]\n",
    "\n",
    "print(user_data.info())\n",
    "user_cols = ['birthdate', 'retirement_age', 'gender' ,'city', 'state', 'zipcode', 'latitude', 'longitude', 'per_capita_income_zipcode', 'yearly_income_person', 'total_debt', 'fico_score', 'num_credit_cards']"
   ]
  },
  {
   "attachments": {},
   "cell_type": "markdown",
   "metadata": {},
   "source": [
    "Cards"
   ]
  },
  {
   "cell_type": "code",
   "execution_count": 4,
   "metadata": {},
   "outputs": [
    {
     "name": "stdout",
     "output_type": "stream",
     "text": [
      "<class 'pandas.core.frame.DataFrame'>\n",
      "Index: 6146 entries, 0 to 6145\n",
      "Data columns (total 12 columns):\n",
      " #   Column                 Non-Null Count  Dtype         \n",
      "---  ------                 --------------  -----         \n",
      " 0   user                   6146 non-null   int64         \n",
      " 1   card_index             6146 non-null   int64         \n",
      " 2   card_brand             6146 non-null   object        \n",
      " 3   card_type              6146 non-null   object        \n",
      " 4   card_number            6146 non-null   int64         \n",
      " 5   expires                6146 non-null   datetime64[ns]\n",
      " 6   cvv                    6146 non-null   int64         \n",
      " 7   has_chip               6146 non-null   bool          \n",
      " 8   cards_issued           6146 non-null   int64         \n",
      " 9   credit_limit           6146 non-null   float64       \n",
      " 10  acct_open_date         6146 non-null   datetime64[ns]\n",
      " 11  year_pin_last_changed  6146 non-null   int64         \n",
      "dtypes: bool(1), datetime64[ns](2), float64(1), int64(6), object(2)\n",
      "memory usage: 582.2+ KB\n",
      "None\n"
     ]
    }
   ],
   "source": [
    "card_data = pd.read_csv(\n",
    "    utils.prepend_dir('cards_all.csv'), \n",
    "    index_col=0, \n",
    "    parse_dates=['expires', 'acct_open_date']\n",
    ")\n",
    "print(card_data.info())\n",
    "card_cols = ['user', 'card_index', 'card_brand', 'card_type', 'expires', 'has_chip', 'cards_issued', 'credit_limit', 'acct_open_date']"
   ]
  },
  {
   "attachments": {},
   "cell_type": "markdown",
   "metadata": {},
   "source": [
    "Merging users and cards data"
   ]
  },
  {
   "cell_type": "code",
   "execution_count": 5,
   "metadata": {},
   "outputs": [
    {
     "name": "stdout",
     "output_type": "stream",
     "text": [
      "<class 'pandas.core.frame.DataFrame'>\n",
      "Index: 6146 entries, 0 to 6145\n",
      "Data columns (total 22 columns):\n",
      " #   Column                     Non-Null Count  Dtype         \n",
      "---  ------                     --------------  -----         \n",
      " 0   user                       6146 non-null   int64         \n",
      " 1   card                       6146 non-null   int64         \n",
      " 2   card_brand                 6146 non-null   object        \n",
      " 3   card_type                  6146 non-null   object        \n",
      " 4   expires                    6146 non-null   datetime64[ns]\n",
      " 5   has_chip                   6146 non-null   bool          \n",
      " 6   cards_issued               6146 non-null   int64         \n",
      " 7   credit_limit               6146 non-null   float64       \n",
      " 8   acct_open_date             6146 non-null   datetime64[ns]\n",
      " 9   birthdate                  6146 non-null   datetime64[ns]\n",
      " 10  retirement_age             6146 non-null   int64         \n",
      " 11  gender                     6146 non-null   object        \n",
      " 12  city                       6146 non-null   object        \n",
      " 13  state                      6146 non-null   object        \n",
      " 14  zipcode                    6146 non-null   int64         \n",
      " 15  latitude                   6146 non-null   float64       \n",
      " 16  longitude                  6146 non-null   float64       \n",
      " 17  per_capita_income_zipcode  6146 non-null   float64       \n",
      " 18  yearly_income_person       6146 non-null   float64       \n",
      " 19  total_debt                 6146 non-null   float64       \n",
      " 20  fico_score                 6146 non-null   int64         \n",
      " 21  num_credit_cards           6146 non-null   int64         \n",
      "dtypes: bool(1), datetime64[ns](3), float64(6), int64(7), object(5)\n",
      "memory usage: 1.0+ MB\n",
      "None\n"
     ]
    }
   ],
   "source": [
    "cards_users = (card_data[card_cols]\n",
    "    .merge(user_data[user_cols],\n",
    "        left_on='user',\n",
    "        right_index=True)\n",
    "    .rename({'card_index':'card'}, axis=1)\n",
    ")\n",
    "\n",
    "print(cards_users.info())\n",
    "\n",
    "# there's enough data that memory is a constraint\n",
    "del user_data\n",
    "del card_data"
   ]
  },
  {
   "attachments": {},
   "cell_type": "markdown",
   "metadata": {},
   "source": [
    "## Testing and training data\n",
    "\n",
    "Because of the large size of the data and the highly unbalanced target variable, I will create three distinct data sets. Note that since there are user-level features, to avoid contamination I'm splitting on users rather than on transactions.\n",
    "1. A test set consisting of 10% of the users (i.e. 200). The rest of the data represents the training pool, though it is too much data to work with on my personal laptop.\n",
    "1. An unbalanced training set consisting of 400 users in the training pool.\n",
    "1. A balanced training set consisting of all positive cases of fraud in the training pool and a randomly selected matching number of non-fraud transactions from the training pool."
   ]
  },
  {
   "attachments": {},
   "cell_type": "markdown",
   "metadata": {},
   "source": [
    "### Randomly selecting users for testing and unbalanced training data\n",
    "\n",
    "The code below randomly selects 400 user IDs for the unbalanced training data and 200 for the holdback testing data. In order ensure disjoint sets, this is achieved by a single random selection of 600 user IDs."
   ]
  },
  {
   "cell_type": "code",
   "execution_count": 6,
   "metadata": {},
   "outputs": [],
   "source": [
    "seed = 111\n",
    "# sample 1/5 of users\n",
    "rng = np.random.default_rng(seed)\n",
    "\n",
    "testing_size = 200\n",
    "unbalanced_training_size = 400\n",
    "subset_size = testing_size + unbalanced_training_size\n",
    "# randomly select the unbalanced training and testing users\n",
    "subset = rng.choice(N_users, size=subset_size, replace=False)\n",
    "\n",
    "# Testing data for 200 users and a training subset of 400 users. No need to randomize again because order in the subset array is already random.\n",
    "training_subset = subset[:unbalanced_training_size]\n",
    "testing_subset = subset[-testing_size:]"
   ]
  },
  {
   "attachments": {},
   "cell_type": "markdown",
   "metadata": {},
   "source": [
    "Because I need to know the overall fraud rate in the entire training pool to make the balanced data set, the construction of the data sets proceeds in two steps.\n",
    "\n",
    "The first step is to make separate CSVs for:\n",
    "1. The testing data\n",
    "1. All of the positive cases in the training pool\n",
    "1. All of the negative cases in the training pool\n",
    "\n",
    "For my own convenience if I need the code elsewhere, I put the code for this in a function in `src/utils.py`."
   ]
  },
  {
   "cell_type": "code",
   "execution_count": 7,
   "metadata": {},
   "outputs": [
    {
     "name": "stdout",
     "output_type": "stream",
     "text": [
      "Data already present. Skipping download.\n"
     ]
    }
   ],
   "source": [
    "pos_filename, neg_filename, rate = utils.clean_split_tx(cards_users, testing_subset)"
   ]
  },
  {
   "attachments": {},
   "cell_type": "markdown",
   "metadata": {},
   "source": [
    "The second step is to construct and save the two training data sets:\n",
    "1. Balanced training data (based on the fraud **rate** rather than matching numbers, so there is a small difference in the quantities)\n",
    "1. Complete training data for the 400 users selected above\n",
    "\n",
    "At the same time, the called function keeps track of the fraud rates for each `mcc` code, in the training pool, saving the results into a separate CSV file. This will be used to transform the `mcc` codes into a usable feature.\n",
    "\n",
    "Again, the code is in `utils.py`."
   ]
  },
  {
   "cell_type": "code",
   "execution_count": 8,
   "metadata": {},
   "outputs": [],
   "source": [
    "subset_filename, balanced_filename, mcc_rates_filename = utils.make_training_sets(training_subset, pos_filename, neg_filename, rate)"
   ]
  },
  {
   "attachments": {},
   "cell_type": "markdown",
   "metadata": {},
   "source": [
    "At this point, the data is saved and ready for analysis. To confirm the results and demonstrate the final preparatory steps for modeling, the balanced data is read into a data frame below:"
   ]
  },
  {
   "cell_type": "code",
   "execution_count": 9,
   "metadata": {},
   "outputs": [
    {
     "name": "stdout",
     "output_type": "stream",
     "text": [
      "is_fraud\n",
      "True     13850\n",
      "False    13749\n",
      "Name: count, dtype: int64\n"
     ]
    }
   ],
   "source": [
    "balanced_df = pd.read_csv(balanced_filename, index_col=0)\n",
    "print(balanced_df.is_fraud.value_counts())"
   ]
  },
  {
   "attachments": {},
   "cell_type": "markdown",
   "metadata": {},
   "source": [
    "## The transformation pipeline\n",
    "\n",
    "Since different methods employed in the modeling stage will require different transformations, these will be handled in pipelines. To prepare for this, I wrote two scikitlearn tranform classes:\n",
    "1. `MMCRates`: converts the `mcc` codes to the fraud rates observed in the entire training pool, as recorded by the function above.\n",
    "1. `MakeDummies`: combines all of the needed operations for dealing with the other categories into a single step, namely converting the multicategory `errors` column into separate indicators and making dummies for the transaction type, card brand, and card type columns.\n",
    "\n",
    "First, we can look at the two steps in isolation."
   ]
  },
  {
   "attachments": {},
   "cell_type": "markdown",
   "metadata": {},
   "source": [
    "### Converting MMC rates\n",
    "\n",
    "The following cell shows the results of replacing MCC codes with fraud rates:"
   ]
  },
  {
   "cell_type": "code",
   "execution_count": 10,
   "metadata": {},
   "outputs": [
    {
     "name": "stdout",
     "output_type": "stream",
     "text": [
      "Original data: 109 distinct MCC codes\n",
      "After merge, the mcc_fraud_rate variable is:\n"
     ]
    },
    {
     "data": {
      "text/plain": [
       "count    27599.000000\n",
       "mean         0.009009\n",
       "std          0.037777\n",
       "min          0.000000\n",
       "25%          0.000334\n",
       "50%          0.001395\n",
       "75%          0.005829\n",
       "max          0.468439\n",
       "Name: mcc_fraud_rate, dtype: float64"
      ]
     },
     "execution_count": 10,
     "metadata": {},
     "output_type": "execute_result"
    }
   ],
   "source": [
    "mcc_rates = pd.read_csv(mcc_rates_filename, index_col=0)\n",
    "print(f'Original data: {len(balanced_df.mcc.unique())} distinct MCC codes')\n",
    "print('After merge, the mcc_fraud_rate variable is:')\n",
    "balanced_df.merge(mcc_rates, how='left', left_on='mcc', right_index=True).mcc_fraud_rate.describe()"
   ]
  },
  {
   "attachments": {},
   "cell_type": "markdown",
   "metadata": {},
   "source": [
    "### Errors\n",
    "\n",
    "The errors column in the data is NA if no error, and lists (possibly multiple) errors that occured. Multiple errors are separated by a comma."
   ]
  },
  {
   "cell_type": "code",
   "execution_count": 11,
   "metadata": {},
   "outputs": [
    {
     "name": "stdout",
     "output_type": "stream",
     "text": [
      "errors\n",
      "Insufficient Balance                    327\n",
      "Bad PIN                                 170\n",
      "Bad CVV                                 129\n",
      "Bad Expiration                           56\n",
      "Technical Glitch                         51\n",
      "Bad Card Number                          48\n",
      "Bad PIN,Insufficient Balance              6\n",
      "Bad Zipcode                               2\n",
      "Bad Expiration,Technical Glitch           1\n",
      "Bad Card Number,Insufficient Balance      1\n",
      "Bad Card Number,Technical Glitch          1\n",
      "Bad CVV,Technical Glitch                  1\n",
      "Bad Expiration,Bad CVV                    1\n",
      "Name: count, dtype: int64\n"
     ]
    }
   ],
   "source": [
    "print(balanced_df.errors.value_counts())"
   ]
  },
  {
   "attachments": {},
   "cell_type": "markdown",
   "metadata": {},
   "source": [
    "These can be converted into indicator features for each error. So, for example, \"Bad Card Number,Insufficient Balance\" is convered into `True` for the two columns \"Bad Card Number\" and \"Insufficient Balance.\""
   ]
  },
  {
   "cell_type": "code",
   "execution_count": 12,
   "metadata": {},
   "outputs": [
    {
     "name": "stdout",
     "output_type": "stream",
     "text": [
      "Insufficient Balance    334\n",
      "Bad Zipcode               2\n",
      "Bad Expiration           58\n",
      "Technical Glitch         54\n",
      "Bad Card Number          50\n",
      "Bad PIN                 176\n",
      "Bad CVV                 131\n",
      "dtype: int64\n"
     ]
    }
   ],
   "source": [
    "dummy_df, cats = utils.convert_multicat(balanced_df, 'errors')\n",
    "print(dummy_df[cats].sum())"
   ]
  },
  {
   "attachments": {},
   "cell_type": "markdown",
   "metadata": {},
   "source": [
    "### The full pipeline"
   ]
  },
  {
   "attachments": {},
   "cell_type": "markdown",
   "metadata": {},
   "source": [
    "Now we can look at the full transform pipeline in action. Note that I don't save this data to CSV, because I think it is easier to recreate it, or customize it in different ways, using pipelines in the modeling process."
   ]
  },
  {
   "cell_type": "code",
   "execution_count": 13,
   "metadata": {},
   "outputs": [
    {
     "data": {
      "text/html": [
       "<div>\n",
       "<style scoped>\n",
       "    .dataframe tbody tr th:only-of-type {\n",
       "        vertical-align: middle;\n",
       "    }\n",
       "\n",
       "    .dataframe tbody tr th {\n",
       "        vertical-align: top;\n",
       "    }\n",
       "\n",
       "    .dataframe thead th {\n",
       "        text-align: right;\n",
       "    }\n",
       "</style>\n",
       "<table border=\"1\" class=\"dataframe\">\n",
       "  <thead>\n",
       "    <tr style=\"text-align: right;\">\n",
       "      <th></th>\n",
       "      <th>7977</th>\n",
       "      <th>7979</th>\n",
       "      <th>7987</th>\n",
       "    </tr>\n",
       "  </thead>\n",
       "  <tbody>\n",
       "    <tr>\n",
       "      <th>user</th>\n",
       "      <td>5</td>\n",
       "      <td>5</td>\n",
       "      <td>5</td>\n",
       "    </tr>\n",
       "    <tr>\n",
       "      <th>card</th>\n",
       "      <td>0</td>\n",
       "      <td>0</td>\n",
       "      <td>0</td>\n",
       "    </tr>\n",
       "    <tr>\n",
       "      <th>amount</th>\n",
       "      <td>11.45</td>\n",
       "      <td>471.0</td>\n",
       "      <td>398.93</td>\n",
       "    </tr>\n",
       "    <tr>\n",
       "      <th>is_fraud</th>\n",
       "      <td>True</td>\n",
       "      <td>True</td>\n",
       "      <td>True</td>\n",
       "    </tr>\n",
       "    <tr>\n",
       "      <th>has_chip</th>\n",
       "      <td>True</td>\n",
       "      <td>True</td>\n",
       "      <td>True</td>\n",
       "    </tr>\n",
       "    <tr>\n",
       "      <th>cards_issued</th>\n",
       "      <td>2</td>\n",
       "      <td>2</td>\n",
       "      <td>2</td>\n",
       "    </tr>\n",
       "    <tr>\n",
       "      <th>credit_limit</th>\n",
       "      <td>9900.0</td>\n",
       "      <td>9900.0</td>\n",
       "      <td>9900.0</td>\n",
       "    </tr>\n",
       "    <tr>\n",
       "      <th>latitude</th>\n",
       "      <td>41.55</td>\n",
       "      <td>41.55</td>\n",
       "      <td>41.55</td>\n",
       "    </tr>\n",
       "    <tr>\n",
       "      <th>longitude</th>\n",
       "      <td>-90.6</td>\n",
       "      <td>-90.6</td>\n",
       "      <td>-90.6</td>\n",
       "    </tr>\n",
       "    <tr>\n",
       "      <th>per_capita_income_zipcode</th>\n",
       "      <td>20599.0</td>\n",
       "      <td>20599.0</td>\n",
       "      <td>20599.0</td>\n",
       "    </tr>\n",
       "    <tr>\n",
       "      <th>yearly_income_person</th>\n",
       "      <td>41997.0</td>\n",
       "      <td>41997.0</td>\n",
       "      <td>41997.0</td>\n",
       "    </tr>\n",
       "    <tr>\n",
       "      <th>total_debt</th>\n",
       "      <td>0.0</td>\n",
       "      <td>0.0</td>\n",
       "      <td>0.0</td>\n",
       "    </tr>\n",
       "    <tr>\n",
       "      <th>fico_score</th>\n",
       "      <td>704</td>\n",
       "      <td>704</td>\n",
       "      <td>704</td>\n",
       "    </tr>\n",
       "    <tr>\n",
       "      <th>num_credit_cards</th>\n",
       "      <td>3</td>\n",
       "      <td>3</td>\n",
       "      <td>3</td>\n",
       "    </tr>\n",
       "    <tr>\n",
       "      <th>home_city</th>\n",
       "      <td>False</td>\n",
       "      <td>False</td>\n",
       "      <td>False</td>\n",
       "    </tr>\n",
       "    <tr>\n",
       "      <th>home_state</th>\n",
       "      <td>False</td>\n",
       "      <td>False</td>\n",
       "      <td>False</td>\n",
       "    </tr>\n",
       "    <tr>\n",
       "      <th>home_zip</th>\n",
       "      <td>False</td>\n",
       "      <td>False</td>\n",
       "      <td>False</td>\n",
       "    </tr>\n",
       "    <tr>\n",
       "      <th>overseas</th>\n",
       "      <td>False</td>\n",
       "      <td>False</td>\n",
       "      <td>False</td>\n",
       "    </tr>\n",
       "    <tr>\n",
       "      <th>user_age</th>\n",
       "      <td>38.523288</td>\n",
       "      <td>38.523288</td>\n",
       "      <td>38.536986</td>\n",
       "    </tr>\n",
       "    <tr>\n",
       "      <th>retired</th>\n",
       "      <td>False</td>\n",
       "      <td>False</td>\n",
       "      <td>False</td>\n",
       "    </tr>\n",
       "    <tr>\n",
       "      <th>until_expired</th>\n",
       "      <td>1979</td>\n",
       "      <td>1979</td>\n",
       "      <td>1974</td>\n",
       "    </tr>\n",
       "    <tr>\n",
       "      <th>since_opened</th>\n",
       "      <td>5203</td>\n",
       "      <td>5203</td>\n",
       "      <td>5208</td>\n",
       "    </tr>\n",
       "    <tr>\n",
       "      <th>mcc_fraud_rate</th>\n",
       "      <td>0.005829</td>\n",
       "      <td>0.012056</td>\n",
       "      <td>0.012056</td>\n",
       "    </tr>\n",
       "    <tr>\n",
       "      <th>Insufficient Balance</th>\n",
       "      <td>False</td>\n",
       "      <td>False</td>\n",
       "      <td>False</td>\n",
       "    </tr>\n",
       "    <tr>\n",
       "      <th>Bad Zipcode</th>\n",
       "      <td>False</td>\n",
       "      <td>False</td>\n",
       "      <td>False</td>\n",
       "    </tr>\n",
       "    <tr>\n",
       "      <th>Bad Expiration</th>\n",
       "      <td>False</td>\n",
       "      <td>False</td>\n",
       "      <td>False</td>\n",
       "    </tr>\n",
       "    <tr>\n",
       "      <th>Technical Glitch</th>\n",
       "      <td>False</td>\n",
       "      <td>False</td>\n",
       "      <td>False</td>\n",
       "    </tr>\n",
       "    <tr>\n",
       "      <th>Bad Card Number</th>\n",
       "      <td>False</td>\n",
       "      <td>False</td>\n",
       "      <td>False</td>\n",
       "    </tr>\n",
       "    <tr>\n",
       "      <th>Bad PIN</th>\n",
       "      <td>False</td>\n",
       "      <td>False</td>\n",
       "      <td>False</td>\n",
       "    </tr>\n",
       "    <tr>\n",
       "      <th>Bad CVV</th>\n",
       "      <td>False</td>\n",
       "      <td>False</td>\n",
       "      <td>False</td>\n",
       "    </tr>\n",
       "    <tr>\n",
       "      <th>tx_type_online</th>\n",
       "      <td>True</td>\n",
       "      <td>True</td>\n",
       "      <td>True</td>\n",
       "    </tr>\n",
       "    <tr>\n",
       "      <th>tx_type_swipe</th>\n",
       "      <td>False</td>\n",
       "      <td>False</td>\n",
       "      <td>False</td>\n",
       "    </tr>\n",
       "    <tr>\n",
       "      <th>card_brand_Discover</th>\n",
       "      <td>False</td>\n",
       "      <td>False</td>\n",
       "      <td>False</td>\n",
       "    </tr>\n",
       "    <tr>\n",
       "      <th>card_brand_Mastercard</th>\n",
       "      <td>False</td>\n",
       "      <td>False</td>\n",
       "      <td>False</td>\n",
       "    </tr>\n",
       "    <tr>\n",
       "      <th>card_brand_Visa</th>\n",
       "      <td>True</td>\n",
       "      <td>True</td>\n",
       "      <td>True</td>\n",
       "    </tr>\n",
       "    <tr>\n",
       "      <th>card_type_Debit</th>\n",
       "      <td>False</td>\n",
       "      <td>False</td>\n",
       "      <td>False</td>\n",
       "    </tr>\n",
       "    <tr>\n",
       "      <th>card_type_Debit (Prepaid)</th>\n",
       "      <td>False</td>\n",
       "      <td>False</td>\n",
       "      <td>False</td>\n",
       "    </tr>\n",
       "    <tr>\n",
       "      <th>gender_Male</th>\n",
       "      <td>True</td>\n",
       "      <td>True</td>\n",
       "      <td>True</td>\n",
       "    </tr>\n",
       "  </tbody>\n",
       "</table>\n",
       "</div>"
      ],
      "text/plain": [
       "                                7977       7979       7987\n",
       "user                               5          5          5\n",
       "card                               0          0          0\n",
       "amount                         11.45      471.0     398.93\n",
       "is_fraud                        True       True       True\n",
       "has_chip                        True       True       True\n",
       "cards_issued                       2          2          2\n",
       "credit_limit                  9900.0     9900.0     9900.0\n",
       "latitude                       41.55      41.55      41.55\n",
       "longitude                      -90.6      -90.6      -90.6\n",
       "per_capita_income_zipcode    20599.0    20599.0    20599.0\n",
       "yearly_income_person         41997.0    41997.0    41997.0\n",
       "total_debt                       0.0        0.0        0.0\n",
       "fico_score                       704        704        704\n",
       "num_credit_cards                   3          3          3\n",
       "home_city                      False      False      False\n",
       "home_state                     False      False      False\n",
       "home_zip                       False      False      False\n",
       "overseas                       False      False      False\n",
       "user_age                   38.523288  38.523288  38.536986\n",
       "retired                        False      False      False\n",
       "until_expired                   1979       1979       1974\n",
       "since_opened                    5203       5203       5208\n",
       "mcc_fraud_rate              0.005829   0.012056   0.012056\n",
       "Insufficient Balance           False      False      False\n",
       "Bad Zipcode                    False      False      False\n",
       "Bad Expiration                 False      False      False\n",
       "Technical Glitch               False      False      False\n",
       "Bad Card Number                False      False      False\n",
       "Bad PIN                        False      False      False\n",
       "Bad CVV                        False      False      False\n",
       "tx_type_online                  True       True       True\n",
       "tx_type_swipe                  False      False      False\n",
       "card_brand_Discover            False      False      False\n",
       "card_brand_Mastercard          False      False      False\n",
       "card_brand_Visa                 True       True       True\n",
       "card_type_Debit                False      False      False\n",
       "card_type_Debit (Prepaid)      False      False      False\n",
       "gender_Male                     True       True       True"
      ]
     },
     "execution_count": 13,
     "metadata": {},
     "output_type": "execute_result"
    }
   ],
   "source": [
    "transform_pipeline = make_pipeline(\n",
    "    utils.MCCRates(),\n",
    "    utils.MakeDummies('errors')\n",
    ")\n",
    "\n",
    "transformed_df = transform_pipeline.fit_transform(balanced_df)\n",
    "transformed_df.head(3).T"
   ]
  },
  {
   "attachments": {},
   "cell_type": "markdown",
   "metadata": {},
   "source": [
    "The same 2 transformations (`mcc` codes and dummies) can also be performed on the testing data. Note that since the `mcc` averages and the categories are based on the training data, this code prevents contamination and ensures that the data has the correct number of features."
   ]
  },
  {
   "cell_type": "code",
   "execution_count": 14,
   "metadata": {},
   "outputs": [
    {
     "name": "stdout",
     "output_type": "stream",
     "text": [
      "count    1.176707e+06\n",
      "mean     1.239080e-03\n",
      "std      4.408158e-03\n",
      "min      0.000000e+00\n",
      "25%      1.435712e-04\n",
      "50%      3.340256e-04\n",
      "75%      8.865766e-04\n",
      "max      4.684385e-01\n",
      "Name: mcc_fraud_rate, dtype: float64\n",
      "Insufficient Balance    12162\n",
      "Bad Zipcode               110\n",
      "Bad Expiration            526\n",
      "Technical Glitch         2341\n",
      "Bad Card Number           632\n",
      "Bad PIN                  2661\n",
      "Bad CVV                   486\n",
      "dtype: int64\n"
     ]
    }
   ],
   "source": [
    "testing_data = pd.read_csv(utils.prepend_dir('tx_test.csv'), index_col=0)\n",
    "testing_data_transformed = transform_pipeline.transform(testing_data)\n",
    "print(testing_data_transformed['mcc_fraud_rate'].describe())\n",
    "print(testing_data_transformed[cats].sum())\n"
   ]
  },
  {
   "attachments": {},
   "cell_type": "markdown",
   "metadata": {},
   "source": [
    "## Wrap-up\n",
    "\n",
    "This notebook documents preparing training and testing data sets. It outputs CSV data files for:\n",
    "1. A testing set of 200 users\n",
    "1. An unbalanced training set of 400 users\n",
    "1. A balanced training set drawing on all 1,800 users in the wider pool of training data,\n",
    "\n",
    "This saved data is cleaned and ready to be fed into alternative transformation pipelines for different modeling strategies. Two important transformations are demonstrated in the final section of the notebook:\n",
    "1. Replacing MCC codes with rates of fraud observed in the training data\n",
    "1. Converting categorical features to dummies, including the `error` column that can have multiple errors for one observation"
   ]
  }
 ],
 "metadata": {
  "kernelspec": {
   "display_name": "CreditCardFraud-EA29h7JT",
   "language": "python",
   "name": "python3"
  },
  "language_info": {
   "codemirror_mode": {
    "name": "ipython",
    "version": 3
   },
   "file_extension": ".py",
   "mimetype": "text/x-python",
   "name": "python",
   "nbconvert_exporter": "python",
   "pygments_lexer": "ipython3",
   "version": "3.9.16"
  },
  "orig_nbformat": 4
 },
 "nbformat": 4,
 "nbformat_minor": 2
}
