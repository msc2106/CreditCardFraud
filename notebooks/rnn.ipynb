{
 "cells": [
  {
   "cell_type": "markdown",
   "metadata": {},
   "source": [
    "Training a Recurrent Neural Network on Google Colab TPU\n",
    "----"
   ]
  },
  {
   "cell_type": "markdown",
   "metadata": {},
   "source": [
    "# Setup"
   ]
  },
  {
   "cell_type": "code",
   "execution_count": 2,
   "metadata": {},
   "outputs": [],
   "source": [
    "%load_ext autoreload\n",
    "%autoreload 2"
   ]
  },
  {
   "cell_type": "markdown",
   "metadata": {},
   "source": [
    "## Imports"
   ]
  },
  {
   "cell_type": "code",
   "execution_count": 2,
   "metadata": {},
   "outputs": [
    {
     "name": "stderr",
     "output_type": "stream",
     "text": [
      "2023-10-18 18:30:52.065845: I tensorflow/tsl/cuda/cudart_stub.cc:28] Could not find cuda drivers on your machine, GPU will not be used.\n",
      "2023-10-18 18:30:52.111032: E tensorflow/compiler/xla/stream_executor/cuda/cuda_dnn.cc:9342] Unable to register cuDNN factory: Attempting to register factory for plugin cuDNN when one has already been registered\n",
      "2023-10-18 18:30:52.111074: E tensorflow/compiler/xla/stream_executor/cuda/cuda_fft.cc:609] Unable to register cuFFT factory: Attempting to register factory for plugin cuFFT when one has already been registered\n",
      "2023-10-18 18:30:52.111102: E tensorflow/compiler/xla/stream_executor/cuda/cuda_blas.cc:1518] Unable to register cuBLAS factory: Attempting to register factory for plugin cuBLAS when one has already been registered\n",
      "2023-10-18 18:30:52.119090: I tensorflow/tsl/cuda/cudart_stub.cc:28] Could not find cuda drivers on your machine, GPU will not be used.\n",
      "2023-10-18 18:30:52.120191: I tensorflow/core/platform/cpu_feature_guard.cc:182] This TensorFlow binary is optimized to use available CPU instructions in performance-critical operations.\n",
      "To enable the following instructions: AVX2 FMA, in other operations, rebuild TensorFlow with the appropriate compiler flags.\n",
      "2023-10-18 18:30:53.012965: W tensorflow/compiler/tf2tensorrt/utils/py_utils.cc:38] TF-TRT Warning: Could not find TensorRT\n"
     ]
    }
   ],
   "source": [
    "import sys\n",
    "import os\n",
    "import pandas as pd\n",
    "import numpy as np\n",
    "import matplotlib.pyplot as plt\n",
    "import tensorflow as tf\n",
    "from tensorflow import keras\n",
    "from typing import Tuple, Union, List\n",
    "from sklearn.base import BaseEstimator, TransformerMixin, ClassifierMixin\n",
    "# sys.path.append(\"../src\")"
   ]
  },
  {
   "cell_type": "markdown",
   "metadata": {},
   "source": [
    "## Getting data from Drive"
   ]
  },
  {
   "cell_type": "markdown",
   "metadata": {},
   "source": [
    "# Preprocessing"
   ]
  },
  {
   "cell_type": "markdown",
   "metadata": {},
   "source": [
    "## Transformer classes"
   ]
  },
  {
   "cell_type": "code",
   "execution_count": null,
   "metadata": {},
   "outputs": [],
   "source": [
    "def prepend_dir(filename):\n",
    "    \"\"\"\n",
    "    Prepends `../data/processed/` to the filename\n",
    "    \"\"\"\n",
    "    return '../data/processed/' + filename\n",
    "\n",
    "\n",
    "def convert_multicat(df: pd.DataFrame, colname: str, copy:bool=True) -> Tuple[pd.DataFrame, List[str]]:\n",
    "    '''(Optionally copies `df` and) converts the categorical column `colname` into dummies. Allows for membership in multiple categories separated by a single comma, e.g. entry \"a,b\" will be converted into `True` for columns `a` and `b`'''\n",
    "    if copy:\n",
    "        dummy_df = df.copy()\n",
    "    else:\n",
    "        dummy_df = df\n",
    "    cats = set()\n",
    "    for entry in dummy_df[colname].dropna().unique().tolist():\n",
    "        for cat in entry.split(','):\n",
    "            cats.add(cat)\n",
    "    cats = list(cats)\n",
    "    for cat in cats:\n",
    "        dummy_df[cat] = dummy_df[colname].str.contains(cat).fillna(False)\n",
    "    dummy_df.drop(columns=colname, inplace=True)\n",
    "\n",
    "    return dummy_df, cats\n",
    "\n",
    "\n",
    "\n",
    "class MakeDummies(BaseEstimator, TransformerMixin):\n",
    "    \"\"\"Transforms categorical columns into dummies. Can handle multi-category columns\"\"\"\n",
    "    def __init__(self, multicat_col: str, drop_first=True, dummy_cols:Union[List[str], str]='auto') -> None:\n",
    "        super().__init__()\n",
    "        self.multicat_col = multicat_col\n",
    "        self.drop_first = drop_first\n",
    "        self.dummy_cols= dummy_cols\n",
    "    \n",
    "    def fit(self, X, y=None):\n",
    "        _, self.cats = convert_multicat(X, self.multicat_col)\n",
    "        return self\n",
    "    \n",
    "    def fit_transform(self, X, y=None):\n",
    "        dummy_df, self.cats = convert_multicat(X, self.multicat_col)\n",
    "        dummy_df = pd.get_dummies(dummy_df, drop_first=self.drop_first)\n",
    "        return dummy_df\n",
    "    \n",
    "    def transform(self, X, y=None):\n",
    "        dummy_df = X.copy()\n",
    "        for cat in self.cats:\n",
    "            dummy_df[cat] = dummy_df[self.multicat_col].str.contains(cat).fillna(False)\n",
    "        dummy_df.drop(columns=self.multicat_col, inplace=True)\n",
    "        dummy_df = pd.get_dummies(dummy_df, drop_first=self.drop_first)\n",
    "\n",
    "        return dummy_df\n",
    "\n",
    "\n",
    "\n",
    "class MCCRates(BaseEstimator, TransformerMixin):\n",
    "    \"\"\"Transforms MCC codes into average fraud rates, based on saved data or a specific training set. Note: only accepts data frames\"\"\"\n",
    "    \n",
    "    mcc_rates_file = prepend_dir('mcc_rates.csv')\n",
    "    \n",
    "    def __init__(self, use_saved=True) -> None:\n",
    "        super().__init__()\n",
    "        self.use_saved = use_saved\n",
    "        self.mcc_rates = None\n",
    "\n",
    "    def fit(self, X, y=None):\n",
    "        if self.use_saved:\n",
    "            if self.mcc_rates is None:\n",
    "                self.mcc_rates = pd.read_csv(self.mcc_rates_file, index_col=0)\n",
    "        else:\n",
    "            self.mcc_rates = (\n",
    "                X.copy()\n",
    "                .groupby('mcc')\n",
    "                .agg('mean')\n",
    "                .rename({'mean':'mcc_fraud_rate'}, axis=1)\n",
    "            )\n",
    "        return self\n",
    "    \n",
    "    def fit_transform(self, X, y=None):\n",
    "        self.fit(X)\n",
    "        return self.transform(X)\n",
    "\n",
    "    def transform(self, X, y=None):\n",
    "        X_transformed = X.merge(self.mcc_rates, how='left', left_on='mcc', right_index=True)\n",
    "        X_transformed.drop(columns='mcc', inplace=True)\n",
    "        return X_transformed"
   ]
  },
  {
   "cell_type": "markdown",
   "metadata": {},
   "source": [
    "## Creating the datasets"
   ]
  },
  {
   "cell_type": "code",
   "execution_count": 4,
   "metadata": {},
   "outputs": [],
   "source": [
    "# load balanced training data and test data\n",
    "training_data = pd.read_csv(prepend_dir('tx_train_set.csv'), index_col=0)\n",
    "testing_data = pd.read_csv(prepend_dir('tx_test.csv'), index_col=0)\n",
    "\n",
    "mcc_converter = MCCRates()\n",
    "dummy_converter = MakeDummies('errors')\n",
    "\n",
    "# y_train = training_data.is_fraud.copy()\n",
    "# X_train = mcc_converter.fit_transform(training_data.drop(columns='is_fraud'))\n",
    "X_train = mcc_converter.fit_transform(training_data)\n",
    "X_train = dummy_converter.fit_transform(X_train)\n",
    "\n",
    "# y_test = testing_data.is_fraud.copy()\n",
    "# X_test = mcc_converter.transform(testing_data.drop(columns='is_fraud'))\n",
    "# X_test = dummy_converter.transform(X_test)\n",
    "# X_train.shape, X_test.shape, y_train.shape, y_test.shape"
   ]
  },
  {
   "cell_type": "code",
   "execution_count": 5,
   "metadata": {},
   "outputs": [
    {
     "data": {
      "text/html": [
       "<div>\n",
       "<style scoped>\n",
       "    .dataframe tbody tr th:only-of-type {\n",
       "        vertical-align: middle;\n",
       "    }\n",
       "\n",
       "    .dataframe tbody tr th {\n",
       "        vertical-align: top;\n",
       "    }\n",
       "\n",
       "    .dataframe thead th {\n",
       "        text-align: right;\n",
       "    }\n",
       "</style>\n",
       "<table border=\"1\" class=\"dataframe\">\n",
       "  <thead>\n",
       "    <tr style=\"text-align: right;\">\n",
       "      <th></th>\n",
       "      <th>2001</th>\n",
       "      <th>2005</th>\n",
       "      <th>2018</th>\n",
       "      <th>2028</th>\n",
       "      <th>2031</th>\n",
       "    </tr>\n",
       "  </thead>\n",
       "  <tbody>\n",
       "    <tr>\n",
       "      <th>user</th>\n",
       "      <td>22</td>\n",
       "      <td>22</td>\n",
       "      <td>22</td>\n",
       "      <td>22</td>\n",
       "      <td>22</td>\n",
       "    </tr>\n",
       "    <tr>\n",
       "      <th>card</th>\n",
       "      <td>0</td>\n",
       "      <td>0</td>\n",
       "      <td>0</td>\n",
       "      <td>0</td>\n",
       "      <td>0</td>\n",
       "    </tr>\n",
       "    <tr>\n",
       "      <th>amount</th>\n",
       "      <td>149.42</td>\n",
       "      <td>2.32</td>\n",
       "      <td>61.4</td>\n",
       "      <td>41.87</td>\n",
       "      <td>12.59</td>\n",
       "    </tr>\n",
       "    <tr>\n",
       "      <th>is_fraud</th>\n",
       "      <td>True</td>\n",
       "      <td>True</td>\n",
       "      <td>True</td>\n",
       "      <td>True</td>\n",
       "      <td>True</td>\n",
       "    </tr>\n",
       "    <tr>\n",
       "      <th>has_chip</th>\n",
       "      <td>True</td>\n",
       "      <td>True</td>\n",
       "      <td>True</td>\n",
       "      <td>True</td>\n",
       "      <td>True</td>\n",
       "    </tr>\n",
       "    <tr>\n",
       "      <th>cards_issued</th>\n",
       "      <td>2</td>\n",
       "      <td>2</td>\n",
       "      <td>2</td>\n",
       "      <td>2</td>\n",
       "      <td>2</td>\n",
       "    </tr>\n",
       "    <tr>\n",
       "      <th>credit_limit</th>\n",
       "      <td>4488.0</td>\n",
       "      <td>4488.0</td>\n",
       "      <td>4488.0</td>\n",
       "      <td>4488.0</td>\n",
       "      <td>4488.0</td>\n",
       "    </tr>\n",
       "    <tr>\n",
       "      <th>latitude</th>\n",
       "      <td>41.47</td>\n",
       "      <td>41.47</td>\n",
       "      <td>41.47</td>\n",
       "      <td>41.47</td>\n",
       "      <td>41.47</td>\n",
       "    </tr>\n",
       "    <tr>\n",
       "      <th>longitude</th>\n",
       "      <td>-81.67</td>\n",
       "      <td>-81.67</td>\n",
       "      <td>-81.67</td>\n",
       "      <td>-81.67</td>\n",
       "      <td>-81.67</td>\n",
       "    </tr>\n",
       "    <tr>\n",
       "      <th>per_capita_income_zipcode</th>\n",
       "      <td>19524.0</td>\n",
       "      <td>19524.0</td>\n",
       "      <td>19524.0</td>\n",
       "      <td>19524.0</td>\n",
       "      <td>19524.0</td>\n",
       "    </tr>\n",
       "    <tr>\n",
       "      <th>yearly_income_person</th>\n",
       "      <td>41109.0</td>\n",
       "      <td>41109.0</td>\n",
       "      <td>41109.0</td>\n",
       "      <td>41109.0</td>\n",
       "      <td>41109.0</td>\n",
       "    </tr>\n",
       "    <tr>\n",
       "      <th>total_debt</th>\n",
       "      <td>21486.0</td>\n",
       "      <td>21486.0</td>\n",
       "      <td>21486.0</td>\n",
       "      <td>21486.0</td>\n",
       "      <td>21486.0</td>\n",
       "    </tr>\n",
       "    <tr>\n",
       "      <th>fico_score</th>\n",
       "      <td>698</td>\n",
       "      <td>698</td>\n",
       "      <td>698</td>\n",
       "      <td>698</td>\n",
       "      <td>698</td>\n",
       "    </tr>\n",
       "    <tr>\n",
       "      <th>num_credit_cards</th>\n",
       "      <td>2</td>\n",
       "      <td>2</td>\n",
       "      <td>2</td>\n",
       "      <td>2</td>\n",
       "      <td>2</td>\n",
       "    </tr>\n",
       "    <tr>\n",
       "      <th>home_city</th>\n",
       "      <td>False</td>\n",
       "      <td>False</td>\n",
       "      <td>False</td>\n",
       "      <td>False</td>\n",
       "      <td>False</td>\n",
       "    </tr>\n",
       "    <tr>\n",
       "      <th>home_state</th>\n",
       "      <td>False</td>\n",
       "      <td>False</td>\n",
       "      <td>False</td>\n",
       "      <td>False</td>\n",
       "      <td>False</td>\n",
       "    </tr>\n",
       "    <tr>\n",
       "      <th>home_zip</th>\n",
       "      <td>False</td>\n",
       "      <td>False</td>\n",
       "      <td>False</td>\n",
       "      <td>False</td>\n",
       "      <td>False</td>\n",
       "    </tr>\n",
       "    <tr>\n",
       "      <th>overseas</th>\n",
       "      <td>False</td>\n",
       "      <td>False</td>\n",
       "      <td>False</td>\n",
       "      <td>True</td>\n",
       "      <td>False</td>\n",
       "    </tr>\n",
       "    <tr>\n",
       "      <th>user_age</th>\n",
       "      <td>66.213699</td>\n",
       "      <td>66.219178</td>\n",
       "      <td>66.230137</td>\n",
       "      <td>66.235616</td>\n",
       "      <td>66.238356</td>\n",
       "    </tr>\n",
       "    <tr>\n",
       "      <th>retired</th>\n",
       "      <td>True</td>\n",
       "      <td>True</td>\n",
       "      <td>True</td>\n",
       "      <td>True</td>\n",
       "      <td>True</td>\n",
       "    </tr>\n",
       "    <tr>\n",
       "      <th>until_expired</th>\n",
       "      <td>5478</td>\n",
       "      <td>5476</td>\n",
       "      <td>5472</td>\n",
       "      <td>5470</td>\n",
       "      <td>5469</td>\n",
       "    </tr>\n",
       "    <tr>\n",
       "      <th>since_opened</th>\n",
       "      <td>2588</td>\n",
       "      <td>2590</td>\n",
       "      <td>2594</td>\n",
       "      <td>2596</td>\n",
       "      <td>2597</td>\n",
       "    </tr>\n",
       "    <tr>\n",
       "      <th>mcc_fraud_rate</th>\n",
       "      <td>0.095563</td>\n",
       "      <td>0.000536</td>\n",
       "      <td>0.000536</td>\n",
       "      <td>0.000751</td>\n",
       "      <td>0.062307</td>\n",
       "    </tr>\n",
       "    <tr>\n",
       "      <th>Technical Glitch</th>\n",
       "      <td>False</td>\n",
       "      <td>False</td>\n",
       "      <td>False</td>\n",
       "      <td>False</td>\n",
       "      <td>False</td>\n",
       "    </tr>\n",
       "    <tr>\n",
       "      <th>Insufficient Balance</th>\n",
       "      <td>False</td>\n",
       "      <td>False</td>\n",
       "      <td>False</td>\n",
       "      <td>True</td>\n",
       "      <td>False</td>\n",
       "    </tr>\n",
       "    <tr>\n",
       "      <th>Bad Zipcode</th>\n",
       "      <td>False</td>\n",
       "      <td>False</td>\n",
       "      <td>False</td>\n",
       "      <td>False</td>\n",
       "      <td>False</td>\n",
       "    </tr>\n",
       "    <tr>\n",
       "      <th>Bad Expiration</th>\n",
       "      <td>False</td>\n",
       "      <td>False</td>\n",
       "      <td>False</td>\n",
       "      <td>False</td>\n",
       "      <td>False</td>\n",
       "    </tr>\n",
       "    <tr>\n",
       "      <th>Bad Card Number</th>\n",
       "      <td>False</td>\n",
       "      <td>False</td>\n",
       "      <td>False</td>\n",
       "      <td>False</td>\n",
       "      <td>False</td>\n",
       "    </tr>\n",
       "    <tr>\n",
       "      <th>Bad PIN</th>\n",
       "      <td>False</td>\n",
       "      <td>False</td>\n",
       "      <td>False</td>\n",
       "      <td>False</td>\n",
       "      <td>False</td>\n",
       "    </tr>\n",
       "    <tr>\n",
       "      <th>Bad CVV</th>\n",
       "      <td>False</td>\n",
       "      <td>False</td>\n",
       "      <td>False</td>\n",
       "      <td>False</td>\n",
       "      <td>False</td>\n",
       "    </tr>\n",
       "    <tr>\n",
       "      <th>tx_type_online</th>\n",
       "      <td>True</td>\n",
       "      <td>True</td>\n",
       "      <td>True</td>\n",
       "      <td>False</td>\n",
       "      <td>True</td>\n",
       "    </tr>\n",
       "    <tr>\n",
       "      <th>tx_type_swipe</th>\n",
       "      <td>False</td>\n",
       "      <td>False</td>\n",
       "      <td>False</td>\n",
       "      <td>True</td>\n",
       "      <td>False</td>\n",
       "    </tr>\n",
       "    <tr>\n",
       "      <th>card_brand_Discover</th>\n",
       "      <td>False</td>\n",
       "      <td>False</td>\n",
       "      <td>False</td>\n",
       "      <td>False</td>\n",
       "      <td>False</td>\n",
       "    </tr>\n",
       "    <tr>\n",
       "      <th>card_brand_Mastercard</th>\n",
       "      <td>False</td>\n",
       "      <td>False</td>\n",
       "      <td>False</td>\n",
       "      <td>False</td>\n",
       "      <td>False</td>\n",
       "    </tr>\n",
       "    <tr>\n",
       "      <th>card_brand_Visa</th>\n",
       "      <td>True</td>\n",
       "      <td>True</td>\n",
       "      <td>True</td>\n",
       "      <td>True</td>\n",
       "      <td>True</td>\n",
       "    </tr>\n",
       "    <tr>\n",
       "      <th>card_type_Debit</th>\n",
       "      <td>True</td>\n",
       "      <td>True</td>\n",
       "      <td>True</td>\n",
       "      <td>True</td>\n",
       "      <td>True</td>\n",
       "    </tr>\n",
       "    <tr>\n",
       "      <th>card_type_Debit (Prepaid)</th>\n",
       "      <td>False</td>\n",
       "      <td>False</td>\n",
       "      <td>False</td>\n",
       "      <td>False</td>\n",
       "      <td>False</td>\n",
       "    </tr>\n",
       "    <tr>\n",
       "      <th>gender_Male</th>\n",
       "      <td>True</td>\n",
       "      <td>True</td>\n",
       "      <td>True</td>\n",
       "      <td>True</td>\n",
       "      <td>True</td>\n",
       "    </tr>\n",
       "  </tbody>\n",
       "</table>\n",
       "</div>"
      ],
      "text/plain": [
       "                                2001       2005       2018       2028  \\\n",
       "user                              22         22         22         22   \n",
       "card                               0          0          0          0   \n",
       "amount                        149.42       2.32       61.4      41.87   \n",
       "is_fraud                        True       True       True       True   \n",
       "has_chip                        True       True       True       True   \n",
       "cards_issued                       2          2          2          2   \n",
       "credit_limit                  4488.0     4488.0     4488.0     4488.0   \n",
       "latitude                       41.47      41.47      41.47      41.47   \n",
       "longitude                     -81.67     -81.67     -81.67     -81.67   \n",
       "per_capita_income_zipcode    19524.0    19524.0    19524.0    19524.0   \n",
       "yearly_income_person         41109.0    41109.0    41109.0    41109.0   \n",
       "total_debt                   21486.0    21486.0    21486.0    21486.0   \n",
       "fico_score                       698        698        698        698   \n",
       "num_credit_cards                   2          2          2          2   \n",
       "home_city                      False      False      False      False   \n",
       "home_state                     False      False      False      False   \n",
       "home_zip                       False      False      False      False   \n",
       "overseas                       False      False      False       True   \n",
       "user_age                   66.213699  66.219178  66.230137  66.235616   \n",
       "retired                         True       True       True       True   \n",
       "until_expired                   5478       5476       5472       5470   \n",
       "since_opened                    2588       2590       2594       2596   \n",
       "mcc_fraud_rate              0.095563   0.000536   0.000536   0.000751   \n",
       "Technical Glitch               False      False      False      False   \n",
       "Insufficient Balance           False      False      False       True   \n",
       "Bad Zipcode                    False      False      False      False   \n",
       "Bad Expiration                 False      False      False      False   \n",
       "Bad Card Number                False      False      False      False   \n",
       "Bad PIN                        False      False      False      False   \n",
       "Bad CVV                        False      False      False      False   \n",
       "tx_type_online                  True       True       True      False   \n",
       "tx_type_swipe                  False      False      False       True   \n",
       "card_brand_Discover            False      False      False      False   \n",
       "card_brand_Mastercard          False      False      False      False   \n",
       "card_brand_Visa                 True       True       True       True   \n",
       "card_type_Debit                 True       True       True       True   \n",
       "card_type_Debit (Prepaid)      False      False      False      False   \n",
       "gender_Male                     True       True       True       True   \n",
       "\n",
       "                                2031  \n",
       "user                              22  \n",
       "card                               0  \n",
       "amount                         12.59  \n",
       "is_fraud                        True  \n",
       "has_chip                        True  \n",
       "cards_issued                       2  \n",
       "credit_limit                  4488.0  \n",
       "latitude                       41.47  \n",
       "longitude                     -81.67  \n",
       "per_capita_income_zipcode    19524.0  \n",
       "yearly_income_person         41109.0  \n",
       "total_debt                   21486.0  \n",
       "fico_score                       698  \n",
       "num_credit_cards                   2  \n",
       "home_city                      False  \n",
       "home_state                     False  \n",
       "home_zip                       False  \n",
       "overseas                       False  \n",
       "user_age                   66.238356  \n",
       "retired                         True  \n",
       "until_expired                   5469  \n",
       "since_opened                    2597  \n",
       "mcc_fraud_rate              0.062307  \n",
       "Technical Glitch               False  \n",
       "Insufficient Balance           False  \n",
       "Bad Zipcode                    False  \n",
       "Bad Expiration                 False  \n",
       "Bad Card Number                False  \n",
       "Bad PIN                        False  \n",
       "Bad CVV                        False  \n",
       "tx_type_online                  True  \n",
       "tx_type_swipe                  False  \n",
       "card_brand_Discover            False  \n",
       "card_brand_Mastercard          False  \n",
       "card_brand_Visa                 True  \n",
       "card_type_Debit                 True  \n",
       "card_type_Debit (Prepaid)      False  \n",
       "gender_Male                     True  "
      ]
     },
     "execution_count": 5,
     "metadata": {},
     "output_type": "execute_result"
    }
   ],
   "source": [
    "X_train.head().T"
   ]
  },
  {
   "cell_type": "code",
   "execution_count": 6,
   "metadata": {},
   "outputs": [
    {
     "name": "stdout",
     "output_type": "stream",
     "text": [
      "217 47363 38\n"
     ]
    }
   ],
   "source": [
    "max_length = X_train.groupby('user')['amount'].agg('count').max()\n",
    "D = X_train.shape[1]\n",
    "train_users = training_data.user.unique()\n",
    "print(len(train_users), max_length, D)"
   ]
  },
  {
   "cell_type": "markdown",
   "metadata": {},
   "source": [
    "Keras RNNs take 3-d arrays of shape $(N, L, D)$, where $L$ is a fixed sequence length. Observations with shorter sequences should be \"padded\" to the right with 0 vectors. These can then be processed by a `Mask(mask_value=0.0, input_shape=(L,D))` layer, which will output a boolean matrix of size $(N,L)$ indicating which sequence entries are real observations. There is a utility function for padding, but only seems to work with 1d sequences."
   ]
  },
  {
   "cell_type": "code",
   "execution_count": 7,
   "metadata": {},
   "outputs": [
    {
     "data": {
      "text/plain": [
       "(217, 47363, 36)"
      ]
     },
     "execution_count": 7,
     "metadata": {},
     "output_type": "execute_result"
    }
   ],
   "source": [
    "X_seq_train = np.zeros((len(train_users), max_length, D-2))\n",
    "y_seq_train = np.zeros((len(train_users), max_length, 1))\n",
    "X_seq_train.shape"
   ]
  },
  {
   "cell_type": "code",
   "execution_count": 8,
   "metadata": {},
   "outputs": [],
   "source": [
    "for i, user in enumerate(train_users):\n",
    "    seq_length = len(X_train[X_train.user==user])\n",
    "    X_seq_train[i,:seq_length,:] = X_train[X_train.user==user].drop(columns=['user', 'is_fraud']).copy()\n",
    "    y_seq_train[i,:seq_length,0] = X_train[X_train.user==user].is_fraud.copy()\n",
    "y_train = y_seq_train.reshape(-1)"
   ]
  },
  {
   "cell_type": "code",
   "execution_count": 9,
   "metadata": {},
   "outputs": [],
   "source": [
    "seq_length, num_cols = X_seq_train.shape[1:]"
   ]
  },
  {
   "cell_type": "markdown",
   "metadata": {},
   "source": [
    "How to get predictions for the whole sequence? Gedion has example where this is achieved by a dense layer with width matching the sequence to be predicted. However, this creates a LOT of weights."
   ]
  },
  {
   "cell_type": "code",
   "execution_count": 10,
   "metadata": {},
   "outputs": [
    {
     "data": {
      "text/plain": [
       "((217, 47363, 1), (217, 47363, 36))"
      ]
     },
     "execution_count": 10,
     "metadata": {},
     "output_type": "execute_result"
    }
   ],
   "source": [
    "y_seq_train.shape, X_seq_train.shape"
   ]
  },
  {
   "cell_type": "markdown",
   "metadata": {},
   "source": [
    "# Model setup"
   ]
  },
  {
   "cell_type": "markdown",
   "metadata": {},
   "source": [
    "## TPU strategy"
   ]
  },
  {
   "cell_type": "code",
   "execution_count": null,
   "metadata": {},
   "outputs": [],
   "source": [
    "tf.keras.backend.clear_session()\n",
    "\n",
    "resolver = tf.distribute.cluster_resolver.TPUClusterResolver('grpc://' + os.environ['COLAB_TPU_ADDR'])\n",
    "# or: tf.distribute.cluster_resolver.TPUClusterResolver() # TPU detection\n",
    "tf.config.experimental_connect_to_cluster(resolver)\n",
    "\n",
    "# This is the TPU initialization code that has to be at the beginning.\n",
    "tf.tpu.experimental.initialize_tpu_system(resolver)\n",
    "print(\"All devices: \", tf.config.list_logical_devices('TPU'))\n",
    "\n",
    "strategy = tf.distribute.experimental.TPUStrategy(resolver)"
   ]
  },
  {
   "cell_type": "code",
   "execution_count": 11,
   "metadata": {},
   "outputs": [
    {
     "name": "stdout",
     "output_type": "stream",
     "text": [
      "Model: \"sequential\"\n",
      "_________________________________________________________________\n",
      " Layer (type)                Output Shape              Param #   \n",
      "=================================================================\n",
      " masking (Masking)           (None, 47363, 36)         0         \n",
      "                                                                 \n",
      " time_distributed (TimeDist  (None, 47363, 50)         1850      \n",
      " ributed)                                                        \n",
      "                                                                 \n",
      " lstm (LSTM)                 (None, 47363, 25)         7600      \n",
      "                                                                 \n",
      " time_distributed_1 (TimeDi  (None, 47363, 50)         1300      \n",
      " stributed)                                                      \n",
      "                                                                 \n",
      " time_distributed_2 (TimeDi  (None, 47363, 1)          51        \n",
      " stributed)                                                      \n",
      "                                                                 \n",
      "=================================================================\n",
      "Total params: 10801 (42.19 KB)\n",
      "Trainable params: 10801 (42.19 KB)\n",
      "Non-trainable params: 0 (0.00 Byte)\n",
      "_________________________________________________________________\n",
      "None\n",
      "Epoch 1/10\n",
      "7/7 [==============================] - 1101s 157s/step - loss: 0.4752\n",
      "Epoch 2/10\n",
      "7/7 [==============================] - 1168s 168s/step - loss: 0.3436\n",
      "Epoch 3/10\n",
      "7/7 [==============================] - 1297s 186s/step - loss: 0.2558\n",
      "Epoch 4/10\n",
      "7/7 [==============================] - 1446s 206s/step - loss: 0.1997\n",
      "Epoch 5/10\n",
      "7/7 [==============================] - 1487s 211s/step - loss: 0.1586\n",
      "Epoch 6/10\n",
      "7/7 [==============================] - 1389s 196s/step - loss: 0.1279\n",
      "Epoch 7/10\n",
      "7/7 [==============================] - 1469s 213s/step - loss: 0.1043\n",
      "Epoch 8/10\n",
      "7/7 [==============================] - 1385s 200s/step - loss: 0.0867\n",
      "Epoch 9/10\n",
      "7/7 [==============================] - 1543s 220s/step - loss: 0.0726\n",
      "Epoch 10/10\n",
      "7/7 [==============================] - 1526s 217s/step - loss: 0.0610\n"
     ]
    }
   ],
   "source": [
    "def create_model(seq_length, num_cols, dense_width=1000, lstm_width=1000):\n",
    "    rnn = keras.models.Sequential()\n",
    "\n",
    "    rnn.add(keras.layers.Masking(input_shape=(seq_length, num_cols)))\n",
    "\n",
    "    feature_extraction = keras.layers.Dense(dense_width, activation='relu')\n",
    "    rnn.add(keras.layers.TimeDistributed(feature_extraction))\n",
    "\n",
    "    rnn.add(keras.layers.LSTM(lstm_width, return_sequences=True))\n",
    "\n",
    "    post_rnn = keras.layers.Dense(dense_width, activation='relu')\n",
    "    rnn.add(keras.layers.TimeDistributed(post_rnn))\n",
    "\n",
    "    output_layer = keras.layers.Dense(1, activation='sigmoid')\n",
    "    rnn.add(keras.layers.TimeDistributed(output_layer))\n",
    "\n",
    "    rnn.compile(\n",
    "        optimizer='adam',\n",
    "        loss='binary_crossentropy',\n",
    "        metrics=['recall']\n",
    "    )\n",
    "    return rnn\n",
    "\n"
   ]
  },
  {
   "cell_type": "markdown",
   "metadata": {},
   "source": [
    "# Training"
   ]
  },
  {
   "cell_type": "code",
   "execution_count": null,
   "metadata": {},
   "outputs": [],
   "source": [
    "with strategy.scope():\n",
    "    rnn = create_model(seq_length, num_cols)\n",
    "\n",
    "print(rnn.summary())\n",
    "training_history = rnn.fit(\n",
    "    X_seq_train, \n",
    "    y_seq_train, \n",
    "    epochs=10,\n",
    ")\n",
    "\n",
    "rnn.save_weights('./fraud_prediction_rnn.h5', overwrite=True)"
   ]
  },
  {
   "cell_type": "code",
   "execution_count": 12,
   "metadata": {},
   "outputs": [
    {
     "name": "stdout",
     "output_type": "stream",
     "text": [
      "7/7 [==============================] - 48s 7s/step\n"
     ]
    }
   ],
   "source": [
    "y_pred = rnn.predict(X_seq_train).reshape(-1)"
   ]
  },
  {
   "cell_type": "code",
   "execution_count": 26,
   "metadata": {},
   "outputs": [
    {
     "data": {
      "image/png": "[encoded data removed]",
      "text/plain": [
       "<Figure size 640x480 with 1 Axes>"
      ]
     },
     "metadata": {},
     "output_type": "display_data"
    }
   ],
   "source": [
    "from sklearn.metrics import PrecisionRecallDisplay\n",
    "p_r_curve = PrecisionRecallDisplay.from_predictions(y_train, y_pred)\n",
    "plt.axis([0.5, 1., 0., 0.25]);"
   ]
  },
  {
   "cell_type": "code",
   "execution_count": 22,
   "metadata": {},
   "outputs": [
    {
     "data": {
      "image/png": "[encoded data removed]",
      "text/plain": [
       "<Figure size 640x480 with 1 Axes>"
      ]
     },
     "metadata": {},
     "output_type": "display_data"
    }
   ],
   "source": [
    "plt.hist(y_pred[y_train==1], bins=100);"
   ]
  },
  {
   "cell_type": "code",
   "execution_count": 27,
   "metadata": {},
   "outputs": [
    {
     "data": {
      "text/plain": [
       "3228.0"
      ]
     },
     "execution_count": 27,
     "metadata": {},
     "output_type": "execute_result"
    }
   ],
   "source": [
    "np.sum(y_train)"
   ]
  }
 ],
 "metadata": {
  "kernelspec": {
   "display_name": "CreditCardFraud-UbjN0nMT",
   "language": "python",
   "name": "python3"
  },
  "language_info": {
   "codemirror_mode": {
    "name": "ipython",
    "version": 3
   },
   "file_extension": ".py",
   "mimetype": "text/x-python",
   "name": "python",
   "nbconvert_exporter": "python",
   "pygments_lexer": "ipython3",
   "version": "3.9.16"
  },
  "orig_nbformat": 4
 },
 "nbformat": 4,
 "nbformat_minor": 2
}
