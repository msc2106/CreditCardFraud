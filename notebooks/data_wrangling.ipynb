{
 "cells": [
  {
   "attachments": {},
   "cell_type": "markdown",
   "metadata": {},
   "source": [
    "# Identifying Credit Card Fraud: 1. Data Wrangling\n",
    "Mark Cohen\n",
    "\n",
    "2023-3-7"
   ]
  },
  {
   "attachments": {},
   "cell_type": "markdown",
   "metadata": {},
   "source": [
    "## 1 Setup\n",
    "\n",
    "The structure of the project directory is as follows:\n",
    "- data\n",
    "    - raw\n",
    "    - processed\n",
    "- src\n",
    "- notebooks\n",
    "- models\n",
    "- reports\n",
    "\n",
    "The `src` directory includes python scripts that define utility functions needed at various steps of the project. This data wrangling notebook will use the `utils.py`, which provides functions to download and load the project's data.\n",
    "\n",
    "**NOTE:** because of its size, the raw data is not stored in the github repository. Instead, the zipped data is mirrored on my Google Drive account. See the file `data source and license.txt` for the original source and license. "
   ]
  },
  {
   "cell_type": "code",
   "execution_count": 1,
   "metadata": {},
   "outputs": [],
   "source": [
    "%load_ext autoreload\n",
    "%autoreload 2"
   ]
  },
  {
   "cell_type": "code",
   "execution_count": 2,
   "metadata": {},
   "outputs": [],
   "source": [
    "import sys\n",
    "import pandas as pd\n",
    "import numpy as np\n",
    "from functools import reduce\n",
    "sys.path.append(\"../src\")\n",
    "import utils"
   ]
  },
  {
   "cell_type": "code",
   "execution_count": 3,
   "metadata": {},
   "outputs": [
    {
     "name": "stdout",
     "output_type": "stream",
     "text": [
      "Downloading data.\n",
      "Downloaded ../tmp/data_archive.zip\n",
      "Unzipping data files.\n"
     ]
    }
   ],
   "source": [
    "# Confirming that data is present locally, or downloading and unzipping if not.\n",
    "utils.raw_data_on_disk()"
   ]
  },
  {
   "attachments": {},
   "cell_type": "markdown",
   "metadata": {},
   "source": [
    "## 2 Inspecting the data files"
   ]
  },
  {
   "attachments": {},
   "cell_type": "markdown",
   "metadata": {},
   "source": [
    "### 2.1 A sample transaction record\n",
    "\n",
    "The data set includes the transaction records for a single customer separated out into its own csv file. It will be useful to look at this file to get a sense of the format of the data."
   ]
  },
  {
   "cell_type": "code",
   "execution_count": 4,
   "metadata": {},
   "outputs": [],
   "source": [
    "df_user0 = utils.read_sample_transactions()"
   ]
  },
  {
   "attachments": {},
   "cell_type": "markdown",
   "metadata": {},
   "source": [
    "As seen below, the dataset includes almost 20,000 transactions for this one user, and each transaction record consists of 15 features.\n",
    "\n",
    "The column names are inconvenient for data frame indexing. They should be reformatted in snake case with no special characters.\n",
    "\n",
    "We can also see already that some of the data types will need to be adjusted:\n",
    "1. Amount is a string, including currency marks.\n",
    "1. Zip is a float rather than int or string.\n",
    "1. The target feature is a text `yes`/`no` rather than an integer or boolean.\n",
    "\n",
    "`MCC` is \"Merchant Category Code.\" For example: `5411` represents \"Grocery Stores and Supermarkets.\" See the following document from Visa: https://usa.visa.com/content/dam/VCOM/download/merchants/visa-merchant-data-standards-manual.pdf. \n",
    "\n",
    "Finally, there are a substantial number of missing values in the `Merchant State` and `Zip` columns. In the `Errors?` column most rows have no value, which probably means there is no error."
   ]
  },
  {
   "cell_type": "code",
   "execution_count": 5,
   "metadata": {},
   "outputs": [
    {
     "name": "stdout",
     "output_type": "stream",
     "text": [
      "<class 'pandas.core.frame.DataFrame'>\n",
      "RangeIndex: 19963 entries, 0 to 19962\n",
      "Data columns (total 15 columns):\n",
      " #   Column          Non-Null Count  Dtype  \n",
      "---  ------          --------------  -----  \n",
      " 0   User            19963 non-null  int64  \n",
      " 1   Card            19963 non-null  int64  \n",
      " 2   Year            19963 non-null  int64  \n",
      " 3   Month           19963 non-null  int64  \n",
      " 4   Day             19963 non-null  int64  \n",
      " 5   Time            19963 non-null  object \n",
      " 6   Amount          19963 non-null  object \n",
      " 7   Use Chip        19963 non-null  object \n",
      " 8   Merchant Name   19963 non-null  int64  \n",
      " 9   Merchant City   19963 non-null  object \n",
      " 10  Merchant State  18646 non-null  object \n",
      " 11  Zip             18316 non-null  float64\n",
      " 12  MCC             19963 non-null  int64  \n",
      " 13  Errors?         574 non-null    object \n",
      " 14  Is Fraud?       19963 non-null  object \n",
      "dtypes: float64(1), int64(7), object(7)\n",
      "memory usage: 2.3+ MB\n",
      "None\n",
      "                                  0                    1                    2\n",
      "User                              0                    0                    0\n",
      "Card                              0                    0                    0\n",
      "Year                           2002                 2002                 2002\n",
      "Month                             9                    9                    9\n",
      "Day                               1                    1                    2\n",
      "Time                          06:21                06:42                06:22\n",
      "Amount                      $134.09               $38.48              $120.34\n",
      "Use Chip          Swipe Transaction    Swipe Transaction    Swipe Transaction\n",
      "Merchant Name   3527213246127876953  -727612092139916043  -727612092139916043\n",
      "Merchant City              La Verne        Monterey Park        Monterey Park\n",
      "Merchant State                   CA                   CA                   CA\n",
      "Zip                         91750.0              91754.0              91754.0\n",
      "MCC                            5300                 5411                 5411\n",
      "Errors?                         NaN                  NaN                  NaN\n",
      "Is Fraud?                        No                   No                   No\n"
     ]
    }
   ],
   "source": [
    "print(df_user0.info())\n",
    "print(df_user0.head(3).T)"
   ]
  },
  {
   "cell_type": "code",
   "execution_count": 6,
   "metadata": {},
   "outputs": [
    {
     "name": "stdout",
     "output_type": "stream",
     "text": [
      "New column names: Index(['user', 'card', 'year', 'month', 'day', 'time', 'amount', 'use_chip',\n",
      "       'merchant_name', 'merchant_city', 'merchant_state', 'zip', 'mcc',\n",
      "       'errors', 'is_fraud'],\n",
      "      dtype='object')\n"
     ]
    }
   ],
   "source": [
    "# Updating the column names\n",
    "\n",
    "df_user0.columns = utils.update_colnames(df_user0.columns)\n",
    "print(f\"New column names: {df_user0.columns}\")"
   ]
  },
  {
   "attachments": {},
   "cell_type": "markdown",
   "metadata": {},
   "source": [
    "Looking next at descriptive statistics for the numeric features, a few points stand out.\n",
    "1. The data for this user includes transactions from 5 distinct cards.\n",
    "1. The data covers a long period of time: from 2002 to 2020. One possibility might be to subset the data on time rather than by customers, e.g. restrict it to a period of a few years.\n",
    "1. In addition to missing values, the minimum value of the zip code column is not a valid zip code."
   ]
  },
  {
   "cell_type": "code",
   "execution_count": 7,
   "metadata": {},
   "outputs": [
    {
     "data": {
      "text/html": [
       "<div>\n",
       "<style scoped>\n",
       "    .dataframe tbody tr th:only-of-type {\n",
       "        vertical-align: middle;\n",
       "    }\n",
       "\n",
       "    .dataframe tbody tr th {\n",
       "        vertical-align: top;\n",
       "    }\n",
       "\n",
       "    .dataframe thead th {\n",
       "        text-align: right;\n",
       "    }\n",
       "</style>\n",
       "<table border=\"1\" class=\"dataframe\">\n",
       "  <thead>\n",
       "    <tr style=\"text-align: right;\">\n",
       "      <th></th>\n",
       "      <th>user</th>\n",
       "      <th>card</th>\n",
       "      <th>year</th>\n",
       "      <th>month</th>\n",
       "      <th>day</th>\n",
       "      <th>merchant_name</th>\n",
       "      <th>zip</th>\n",
       "      <th>mcc</th>\n",
       "    </tr>\n",
       "  </thead>\n",
       "  <tbody>\n",
       "    <tr>\n",
       "      <th>count</th>\n",
       "      <td>19963.0</td>\n",
       "      <td>19963.000000</td>\n",
       "      <td>19963.000000</td>\n",
       "      <td>19963.000000</td>\n",
       "      <td>19963.000000</td>\n",
       "      <td>1.996300e+04</td>\n",
       "      <td>18316.000000</td>\n",
       "      <td>19963.000000</td>\n",
       "    </tr>\n",
       "    <tr>\n",
       "      <th>mean</th>\n",
       "      <td>0.0</td>\n",
       "      <td>1.910735</td>\n",
       "      <td>2011.011922</td>\n",
       "      <td>6.568101</td>\n",
       "      <td>15.743876</td>\n",
       "      <td>7.825653e+17</td>\n",
       "      <td>88812.744922</td>\n",
       "      <td>5617.940239</td>\n",
       "    </tr>\n",
       "    <tr>\n",
       "      <th>std</th>\n",
       "      <td>0.0</td>\n",
       "      <td>1.237763</td>\n",
       "      <td>5.048146</td>\n",
       "      <td>3.477497</td>\n",
       "      <td>8.801378</td>\n",
       "      <td>4.040602e+18</td>\n",
       "      <td>13711.491085</td>\n",
       "      <td>707.982901</td>\n",
       "    </tr>\n",
       "    <tr>\n",
       "      <th>min</th>\n",
       "      <td>0.0</td>\n",
       "      <td>0.000000</td>\n",
       "      <td>2002.000000</td>\n",
       "      <td>1.000000</td>\n",
       "      <td>1.000000</td>\n",
       "      <td>-9.179793e+18</td>\n",
       "      <td>1012.000000</td>\n",
       "      <td>1711.000000</td>\n",
       "    </tr>\n",
       "    <tr>\n",
       "      <th>25%</th>\n",
       "      <td>0.0</td>\n",
       "      <td>0.000000</td>\n",
       "      <td>2007.000000</td>\n",
       "      <td>4.000000</td>\n",
       "      <td>8.000000</td>\n",
       "      <td>-1.288082e+18</td>\n",
       "      <td>91750.000000</td>\n",
       "      <td>5311.000000</td>\n",
       "    </tr>\n",
       "    <tr>\n",
       "      <th>50%</th>\n",
       "      <td>0.0</td>\n",
       "      <td>2.000000</td>\n",
       "      <td>2011.000000</td>\n",
       "      <td>7.000000</td>\n",
       "      <td>16.000000</td>\n",
       "      <td>8.384250e+17</td>\n",
       "      <td>91750.000000</td>\n",
       "      <td>5499.000000</td>\n",
       "    </tr>\n",
       "    <tr>\n",
       "      <th>75%</th>\n",
       "      <td>0.0</td>\n",
       "      <td>3.000000</td>\n",
       "      <td>2015.000000</td>\n",
       "      <td>10.000000</td>\n",
       "      <td>23.000000</td>\n",
       "      <td>4.060647e+18</td>\n",
       "      <td>91752.000000</td>\n",
       "      <td>5912.000000</td>\n",
       "    </tr>\n",
       "    <tr>\n",
       "      <th>max</th>\n",
       "      <td>0.0</td>\n",
       "      <td>4.000000</td>\n",
       "      <td>2020.000000</td>\n",
       "      <td>12.000000</td>\n",
       "      <td>31.000000</td>\n",
       "      <td>9.137769e+18</td>\n",
       "      <td>99504.000000</td>\n",
       "      <td>9402.000000</td>\n",
       "    </tr>\n",
       "  </tbody>\n",
       "</table>\n",
       "</div>"
      ],
      "text/plain": [
       "          user          card          year         month           day  \\\n",
       "count  19963.0  19963.000000  19963.000000  19963.000000  19963.000000   \n",
       "mean       0.0      1.910735   2011.011922      6.568101     15.743876   \n",
       "std        0.0      1.237763      5.048146      3.477497      8.801378   \n",
       "min        0.0      0.000000   2002.000000      1.000000      1.000000   \n",
       "25%        0.0      0.000000   2007.000000      4.000000      8.000000   \n",
       "50%        0.0      2.000000   2011.000000      7.000000     16.000000   \n",
       "75%        0.0      3.000000   2015.000000     10.000000     23.000000   \n",
       "max        0.0      4.000000   2020.000000     12.000000     31.000000   \n",
       "\n",
       "       merchant_name           zip           mcc  \n",
       "count   1.996300e+04  18316.000000  19963.000000  \n",
       "mean    7.825653e+17  88812.744922   5617.940239  \n",
       "std     4.040602e+18  13711.491085    707.982901  \n",
       "min    -9.179793e+18   1012.000000   1711.000000  \n",
       "25%    -1.288082e+18  91750.000000   5311.000000  \n",
       "50%     8.384250e+17  91750.000000   5499.000000  \n",
       "75%     4.060647e+18  91752.000000   5912.000000  \n",
       "max     9.137769e+18  99504.000000   9402.000000  "
      ]
     },
     "execution_count": 7,
     "metadata": {},
     "output_type": "execute_result"
    }
   ],
   "source": [
    "df_user0.describe()"
   ]
  },
  {
   "attachments": {},
   "cell_type": "markdown",
   "metadata": {},
   "source": [
    "Looking first at the `zip` column, most of the rows with missing data represent online transactions. Transactions outside of the United States are recorded such that there is no zip code and the country name is stored in the `merchant_state` column."
   ]
  },
  {
   "cell_type": "code",
   "execution_count": 8,
   "metadata": {},
   "outputs": [
    {
     "name": "stdout",
     "output_type": "stream",
     "text": [
      "merchant_city\n",
      "ONLINE            1317\n",
      "Cancun             112\n",
      "Manila              46\n",
      "Kingston            46\n",
      "Cabo San Lucas      34\n",
      "Rome                32\n",
      "Tallinn             13\n",
      "Tokyo               12\n",
      "Beijing             11\n",
      "Shanghai             7\n",
      "Lisbon               6\n",
      "Zurich               5\n",
      "Santo Domingo        4\n",
      "Toronto              2\n",
      "Name: count, dtype: int64\n",
      "\n",
      "merchant_state\n",
      "Mexico                146\n",
      "Philippines            46\n",
      "Jamaica                46\n",
      "Italy                  32\n",
      "China                  18\n",
      "Estonia                13\n",
      "Japan                  12\n",
      "Portugal                6\n",
      "Switzerland             5\n",
      "Dominican Republic      4\n",
      "Canada                  2\n",
      "Name: count, dtype: int64\n"
     ]
    }
   ],
   "source": [
    "missing_zip = df_user0.loc[df_user0.zip.isna(),[\"merchant_city\", \"merchant_state\", \"zip\"]]\n",
    "print(missing_zip.merchant_city.value_counts())\n",
    "print()\n",
    "print(missing_zip.loc[missing_zip.merchant_state != 'ONLINE', 'merchant_state'].value_counts())"
   ]
  },
  {
   "attachments": {},
   "cell_type": "markdown",
   "metadata": {},
   "source": [
    "As for the zip codes that seem to be too short, this is apparently because leading zeros (i.e. zip codes from northeastern states) have been dropped. This does not impact the validity or usability of the data, so it will be left as is for now."
   ]
  },
  {
   "cell_type": "code",
   "execution_count": 9,
   "metadata": {},
   "outputs": [
    {
     "name": "stdout",
     "output_type": "stream",
     "text": [
      "['NJ' 'CT' 'MA']\n"
     ]
    }
   ],
   "source": [
    "low_zip = df_user0[df_user0.zip < 10000]\n",
    "print(low_zip.merchant_state.unique())"
   ]
  },
  {
   "attachments": {},
   "cell_type": "markdown",
   "metadata": {},
   "source": [
    "Moving on to the textual columns, it turns out that the `amount` column just appends `$` to every value. Accordingly, this can be removed and the values converted to float."
   ]
  },
  {
   "cell_type": "code",
   "execution_count": 10,
   "metadata": {},
   "outputs": [
    {
     "name": "stdout",
     "output_type": "stream",
     "text": [
      "The first character of the amount column:\n",
      " amount\n",
      "$    19963\n",
      "Name: count, dtype: int64\n"
     ]
    },
    {
     "data": {
      "text/plain": [
       "count    19963.000000\n",
       "mean        81.299989\n",
       "std         94.159093\n",
       "min       -499.000000\n",
       "25%         36.630000\n",
       "50%         69.450000\n",
       "75%        125.680000\n",
       "max       1409.400000\n",
       "Name: amount, dtype: float64"
      ]
     },
     "execution_count": 10,
     "metadata": {},
     "output_type": "execute_result"
    }
   ],
   "source": [
    "print(f\"The first character of the amount column:\\n {df_user0.amount.str.get(0).value_counts()}\")\n",
    "\n",
    "df_user0.amount = utils.convert_dollar_amounts(df_user0.amount)\n",
    "df_user0.amount.describe()"
   ]
  },
  {
   "attachments": {},
   "cell_type": "markdown",
   "metadata": {},
   "source": [
    "This reveals an additional issue: some of the transaction values are negative. These appear to be refunds: note how the 2nd example immediately follows a transaction for the same (but positive) amount from the same merchant."
   ]
  },
  {
   "cell_type": "code",
   "execution_count": 11,
   "metadata": {},
   "outputs": [
    {
     "name": "stdout",
     "output_type": "stream",
     "text": [
      "                                32                    72   \\\n",
      "user                              0                     0   \n",
      "card                              0                     0   \n",
      "year                           2002                  2002   \n",
      "month                             9                     9   \n",
      "day                              11                    25   \n",
      "time                          13:17                 13:14   \n",
      "amount                        -99.0                -100.0   \n",
      "use_chip          Swipe Transaction     Swipe Transaction   \n",
      "merchant_name   2027553650310142703  -1288082279022882052   \n",
      "merchant_city             Mira Loma              La Verne   \n",
      "merchant_state                   CA                    CA   \n",
      "zip                         91752.0               91750.0   \n",
      "mcc                            5541                  5499   \n",
      "errors                          NaN                   NaN   \n",
      "is_fraud                         No                    No   \n",
      "\n",
      "                                 116  \n",
      "user                               0  \n",
      "card                               0  \n",
      "year                            2002  \n",
      "month                             10  \n",
      "day                               13  \n",
      "time                           13:15  \n",
      "amount                         -99.0  \n",
      "use_chip           Swipe Transaction  \n",
      "merchant_name   -1288082279022882052  \n",
      "merchant_city               La Verne  \n",
      "merchant_state                    CA  \n",
      "zip                          91750.0  \n",
      "mcc                             5499  \n",
      "errors                           NaN  \n",
      "is_fraud                          No  \n",
      "                                  71                    72\n",
      "user                               0                     0\n",
      "card                               0                     0\n",
      "year                            2002                  2002\n",
      "month                              9                     9\n",
      "day                               25                    25\n",
      "time                           13:10                 13:14\n",
      "amount                         100.0                -100.0\n",
      "use_chip           Swipe Transaction     Swipe Transaction\n",
      "merchant_name   -1288082279022882052  -1288082279022882052\n",
      "merchant_city               La Verne              La Verne\n",
      "merchant_state                    CA                    CA\n",
      "zip                          91750.0               91750.0\n",
      "mcc                             5499                  5499\n",
      "errors                           NaN                   NaN\n",
      "is_fraud                          No                    No\n"
     ]
    }
   ],
   "source": [
    "neg_val = df_user0[df_user0.amount <= 0]\n",
    "print(neg_val.head(3).T)\n",
    "print(df_user0.iloc[71:73,:].T)"
   ]
  },
  {
   "attachments": {},
   "cell_type": "markdown",
   "metadata": {},
   "source": [
    "The separate columns for year, month, day, and time can be combined into a single Pandas Timestamp column."
   ]
  },
  {
   "cell_type": "code",
   "execution_count": 12,
   "metadata": {},
   "outputs": [
    {
     "name": "stdout",
     "output_type": "stream",
     "text": [
      "Mismatched years: 0\n"
     ]
    }
   ],
   "source": [
    "\n",
    "\n",
    "df_user0['timestamp'] = utils.make_timestamps(df_user0)\n",
    "# Confirm the years match\n",
    "print(\"Mismatched years:\", (df_user0.year != df_user0.timestamp.dt.year).sum())"
   ]
  },
  {
   "attachments": {},
   "cell_type": "markdown",
   "metadata": {},
   "source": [
    "Next, let's look at `use_chip`. It turns out there are only three values, corresponding to swipe, chip, and online. We can clean this up by renaming the column more intuitively, and converting into categories without redundant names."
   ]
  },
  {
   "cell_type": "code",
   "execution_count": 13,
   "metadata": {},
   "outputs": [
    {
     "name": "stdout",
     "output_type": "stream",
     "text": [
      "use_chip\n",
      "Swipe Transaction     15840\n",
      "Chip Transaction       2808\n",
      "Online Transaction     1315\n",
      "Name: count, dtype: int64 0\n"
     ]
    }
   ],
   "source": [
    "print(df_user0.use_chip.value_counts(), df_user0.use_chip.isna().sum())"
   ]
  },
  {
   "cell_type": "code",
   "execution_count": 14,
   "metadata": {},
   "outputs": [
    {
     "name": "stdout",
     "output_type": "stream",
     "text": [
      "Index(['chip', 'online', 'swipe'], dtype='object')\n"
     ]
    }
   ],
   "source": [
    "tx_type = df_user0.use_chip.str.strip(\" Transaction\").str.lower().astype(\"category\")\n",
    "print(tx_type.cat.categories)\n",
    "df_user0['tx_type'] = tx_type"
   ]
  },
  {
   "cell_type": "code",
   "execution_count": 15,
   "metadata": {},
   "outputs": [],
   "source": [
    "df_user0.drop(columns = [\"use_chip\"], inplace=True)"
   ]
  },
  {
   "attachments": {},
   "cell_type": "markdown",
   "metadata": {},
   "source": [
    "Finally, the target feature indicating fraud is a binary 'Yes' or 'No'. It will be easier to work with as a boolean."
   ]
  },
  {
   "cell_type": "code",
   "execution_count": 16,
   "metadata": {},
   "outputs": [
    {
     "name": "stdout",
     "output_type": "stream",
     "text": [
      "is_fraud\n",
      "No     19936\n",
      "Yes       27\n",
      "Name: count, dtype: int64\n",
      "is_fraud\n",
      "False    19936\n",
      "True        27\n",
      "Name: count, dtype: int64\n"
     ]
    }
   ],
   "source": [
    "print(df_user0.is_fraud.value_counts())\n",
    "\n",
    "df_user0.is_fraud = df_user0.is_fraud == 'Yes'\n",
    "\n",
    "print(df_user0.is_fraud.value_counts())"
   ]
  },
  {
   "attachments": {},
   "cell_type": "markdown",
   "metadata": {},
   "source": [
    "This is what the head of the data frame looks like after processing:"
   ]
  },
  {
   "cell_type": "code",
   "execution_count": 17,
   "metadata": {},
   "outputs": [
    {
     "data": {
      "text/html": [
       "<div>\n",
       "<style scoped>\n",
       "    .dataframe tbody tr th:only-of-type {\n",
       "        vertical-align: middle;\n",
       "    }\n",
       "\n",
       "    .dataframe tbody tr th {\n",
       "        vertical-align: top;\n",
       "    }\n",
       "\n",
       "    .dataframe thead th {\n",
       "        text-align: right;\n",
       "    }\n",
       "</style>\n",
       "<table border=\"1\" class=\"dataframe\">\n",
       "  <thead>\n",
       "    <tr style=\"text-align: right;\">\n",
       "      <th></th>\n",
       "      <th>0</th>\n",
       "      <th>1</th>\n",
       "    </tr>\n",
       "  </thead>\n",
       "  <tbody>\n",
       "    <tr>\n",
       "      <th>user</th>\n",
       "      <td>0</td>\n",
       "      <td>0</td>\n",
       "    </tr>\n",
       "    <tr>\n",
       "      <th>card</th>\n",
       "      <td>0</td>\n",
       "      <td>0</td>\n",
       "    </tr>\n",
       "    <tr>\n",
       "      <th>year</th>\n",
       "      <td>2002</td>\n",
       "      <td>2002</td>\n",
       "    </tr>\n",
       "    <tr>\n",
       "      <th>month</th>\n",
       "      <td>9</td>\n",
       "      <td>9</td>\n",
       "    </tr>\n",
       "    <tr>\n",
       "      <th>day</th>\n",
       "      <td>1</td>\n",
       "      <td>1</td>\n",
       "    </tr>\n",
       "    <tr>\n",
       "      <th>time</th>\n",
       "      <td>06:21</td>\n",
       "      <td>06:42</td>\n",
       "    </tr>\n",
       "    <tr>\n",
       "      <th>amount</th>\n",
       "      <td>134.09</td>\n",
       "      <td>38.48</td>\n",
       "    </tr>\n",
       "    <tr>\n",
       "      <th>merchant_name</th>\n",
       "      <td>3527213246127876953</td>\n",
       "      <td>-727612092139916043</td>\n",
       "    </tr>\n",
       "    <tr>\n",
       "      <th>merchant_city</th>\n",
       "      <td>La Verne</td>\n",
       "      <td>Monterey Park</td>\n",
       "    </tr>\n",
       "    <tr>\n",
       "      <th>merchant_state</th>\n",
       "      <td>CA</td>\n",
       "      <td>CA</td>\n",
       "    </tr>\n",
       "    <tr>\n",
       "      <th>zip</th>\n",
       "      <td>91750.0</td>\n",
       "      <td>91754.0</td>\n",
       "    </tr>\n",
       "    <tr>\n",
       "      <th>mcc</th>\n",
       "      <td>5300</td>\n",
       "      <td>5411</td>\n",
       "    </tr>\n",
       "    <tr>\n",
       "      <th>errors</th>\n",
       "      <td>NaN</td>\n",
       "      <td>NaN</td>\n",
       "    </tr>\n",
       "    <tr>\n",
       "      <th>is_fraud</th>\n",
       "      <td>False</td>\n",
       "      <td>False</td>\n",
       "    </tr>\n",
       "    <tr>\n",
       "      <th>timestamp</th>\n",
       "      <td>2002-09-01 06:21:00</td>\n",
       "      <td>2002-09-01 06:42:00</td>\n",
       "    </tr>\n",
       "    <tr>\n",
       "      <th>tx_type</th>\n",
       "      <td>swipe</td>\n",
       "      <td>swipe</td>\n",
       "    </tr>\n",
       "  </tbody>\n",
       "</table>\n",
       "</div>"
      ],
      "text/plain": [
       "                                  0                    1\n",
       "user                              0                    0\n",
       "card                              0                    0\n",
       "year                           2002                 2002\n",
       "month                             9                    9\n",
       "day                               1                    1\n",
       "time                          06:21                06:42\n",
       "amount                       134.09                38.48\n",
       "merchant_name   3527213246127876953  -727612092139916043\n",
       "merchant_city              La Verne        Monterey Park\n",
       "merchant_state                   CA                   CA\n",
       "zip                         91750.0              91754.0\n",
       "mcc                            5300                 5411\n",
       "errors                          NaN                  NaN\n",
       "is_fraud                      False                False\n",
       "timestamp       2002-09-01 06:21:00  2002-09-01 06:42:00\n",
       "tx_type                       swipe                swipe"
      ]
     },
     "execution_count": 17,
     "metadata": {},
     "output_type": "execute_result"
    }
   ],
   "source": [
    "df_user0.head(2).T"
   ]
  },
  {
   "attachments": {},
   "cell_type": "markdown",
   "metadata": {},
   "source": [
    "To sum up the data cleaning steps that will need to be repeated for the full training and test samples:\n",
    "1. Renaming the columns.\n",
    "1. Stripping the `$` and converting the transaction amounts to floating point values.\n",
    "1. Creating a combined timestamp columns.\n",
    "1. Creating categories and renaming the `use_chip` column.\n",
    "1. Converting `is_fraud` into a boolean value."
   ]
  },
  {
   "attachments": {},
   "cell_type": "markdown",
   "metadata": {},
   "source": [
    "### 2.2 The user records file\n",
    "\n",
    "Information about each user is stored in a separate file, `sd254_users.csv`. It has 2000 records and 18 columns."
   ]
  },
  {
   "cell_type": "code",
   "execution_count": 18,
   "metadata": {},
   "outputs": [
    {
     "name": "stdout",
     "output_type": "stream",
     "text": [
      "Shape of the users data frame: (2000, 18)\n"
     ]
    },
    {
     "data": {
      "text/html": [
       "<div>\n",
       "<style scoped>\n",
       "    .dataframe tbody tr th:only-of-type {\n",
       "        vertical-align: middle;\n",
       "    }\n",
       "\n",
       "    .dataframe tbody tr th {\n",
       "        vertical-align: top;\n",
       "    }\n",
       "\n",
       "    .dataframe thead th {\n",
       "        text-align: right;\n",
       "    }\n",
       "</style>\n",
       "<table border=\"1\" class=\"dataframe\">\n",
       "  <thead>\n",
       "    <tr style=\"text-align: right;\">\n",
       "      <th></th>\n",
       "      <th>0</th>\n",
       "      <th>1</th>\n",
       "    </tr>\n",
       "  </thead>\n",
       "  <tbody>\n",
       "    <tr>\n",
       "      <th>Person</th>\n",
       "      <td>Hazel Robinson</td>\n",
       "      <td>Sasha Sadr</td>\n",
       "    </tr>\n",
       "    <tr>\n",
       "      <th>Current Age</th>\n",
       "      <td>53</td>\n",
       "      <td>53</td>\n",
       "    </tr>\n",
       "    <tr>\n",
       "      <th>Retirement Age</th>\n",
       "      <td>66</td>\n",
       "      <td>68</td>\n",
       "    </tr>\n",
       "    <tr>\n",
       "      <th>Birth Year</th>\n",
       "      <td>1966</td>\n",
       "      <td>1966</td>\n",
       "    </tr>\n",
       "    <tr>\n",
       "      <th>Birth Month</th>\n",
       "      <td>11</td>\n",
       "      <td>12</td>\n",
       "    </tr>\n",
       "    <tr>\n",
       "      <th>Gender</th>\n",
       "      <td>Female</td>\n",
       "      <td>Female</td>\n",
       "    </tr>\n",
       "    <tr>\n",
       "      <th>Address</th>\n",
       "      <td>462 Rose Lane</td>\n",
       "      <td>3606 Federal Boulevard</td>\n",
       "    </tr>\n",
       "    <tr>\n",
       "      <th>Apartment</th>\n",
       "      <td>NaN</td>\n",
       "      <td>NaN</td>\n",
       "    </tr>\n",
       "    <tr>\n",
       "      <th>City</th>\n",
       "      <td>La Verne</td>\n",
       "      <td>Little Neck</td>\n",
       "    </tr>\n",
       "    <tr>\n",
       "      <th>State</th>\n",
       "      <td>CA</td>\n",
       "      <td>NY</td>\n",
       "    </tr>\n",
       "    <tr>\n",
       "      <th>Zipcode</th>\n",
       "      <td>91750</td>\n",
       "      <td>11363</td>\n",
       "    </tr>\n",
       "    <tr>\n",
       "      <th>Latitude</th>\n",
       "      <td>34.15</td>\n",
       "      <td>40.76</td>\n",
       "    </tr>\n",
       "    <tr>\n",
       "      <th>Longitude</th>\n",
       "      <td>-117.76</td>\n",
       "      <td>-73.74</td>\n",
       "    </tr>\n",
       "    <tr>\n",
       "      <th>Per Capita Income - Zipcode</th>\n",
       "      <td>$29278</td>\n",
       "      <td>$37891</td>\n",
       "    </tr>\n",
       "    <tr>\n",
       "      <th>Yearly Income - Person</th>\n",
       "      <td>$59696</td>\n",
       "      <td>$77254</td>\n",
       "    </tr>\n",
       "    <tr>\n",
       "      <th>Total Debt</th>\n",
       "      <td>$127613</td>\n",
       "      <td>$191349</td>\n",
       "    </tr>\n",
       "    <tr>\n",
       "      <th>FICO Score</th>\n",
       "      <td>787</td>\n",
       "      <td>701</td>\n",
       "    </tr>\n",
       "    <tr>\n",
       "      <th>Num Credit Cards</th>\n",
       "      <td>5</td>\n",
       "      <td>5</td>\n",
       "    </tr>\n",
       "  </tbody>\n",
       "</table>\n",
       "</div>"
      ],
      "text/plain": [
       "                                          0                       1\n",
       "Person                       Hazel Robinson              Sasha Sadr\n",
       "Current Age                              53                      53\n",
       "Retirement Age                           66                      68\n",
       "Birth Year                             1966                    1966\n",
       "Birth Month                              11                      12\n",
       "Gender                               Female                  Female\n",
       "Address                       462 Rose Lane  3606 Federal Boulevard\n",
       "Apartment                               NaN                     NaN\n",
       "City                               La Verne             Little Neck\n",
       "State                                    CA                      NY\n",
       "Zipcode                               91750                   11363\n",
       "Latitude                              34.15                   40.76\n",
       "Longitude                           -117.76                  -73.74\n",
       "Per Capita Income - Zipcode          $29278                  $37891\n",
       "Yearly Income - Person               $59696                  $77254\n",
       "Total Debt                          $127613                 $191349\n",
       "FICO Score                              787                     701\n",
       "Num Credit Cards                          5                       5"
      ]
     },
     "execution_count": 18,
     "metadata": {},
     "output_type": "execute_result"
    }
   ],
   "source": [
    "users = utils.read_users()\n",
    "print(f\"Shape of the users data frame: {users.shape}\")\n",
    "users.head(2).T"
   ]
  },
  {
   "attachments": {},
   "cell_type": "markdown",
   "metadata": {},
   "source": [
    "As with the transactions, the columns headings can be updated for easier interaction."
   ]
  },
  {
   "cell_type": "code",
   "execution_count": 19,
   "metadata": {},
   "outputs": [
    {
     "data": {
      "text/html": [
       "<div>\n",
       "<style scoped>\n",
       "    .dataframe tbody tr th:only-of-type {\n",
       "        vertical-align: middle;\n",
       "    }\n",
       "\n",
       "    .dataframe tbody tr th {\n",
       "        vertical-align: top;\n",
       "    }\n",
       "\n",
       "    .dataframe thead th {\n",
       "        text-align: right;\n",
       "    }\n",
       "</style>\n",
       "<table border=\"1\" class=\"dataframe\">\n",
       "  <thead>\n",
       "    <tr style=\"text-align: right;\">\n",
       "      <th></th>\n",
       "      <th>0</th>\n",
       "      <th>1</th>\n",
       "    </tr>\n",
       "  </thead>\n",
       "  <tbody>\n",
       "    <tr>\n",
       "      <th>person</th>\n",
       "      <td>Hazel Robinson</td>\n",
       "      <td>Sasha Sadr</td>\n",
       "    </tr>\n",
       "    <tr>\n",
       "      <th>current_age</th>\n",
       "      <td>53</td>\n",
       "      <td>53</td>\n",
       "    </tr>\n",
       "    <tr>\n",
       "      <th>retirement_age</th>\n",
       "      <td>66</td>\n",
       "      <td>68</td>\n",
       "    </tr>\n",
       "    <tr>\n",
       "      <th>birth_year</th>\n",
       "      <td>1966</td>\n",
       "      <td>1966</td>\n",
       "    </tr>\n",
       "    <tr>\n",
       "      <th>birth_month</th>\n",
       "      <td>11</td>\n",
       "      <td>12</td>\n",
       "    </tr>\n",
       "    <tr>\n",
       "      <th>gender</th>\n",
       "      <td>Female</td>\n",
       "      <td>Female</td>\n",
       "    </tr>\n",
       "    <tr>\n",
       "      <th>address</th>\n",
       "      <td>462 Rose Lane</td>\n",
       "      <td>3606 Federal Boulevard</td>\n",
       "    </tr>\n",
       "    <tr>\n",
       "      <th>apartment</th>\n",
       "      <td>NaN</td>\n",
       "      <td>NaN</td>\n",
       "    </tr>\n",
       "    <tr>\n",
       "      <th>city</th>\n",
       "      <td>La Verne</td>\n",
       "      <td>Little Neck</td>\n",
       "    </tr>\n",
       "    <tr>\n",
       "      <th>state</th>\n",
       "      <td>CA</td>\n",
       "      <td>NY</td>\n",
       "    </tr>\n",
       "    <tr>\n",
       "      <th>zipcode</th>\n",
       "      <td>91750</td>\n",
       "      <td>11363</td>\n",
       "    </tr>\n",
       "    <tr>\n",
       "      <th>latitude</th>\n",
       "      <td>34.15</td>\n",
       "      <td>40.76</td>\n",
       "    </tr>\n",
       "    <tr>\n",
       "      <th>longitude</th>\n",
       "      <td>-117.76</td>\n",
       "      <td>-73.74</td>\n",
       "    </tr>\n",
       "    <tr>\n",
       "      <th>per_capita_income_zipcode</th>\n",
       "      <td>$29278</td>\n",
       "      <td>$37891</td>\n",
       "    </tr>\n",
       "    <tr>\n",
       "      <th>yearly_income_person</th>\n",
       "      <td>$59696</td>\n",
       "      <td>$77254</td>\n",
       "    </tr>\n",
       "    <tr>\n",
       "      <th>total_debt</th>\n",
       "      <td>$127613</td>\n",
       "      <td>$191349</td>\n",
       "    </tr>\n",
       "    <tr>\n",
       "      <th>fico_score</th>\n",
       "      <td>787</td>\n",
       "      <td>701</td>\n",
       "    </tr>\n",
       "    <tr>\n",
       "      <th>num_credit_cards</th>\n",
       "      <td>5</td>\n",
       "      <td>5</td>\n",
       "    </tr>\n",
       "  </tbody>\n",
       "</table>\n",
       "</div>"
      ],
      "text/plain": [
       "                                        0                       1\n",
       "person                     Hazel Robinson              Sasha Sadr\n",
       "current_age                            53                      53\n",
       "retirement_age                         66                      68\n",
       "birth_year                           1966                    1966\n",
       "birth_month                            11                      12\n",
       "gender                             Female                  Female\n",
       "address                     462 Rose Lane  3606 Federal Boulevard\n",
       "apartment                             NaN                     NaN\n",
       "city                             La Verne             Little Neck\n",
       "state                                  CA                      NY\n",
       "zipcode                             91750                   11363\n",
       "latitude                            34.15                   40.76\n",
       "longitude                         -117.76                  -73.74\n",
       "per_capita_income_zipcode          $29278                  $37891\n",
       "yearly_income_person               $59696                  $77254\n",
       "total_debt                        $127613                 $191349\n",
       "fico_score                            787                     701\n",
       "num_credit_cards                        5                       5"
      ]
     },
     "execution_count": 19,
     "metadata": {},
     "output_type": "execute_result"
    }
   ],
   "source": [
    "users.columns = utils.update_colnames(users.columns)\n",
    "users.head(2).T"
   ]
  },
  {
   "attachments": {},
   "cell_type": "markdown",
   "metadata": {},
   "source": [
    "Also, as with the transactions records, the money amounts are entered as strings rather than floating point values."
   ]
  },
  {
   "cell_type": "code",
   "execution_count": 20,
   "metadata": {},
   "outputs": [
    {
     "name": "stdout",
     "output_type": "stream",
     "text": [
      "<class 'pandas.core.frame.DataFrame'>\n",
      "RangeIndex: 2000 entries, 0 to 1999\n",
      "Data columns (total 18 columns):\n",
      " #   Column                     Non-Null Count  Dtype  \n",
      "---  ------                     --------------  -----  \n",
      " 0   person                     2000 non-null   object \n",
      " 1   current_age                2000 non-null   int64  \n",
      " 2   retirement_age             2000 non-null   int64  \n",
      " 3   birth_year                 2000 non-null   int64  \n",
      " 4   birth_month                2000 non-null   int64  \n",
      " 5   gender                     2000 non-null   object \n",
      " 6   address                    2000 non-null   object \n",
      " 7   apartment                  528 non-null    float64\n",
      " 8   city                       2000 non-null   object \n",
      " 9   state                      2000 non-null   object \n",
      " 10  zipcode                    2000 non-null   int64  \n",
      " 11  latitude                   2000 non-null   float64\n",
      " 12  longitude                  2000 non-null   float64\n",
      " 13  per_capita_income_zipcode  2000 non-null   object \n",
      " 14  yearly_income_person       2000 non-null   object \n",
      " 15  total_debt                 2000 non-null   object \n",
      " 16  fico_score                 2000 non-null   int64  \n",
      " 17  num_credit_cards           2000 non-null   int64  \n",
      "dtypes: float64(3), int64(7), object(8)\n",
      "memory usage: 281.4+ KB\n"
     ]
    }
   ],
   "source": [
    "users.info()"
   ]
  },
  {
   "cell_type": "code",
   "execution_count": 21,
   "metadata": {},
   "outputs": [
    {
     "data": {
      "text/html": [
       "<div>\n",
       "<style scoped>\n",
       "    .dataframe tbody tr th:only-of-type {\n",
       "        vertical-align: middle;\n",
       "    }\n",
       "\n",
       "    .dataframe tbody tr th {\n",
       "        vertical-align: top;\n",
       "    }\n",
       "\n",
       "    .dataframe thead th {\n",
       "        text-align: right;\n",
       "    }\n",
       "</style>\n",
       "<table border=\"1\" class=\"dataframe\">\n",
       "  <thead>\n",
       "    <tr style=\"text-align: right;\">\n",
       "      <th></th>\n",
       "      <th>per_capita_income_zipcode</th>\n",
       "      <th>yearly_income_person</th>\n",
       "      <th>total_debt</th>\n",
       "    </tr>\n",
       "  </thead>\n",
       "  <tbody>\n",
       "    <tr>\n",
       "      <th>count</th>\n",
       "      <td>2000.000000</td>\n",
       "      <td>2000.000000</td>\n",
       "      <td>2000.000000</td>\n",
       "    </tr>\n",
       "    <tr>\n",
       "      <th>mean</th>\n",
       "      <td>23141.928000</td>\n",
       "      <td>45715.882000</td>\n",
       "      <td>63709.694000</td>\n",
       "    </tr>\n",
       "    <tr>\n",
       "      <th>std</th>\n",
       "      <td>11324.137358</td>\n",
       "      <td>22992.615456</td>\n",
       "      <td>52254.453421</td>\n",
       "    </tr>\n",
       "    <tr>\n",
       "      <th>min</th>\n",
       "      <td>0.000000</td>\n",
       "      <td>1.000000</td>\n",
       "      <td>0.000000</td>\n",
       "    </tr>\n",
       "    <tr>\n",
       "      <th>25%</th>\n",
       "      <td>16824.500000</td>\n",
       "      <td>32818.500000</td>\n",
       "      <td>23986.750000</td>\n",
       "    </tr>\n",
       "    <tr>\n",
       "      <th>50%</th>\n",
       "      <td>20581.000000</td>\n",
       "      <td>40744.500000</td>\n",
       "      <td>58251.000000</td>\n",
       "    </tr>\n",
       "    <tr>\n",
       "      <th>75%</th>\n",
       "      <td>26286.000000</td>\n",
       "      <td>52698.500000</td>\n",
       "      <td>89070.500000</td>\n",
       "    </tr>\n",
       "    <tr>\n",
       "      <th>max</th>\n",
       "      <td>163145.000000</td>\n",
       "      <td>307018.000000</td>\n",
       "      <td>516263.000000</td>\n",
       "    </tr>\n",
       "  </tbody>\n",
       "</table>\n",
       "</div>"
      ],
      "text/plain": [
       "       per_capita_income_zipcode  yearly_income_person     total_debt\n",
       "count                2000.000000           2000.000000    2000.000000\n",
       "mean                23141.928000          45715.882000   63709.694000\n",
       "std                 11324.137358          22992.615456   52254.453421\n",
       "min                     0.000000              1.000000       0.000000\n",
       "25%                 16824.500000          32818.500000   23986.750000\n",
       "50%                 20581.000000          40744.500000   58251.000000\n",
       "75%                 26286.000000          52698.500000   89070.500000\n",
       "max                163145.000000         307018.000000  516263.000000"
      ]
     },
     "execution_count": 21,
     "metadata": {},
     "output_type": "execute_result"
    }
   ],
   "source": [
    "val_cols = ['per_capita_income_zipcode', 'yearly_income_person', 'total_debt']\n",
    "for col in val_cols:\n",
    "    users[col] = utils.convert_dollar_amounts(users[col])\n",
    "users[val_cols].describe()"
   ]
  },
  {
   "attachments": {},
   "cell_type": "markdown",
   "metadata": {},
   "source": [
    "We can note that there apparently are zipcodes with 0 per capita income. This appears to be missing data: `60657` for example is part of Chicago, IL. It will be worth returning to this during EDA to decide whether and how to fill it in."
   ]
  },
  {
   "cell_type": "code",
   "execution_count": 22,
   "metadata": {},
   "outputs": [
    {
     "name": "stdout",
     "output_type": "stream",
     "text": [
      "Zip codes with 0 income p.c.:\n",
      "zipcode\n",
      "60657    2\n",
      "60614    2\n",
      "94583    2\n",
      "76248    2\n",
      "92130    1\n",
      "8540     1\n",
      "10003    1\n",
      "30022    1\n",
      "94010    1\n",
      "11215    1\n",
      "77450    1\n",
      "Name: count, dtype: int64\n",
      "These zip codes consistently have 0 income p.c.:\n",
      "246     0.0\n",
      "662     0.0\n",
      "741     0.0\n",
      "751     0.0\n",
      "764     0.0\n",
      "993     0.0\n",
      "1068    0.0\n",
      "1100    0.0\n",
      "1166    0.0\n",
      "1213    0.0\n",
      "1342    0.0\n",
      "1426    0.0\n",
      "1543    0.0\n",
      "1686    0.0\n",
      "1731    0.0\n",
      "Name: per_capita_income_zipcode, dtype: float64\n"
     ]
    }
   ],
   "source": [
    "zero_zips = users.loc[users.per_capita_income_zipcode==0, 'zipcode']\n",
    "print(\"Zip codes with 0 income p.c.:\", zero_zips.value_counts(), sep='\\n')\n",
    "print(\"These zip codes consistently have 0 income p.c.:\", users.loc[users.zipcode.isin(zero_zips), 'per_capita_income_zipcode'], sep='\\n')"
   ]
  },
  {
   "attachments": {},
   "cell_type": "markdown",
   "metadata": {},
   "source": [
    "### 2.3 The card records file\n",
    "\n",
    "Each user can have more than one card. Information about the cards is stored in `sd254_cards.csv`. It has 6,146 records (i.e. just over 3 per user) and 13 columns."
   ]
  },
  {
   "cell_type": "code",
   "execution_count": 23,
   "metadata": {},
   "outputs": [
    {
     "name": "stdout",
     "output_type": "stream",
     "text": [
      "Shape of data frame: (6146, 13)\n",
      "                                      0                 1\n",
      "User                                  0                 0\n",
      "CARD INDEX                            0                 1\n",
      "Card Brand                         Visa              Visa\n",
      "Card Type                         Debit             Debit\n",
      "Card Number            4344676511950444  4956965974959986\n",
      "Expires                         12/2022           12/2020\n",
      "CVV                                 623               393\n",
      "Has Chip                            YES               YES\n",
      "Cards Issued                          2                 2\n",
      "Credit Limit                     $24295            $21968\n",
      "Acct Open Date                  09/2002           04/2014\n",
      "Year PIN last Changed              2008              2014\n",
      "Card on Dark Web                     No                No\n"
     ]
    }
   ],
   "source": [
    "cards = utils.read_cards()\n",
    "print(f\"Shape of data frame: {cards.shape}\")\n",
    "print(cards.head(2).T)"
   ]
  },
  {
   "cell_type": "code",
   "execution_count": 24,
   "metadata": {},
   "outputs": [
    {
     "name": "stdout",
     "output_type": "stream",
     "text": [
      "<class 'pandas.core.frame.DataFrame'>\n",
      "RangeIndex: 6146 entries, 0 to 6145\n",
      "Data columns (total 13 columns):\n",
      " #   Column                 Non-Null Count  Dtype \n",
      "---  ------                 --------------  ----- \n",
      " 0   User                   6146 non-null   int64 \n",
      " 1   CARD INDEX             6146 non-null   int64 \n",
      " 2   Card Brand             6146 non-null   object\n",
      " 3   Card Type              6146 non-null   object\n",
      " 4   Card Number            6146 non-null   int64 \n",
      " 5   Expires                6146 non-null   object\n",
      " 6   CVV                    6146 non-null   int64 \n",
      " 7   Has Chip               6146 non-null   object\n",
      " 8   Cards Issued           6146 non-null   int64 \n",
      " 9   Credit Limit           6146 non-null   object\n",
      " 10  Acct Open Date         6146 non-null   object\n",
      " 11  Year PIN last Changed  6146 non-null   int64 \n",
      " 12  Card on Dark Web       6146 non-null   object\n",
      "dtypes: int64(6), object(7)\n",
      "memory usage: 624.3+ KB\n"
     ]
    }
   ],
   "source": [
    "cards.info()"
   ]
  },
  {
   "attachments": {},
   "cell_type": "markdown",
   "metadata": {},
   "source": [
    "Once again, the column names and dolar values can be reformatted."
   ]
  },
  {
   "cell_type": "code",
   "execution_count": 25,
   "metadata": {},
   "outputs": [
    {
     "name": "stdout",
     "output_type": "stream",
     "text": [
      "<class 'pandas.core.frame.DataFrame'>\n",
      "RangeIndex: 6146 entries, 0 to 6145\n",
      "Data columns (total 13 columns):\n",
      " #   Column                 Non-Null Count  Dtype  \n",
      "---  ------                 --------------  -----  \n",
      " 0   user                   6146 non-null   int64  \n",
      " 1   card_index             6146 non-null   int64  \n",
      " 2   card_brand             6146 non-null   object \n",
      " 3   card_type              6146 non-null   object \n",
      " 4   card_number            6146 non-null   int64  \n",
      " 5   expires                6146 non-null   object \n",
      " 6   cvv                    6146 non-null   int64  \n",
      " 7   has_chip               6146 non-null   object \n",
      " 8   cards_issued           6146 non-null   int64  \n",
      " 9   credit_limit           6146 non-null   float64\n",
      " 10  acct_open_date         6146 non-null   object \n",
      " 11  year_pin_last_changed  6146 non-null   int64  \n",
      " 12  card_on_dark_web       6146 non-null   object \n",
      "dtypes: float64(1), int64(6), object(6)\n",
      "memory usage: 624.3+ KB\n"
     ]
    }
   ],
   "source": [
    "cards.columns = utils.update_colnames(cards.columns)\n",
    "cards.credit_limit = utils.convert_dollar_amounts(cards.credit_limit)\n",
    "cards.info()"
   ]
  },
  {
   "attachments": {},
   "cell_type": "markdown",
   "metadata": {},
   "source": [
    "The columns for the data the account was opened and the card expires are strings in the format `MM/YYYY`. For easier comparability, they can be converted to `Date` objects corresponding to the first of the identified month."
   ]
  },
  {
   "cell_type": "code",
   "execution_count": 26,
   "metadata": {},
   "outputs": [
    {
     "name": "stdout",
     "output_type": "stream",
     "text": [
      "                             expires                 acct_open_date\n",
      "count                           6146                           6146\n",
      "mean   2020-10-08 06:30:06.443215360  2011-01-15 12:55:31.727953152\n",
      "min              1997-07-01 00:00:00            1991-01-01 00:00:00\n",
      "25%              2020-02-01 00:00:00            2006-10-01 00:00:00\n",
      "50%              2021-09-01 00:00:00            2010-02-15 00:00:00\n",
      "75%              2023-05-01 00:00:00            2016-05-01 00:00:00\n",
      "max              2024-12-01 00:00:00            2020-02-01 00:00:00\n"
     ]
    }
   ],
   "source": [
    "date_cols = ['expires', 'acct_open_date']\n",
    "for col in date_cols:\n",
    "    cards[col] = utils.convert_monthyear_dates(cards[col])\n",
    "print(cards[date_cols].describe())"
   ]
  },
  {
   "attachments": {},
   "cell_type": "markdown",
   "metadata": {},
   "source": [
    "Finally, the `has_chip` and `card_on_dark_web` columns are logically boolean."
   ]
  },
  {
   "cell_type": "code",
   "execution_count": 27,
   "metadata": {},
   "outputs": [
    {
     "name": "stdout",
     "output_type": "stream",
     "text": [
      "has_chip\n",
      "YES    5500\n",
      "NO      646\n",
      "Name: count, dtype: int64\n",
      "has_chip\n",
      "True     5500\n",
      "False     646\n",
      "Name: count, dtype: int64\n"
     ]
    }
   ],
   "source": [
    "print(cards.has_chip.value_counts())\n",
    "cards.has_chip = cards.has_chip == 'YES'\n",
    "print(cards.has_chip.value_counts())"
   ]
  },
  {
   "attachments": {},
   "cell_type": "markdown",
   "metadata": {},
   "source": [
    "However, the `card_on_dark_web` feature only has the value 'No'. This provides no useful information, so it will be dropped."
   ]
  },
  {
   "cell_type": "code",
   "execution_count": 28,
   "metadata": {},
   "outputs": [
    {
     "name": "stdout",
     "output_type": "stream",
     "text": [
      "card_on_dark_web\n",
      "No    6146\n",
      "Name: count, dtype: int64\n"
     ]
    }
   ],
   "source": [
    "print(cards.card_on_dark_web.value_counts())\n",
    "cards.drop(columns='card_on_dark_web', inplace=True)"
   ]
  },
  {
   "attachments": {},
   "cell_type": "markdown",
   "metadata": {},
   "source": [
    "### 2.4 The transactions file\n",
    "\n",
    "The file `credit-card-transactions-ibm_v2.csv` includes 20 million records of simulated transactions. Importing training and test samples will be covered below. For now, though, let's confirm that the records have the same structure as the sample above."
   ]
  },
  {
   "cell_type": "code",
   "execution_count": 29,
   "metadata": {},
   "outputs": [
    {
     "name": "stdout",
     "output_type": "stream",
     "text": [
      "                                  0                    1\n",
      "User                              0                    0\n",
      "Card                              0                    0\n",
      "Year                           2002                 2002\n",
      "Month                             9                    9\n",
      "Day                               1                    1\n",
      "Time                          06:21                06:42\n",
      "Amount                      $134.09               $38.48\n",
      "Use Chip          Swipe Transaction    Swipe Transaction\n",
      "Merchant Name   3527213246127876953  -727612092139916043\n",
      "Merchant City              La Verne        Monterey Park\n",
      "Merchant State                   CA                   CA\n",
      "Zip                         91750.0              91754.0\n",
      "MCC                            5300                 5411\n",
      "Errors?                         NaN                  NaN\n",
      "Is Fraud?                        No                   No\n"
     ]
    }
   ],
   "source": [
    "small_chunk_reader = utils.make_txdata_reader(chunksize = 100)\n",
    "sample_df = next(small_chunk_reader)\n",
    "print(sample_df.head(2).T)\n",
    "del small_chunk_reader"
   ]
  },
  {
   "cell_type": "code",
   "execution_count": null,
   "metadata": {},
   "outputs": [],
   "source": [
    "\n"
   ]
  },
  {
   "cell_type": "code",
   "execution_count": 30,
   "metadata": {},
   "outputs": [
    {
     "data": {
      "text/html": [
       "<div>\n",
       "<style scoped>\n",
       "    .dataframe tbody tr th:only-of-type {\n",
       "        vertical-align: middle;\n",
       "    }\n",
       "\n",
       "    .dataframe tbody tr th {\n",
       "        vertical-align: top;\n",
       "    }\n",
       "\n",
       "    .dataframe thead th {\n",
       "        text-align: right;\n",
       "    }\n",
       "</style>\n",
       "<table border=\"1\" class=\"dataframe\">\n",
       "  <thead>\n",
       "    <tr style=\"text-align: right;\">\n",
       "      <th></th>\n",
       "      <th>0</th>\n",
       "      <th>1</th>\n",
       "    </tr>\n",
       "  </thead>\n",
       "  <tbody>\n",
       "    <tr>\n",
       "      <th>user</th>\n",
       "      <td>0</td>\n",
       "      <td>0</td>\n",
       "    </tr>\n",
       "    <tr>\n",
       "      <th>card</th>\n",
       "      <td>0</td>\n",
       "      <td>0</td>\n",
       "    </tr>\n",
       "    <tr>\n",
       "      <th>amount</th>\n",
       "      <td>134.09</td>\n",
       "      <td>38.48</td>\n",
       "    </tr>\n",
       "    <tr>\n",
       "      <th>merchant_city</th>\n",
       "      <td>La Verne</td>\n",
       "      <td>Monterey Park</td>\n",
       "    </tr>\n",
       "    <tr>\n",
       "      <th>merchant_state</th>\n",
       "      <td>CA</td>\n",
       "      <td>CA</td>\n",
       "    </tr>\n",
       "    <tr>\n",
       "      <th>zip</th>\n",
       "      <td>91750.0</td>\n",
       "      <td>91754.0</td>\n",
       "    </tr>\n",
       "    <tr>\n",
       "      <th>mcc</th>\n",
       "      <td>5300</td>\n",
       "      <td>5411</td>\n",
       "    </tr>\n",
       "    <tr>\n",
       "      <th>errors</th>\n",
       "      <td>NaN</td>\n",
       "      <td>NaN</td>\n",
       "    </tr>\n",
       "    <tr>\n",
       "      <th>is_fraud</th>\n",
       "      <td>False</td>\n",
       "      <td>False</td>\n",
       "    </tr>\n",
       "    <tr>\n",
       "      <th>timestamp</th>\n",
       "      <td>2002-09-01 06:21:00</td>\n",
       "      <td>2002-09-01 06:42:00</td>\n",
       "    </tr>\n",
       "    <tr>\n",
       "      <th>tx_type</th>\n",
       "      <td>swipe</td>\n",
       "      <td>swipe</td>\n",
       "    </tr>\n",
       "  </tbody>\n",
       "</table>\n",
       "</div>"
      ],
      "text/plain": [
       "                                  0                    1\n",
       "user                              0                    0\n",
       "card                              0                    0\n",
       "amount                       134.09                38.48\n",
       "merchant_city              La Verne        Monterey Park\n",
       "merchant_state                   CA                   CA\n",
       "zip                         91750.0              91754.0\n",
       "mcc                            5300                 5411\n",
       "errors                          NaN                  NaN\n",
       "is_fraud                      False                False\n",
       "timestamp       2002-09-01 06:21:00  2002-09-01 06:42:00\n",
       "tx_type                       swipe                swipe"
      ]
     },
     "execution_count": 30,
     "metadata": {},
     "output_type": "execute_result"
    }
   ],
   "source": [
    "sample_df = utils.clean_tx_df(sample_df)\n",
    "sample_df.head(2).T"
   ]
  },
  {
   "attachments": {},
   "cell_type": "markdown",
   "metadata": {},
   "source": [
    "## 3 Sampling the transactions data for EDA"
   ]
  },
  {
   "attachments": {},
   "cell_type": "markdown",
   "metadata": {},
   "source": [
    "### 3.1 Sampling strategies\n",
    "\n",
    "The main transactions data file includes 20 million records. This is too large a scale for the limited computing resources available for this project. Accordingly, it will be necessary to sample from the entire data set for both EDA and model selection and fitting. I will consider two approaches\n",
    "1. **Sample on users**: randomly select some fraction (say, $\\frac{1}{5}$) of the users and conduct the analysis on all of their cards and transactions. In this case, the test set would be another subsample of users from the original data set.\n",
    "1. **Sample on time**: choose some time period (say, 5 years, not including the last 2 years) and conduct the analysis on all tractactions by all users in that period. Then, the test data would be *subsequent* transactions from the same users. The main advantage of this approach is that \"future testing\" more closely approximates the key business problem this project seeks to address -- identifying potentially fraudulent new transactions based only on previous data.\n",
    "\n",
    "For EDA, it makes sense to begin with a sample of users, if only to clarify the temporal characteristics of the data. This sample is built below. I will return in future steps to the possibility of sampling, or at least splitting training and test data, on time."
   ]
  },
  {
   "attachments": {},
   "cell_type": "markdown",
   "metadata": {},
   "source": [
    "### 3.2 Making the user-sampled data frame"
   ]
  },
  {
   "cell_type": "code",
   "execution_count": 31,
   "metadata": {},
   "outputs": [
    {
     "name": "stderr",
     "output_type": "stream",
     "text": [
      "/tmp/ipykernel_16441/3029728533.py:14: FutureWarning: The behavior of DataFrame concatenation with empty or all-NA entries is deprecated. In a future version, this will no longer exclude empty or all-NA columns when determining the result dtypes. To retain the old behavior, exclude the relevant entries before the concat operation.\n",
      "  concatenate = lambda df1, df2: pd.concat([df1, df2])\n",
      "/tmp/ipykernel_16441/3029728533.py:14: FutureWarning: The behavior of DataFrame concatenation with empty or all-NA entries is deprecated. In a future version, this will no longer exclude empty or all-NA columns when determining the result dtypes. To retain the old behavior, exclude the relevant entries before the concat operation.\n",
      "  concatenate = lambda df1, df2: pd.concat([df1, df2])\n",
      "/tmp/ipykernel_16441/3029728533.py:14: FutureWarning: The behavior of DataFrame concatenation with empty or all-NA entries is deprecated. In a future version, this will no longer exclude empty or all-NA columns when determining the result dtypes. To retain the old behavior, exclude the relevant entries before the concat operation.\n",
      "  concatenate = lambda df1, df2: pd.concat([df1, df2])\n"
     ]
    },
    {
     "name": "stderr",
     "output_type": "stream",
     "text": [
      "/tmp/ipykernel_16441/3029728533.py:14: FutureWarning: The behavior of DataFrame concatenation with empty or all-NA entries is deprecated. In a future version, this will no longer exclude empty or all-NA columns when determining the result dtypes. To retain the old behavior, exclude the relevant entries before the concat operation.\n",
      "  concatenate = lambda df1, df2: pd.concat([df1, df2])\n",
      "/tmp/ipykernel_16441/3029728533.py:14: FutureWarning: The behavior of DataFrame concatenation with empty or all-NA entries is deprecated. In a future version, this will no longer exclude empty or all-NA columns when determining the result dtypes. To retain the old behavior, exclude the relevant entries before the concat operation.\n",
      "  concatenate = lambda df1, df2: pd.concat([df1, df2])\n",
      "/tmp/ipykernel_16441/3029728533.py:14: FutureWarning: The behavior of DataFrame concatenation with empty or all-NA entries is deprecated. In a future version, this will no longer exclude empty or all-NA columns when determining the result dtypes. To retain the old behavior, exclude the relevant entries before the concat operation.\n",
      "  concatenate = lambda df1, df2: pd.concat([df1, df2])\n"
     ]
    }
   ],
   "source": [
    "# set seed for reproducibility\n",
    "seed = 111\n",
    "# sample 1/5 of users\n",
    "N = users.shape[0]\n",
    "sample_size = N // 5\n",
    "sampled_users = np.random.default_rng(seed).choice(N, size=sample_size, replace=False)\n",
    "def filter_for_sample(df):\n",
    "    filter = df[\"User\"].isin(sampled_users)\n",
    "    if filter.sum() == 0:\n",
    "        print(f\"Empty subsample!\")\n",
    "    return df[filter]\n",
    "filter_df = lambda df: df[df[\"User\"].isin(sampled_users)]\n",
    "# needed because reduce() requires a function of form fn(T, T) -> T\n",
    "concatenate = lambda df1, df2: pd.concat([df1, df2])\n",
    "# chunk reader for tx data\n",
    "tx_df_reader = utils.make_txdata_reader()\n",
    "# test = clean_tx_df(filter_df(next(tx_df_reader)))\n",
    "# test.head(2).T\n",
    "# this should memory efficiently concatenate all of the chunks together\n",
    "sampled_tx_df = reduce(concatenate, map(utils.clean_tx_df, map(filter_df, tx_df_reader)))"
   ]
  },
  {
   "attachments": {},
   "cell_type": "markdown",
   "metadata": {},
   "source": [
    "Because the number of transactions per user is not uniformly distributed, the resulting data frame is not exactly 1/5 of original data (at over 5 million, it is in fact above 1/4)."
   ]
  },
  {
   "cell_type": "code",
   "execution_count": 32,
   "metadata": {},
   "outputs": [
    {
     "data": {
      "text/plain": [
       "(400,)"
      ]
     },
     "execution_count": 32,
     "metadata": {},
     "output_type": "execute_result"
    }
   ],
   "source": [
    "sampled_tx_df.user.unique().shape"
   ]
  },
  {
   "cell_type": "code",
   "execution_count": 33,
   "metadata": {},
   "outputs": [
    {
     "name": "stdout",
     "output_type": "stream",
     "text": [
      "<class 'pandas.core.frame.DataFrame'>\n",
      "Index: 5214807 entries, 28882 to 24270533\n",
      "Data columns (total 11 columns):\n",
      " #   Column          Dtype         \n",
      "---  ------          -----         \n",
      " 0   user            int64         \n",
      " 1   card            int64         \n",
      " 2   amount          float64       \n",
      " 3   merchant_city   object        \n",
      " 4   merchant_state  object        \n",
      " 5   zip             float64       \n",
      " 6   mcc             int64         \n",
      " 7   errors          object        \n",
      " 8   is_fraud        bool          \n",
      " 9   timestamp       datetime64[ns]\n",
      " 10  tx_type         object        \n",
      "dtypes: bool(1), datetime64[ns](1), float64(2), int64(3), object(4)\n",
      "memory usage: 442.6+ MB\n"
     ]
    }
   ],
   "source": [
    "sampled_tx_df.info()"
   ]
  },
  {
   "attachments": {},
   "cell_type": "markdown",
   "metadata": {},
   "source": [
    "### 3.3 Aggregating data\n",
    "\n",
    "For EDA, it will be helpful to combine certain summary information from the cards and transactions data for the users and cards tables. Specifically, we can add:\n",
    "- To the users table:\n",
    "    - Total credit limit\n",
    "    - Fraud rate\n",
    "- To the cards table:\n",
    "    - Total transactions count and value\n",
    "    - TX type shares\n",
    "    - Fraud rate"
   ]
  },
  {
   "cell_type": "code",
   "execution_count": 34,
   "metadata": {},
   "outputs": [
    {
     "data": {
      "text/html": [
       "<div>\n",
       "<style scoped>\n",
       "    .dataframe tbody tr th:only-of-type {\n",
       "        vertical-align: middle;\n",
       "    }\n",
       "\n",
       "    .dataframe tbody tr th {\n",
       "        vertical-align: top;\n",
       "    }\n",
       "\n",
       "    .dataframe thead th {\n",
       "        text-align: right;\n",
       "    }\n",
       "</style>\n",
       "<table border=\"1\" class=\"dataframe\">\n",
       "  <thead>\n",
       "    <tr style=\"text-align: right;\">\n",
       "      <th></th>\n",
       "      <th>10</th>\n",
       "      <th>11</th>\n",
       "    </tr>\n",
       "  </thead>\n",
       "  <tbody>\n",
       "    <tr>\n",
       "      <th>user</th>\n",
       "      <td>2</td>\n",
       "      <td>2</td>\n",
       "    </tr>\n",
       "    <tr>\n",
       "      <th>card_index</th>\n",
       "      <td>0</td>\n",
       "      <td>1</td>\n",
       "    </tr>\n",
       "    <tr>\n",
       "      <th>card_brand</th>\n",
       "      <td>Mastercard</td>\n",
       "      <td>Mastercard</td>\n",
       "    </tr>\n",
       "    <tr>\n",
       "      <th>card_type</th>\n",
       "      <td>Debit</td>\n",
       "      <td>Debit</td>\n",
       "    </tr>\n",
       "    <tr>\n",
       "      <th>card_number</th>\n",
       "      <td>5495199163052054</td>\n",
       "      <td>5804499644308599</td>\n",
       "    </tr>\n",
       "    <tr>\n",
       "      <th>expires</th>\n",
       "      <td>2022-03-01 00:00:00</td>\n",
       "      <td>2023-07-01 00:00:00</td>\n",
       "    </tr>\n",
       "    <tr>\n",
       "      <th>cvv</th>\n",
       "      <td>677</td>\n",
       "      <td>258</td>\n",
       "    </tr>\n",
       "    <tr>\n",
       "      <th>has_chip</th>\n",
       "      <td>True</td>\n",
       "      <td>False</td>\n",
       "    </tr>\n",
       "    <tr>\n",
       "      <th>cards_issued</th>\n",
       "      <td>2</td>\n",
       "      <td>2</td>\n",
       "    </tr>\n",
       "    <tr>\n",
       "      <th>credit_limit</th>\n",
       "      <td>31599.0</td>\n",
       "      <td>27480.0</td>\n",
       "    </tr>\n",
       "    <tr>\n",
       "      <th>acct_open_date</th>\n",
       "      <td>2009-10-01 00:00:00</td>\n",
       "      <td>2002-03-01 00:00:00</td>\n",
       "    </tr>\n",
       "    <tr>\n",
       "      <th>year_pin_last_changed</th>\n",
       "      <td>2009</td>\n",
       "      <td>2008</td>\n",
       "    </tr>\n",
       "    <tr>\n",
       "      <th>num_transactions</th>\n",
       "      <td>7615</td>\n",
       "      <td>22320</td>\n",
       "    </tr>\n",
       "    <tr>\n",
       "      <th>total_tx_amount</th>\n",
       "      <td>256731.28</td>\n",
       "      <td>819169.12</td>\n",
       "    </tr>\n",
       "    <tr>\n",
       "      <th>fraud_rate</th>\n",
       "      <td>0.0</td>\n",
       "      <td>0.00121</td>\n",
       "    </tr>\n",
       "    <tr>\n",
       "      <th>chip_rate</th>\n",
       "      <td>0.214314</td>\n",
       "      <td>0.0</td>\n",
       "    </tr>\n",
       "    <tr>\n",
       "      <th>online_rate</th>\n",
       "      <td>0.416678</td>\n",
       "      <td>0.366353</td>\n",
       "    </tr>\n",
       "    <tr>\n",
       "      <th>swipe_rate</th>\n",
       "      <td>0.369009</td>\n",
       "      <td>0.633647</td>\n",
       "    </tr>\n",
       "  </tbody>\n",
       "</table>\n",
       "</div>"
      ],
      "text/plain": [
       "                                        10                   11\n",
       "user                                     2                    2\n",
       "card_index                               0                    1\n",
       "card_brand                      Mastercard           Mastercard\n",
       "card_type                            Debit                Debit\n",
       "card_number               5495199163052054     5804499644308599\n",
       "expires                2022-03-01 00:00:00  2023-07-01 00:00:00\n",
       "cvv                                    677                  258\n",
       "has_chip                              True                False\n",
       "cards_issued                             2                    2\n",
       "credit_limit                       31599.0              27480.0\n",
       "acct_open_date         2009-10-01 00:00:00  2002-03-01 00:00:00\n",
       "year_pin_last_changed                 2009                 2008\n",
       "num_transactions                      7615                22320\n",
       "total_tx_amount                  256731.28            819169.12\n",
       "fraud_rate                             0.0              0.00121\n",
       "chip_rate                         0.214314                  0.0\n",
       "online_rate                       0.416678             0.366353\n",
       "swipe_rate                        0.369009             0.633647"
      ]
     },
     "execution_count": 34,
     "metadata": {},
     "output_type": "execute_result"
    }
   ],
   "source": [
    "# Aggregating by card\n",
    "\n",
    "tx_group_cards = pd.get_dummies(\n",
    "    sampled_tx_df,\n",
    "    columns=['tx_type']\n",
    "    ).groupby([\"user\", \"card\"])\n",
    "card_grouped_cols = {\n",
    "    'amount': ['count', 'sum'],\n",
    "    'is_fraud': 'mean',\n",
    "    'tx_type_chip': 'mean',\n",
    "    'tx_type_online': 'mean',\n",
    "    'tx_type_swipe': 'mean'\n",
    "}\n",
    "card_agg_colnames = [\"num_transactions\", \"total_tx_amount\", 'fraud_rate', 'chip_rate', 'online_rate', 'swipe_rate']\n",
    "\n",
    "cards_sample = cards.merge(\n",
    "    tx_group_cards.agg(card_grouped_cols)\n",
    "        .set_axis(card_agg_colnames, axis=1), \n",
    "    left_on=[\"user\", \"card_index\"], \n",
    "    right_index=True\n",
    ")\n",
    "cards_sample.head(2).T\n"
   ]
  },
  {
   "cell_type": "code",
   "execution_count": 35,
   "metadata": {},
   "outputs": [
    {
     "data": {
      "text/html": [
       "<div>\n",
       "<style scoped>\n",
       "    .dataframe tbody tr th:only-of-type {\n",
       "        vertical-align: middle;\n",
       "    }\n",
       "\n",
       "    .dataframe tbody tr th {\n",
       "        vertical-align: top;\n",
       "    }\n",
       "\n",
       "    .dataframe thead th {\n",
       "        text-align: right;\n",
       "    }\n",
       "</style>\n",
       "<table border=\"1\" class=\"dataframe\">\n",
       "  <thead>\n",
       "    <tr style=\"text-align: right;\">\n",
       "      <th></th>\n",
       "      <th>2</th>\n",
       "      <th>15</th>\n",
       "    </tr>\n",
       "  </thead>\n",
       "  <tbody>\n",
       "    <tr>\n",
       "      <th>person</th>\n",
       "      <td>Saanvi Lee</td>\n",
       "      <td>Riya Cruz</td>\n",
       "    </tr>\n",
       "    <tr>\n",
       "      <th>current_age</th>\n",
       "      <td>81</td>\n",
       "      <td>41</td>\n",
       "    </tr>\n",
       "    <tr>\n",
       "      <th>retirement_age</th>\n",
       "      <td>67</td>\n",
       "      <td>68</td>\n",
       "    </tr>\n",
       "    <tr>\n",
       "      <th>birth_year</th>\n",
       "      <td>1938</td>\n",
       "      <td>1978</td>\n",
       "    </tr>\n",
       "    <tr>\n",
       "      <th>birth_month</th>\n",
       "      <td>11</td>\n",
       "      <td>4</td>\n",
       "    </tr>\n",
       "    <tr>\n",
       "      <th>gender</th>\n",
       "      <td>Female</td>\n",
       "      <td>Female</td>\n",
       "    </tr>\n",
       "    <tr>\n",
       "      <th>address</th>\n",
       "      <td>766 Third Drive</td>\n",
       "      <td>40 Washington Drive</td>\n",
       "    </tr>\n",
       "    <tr>\n",
       "      <th>apartment</th>\n",
       "      <td>NaN</td>\n",
       "      <td>NaN</td>\n",
       "    </tr>\n",
       "    <tr>\n",
       "      <th>city</th>\n",
       "      <td>West Covina</td>\n",
       "      <td>Boise City</td>\n",
       "    </tr>\n",
       "    <tr>\n",
       "      <th>state</th>\n",
       "      <td>CA</td>\n",
       "      <td>OK</td>\n",
       "    </tr>\n",
       "    <tr>\n",
       "      <th>zipcode</th>\n",
       "      <td>91792</td>\n",
       "      <td>73933</td>\n",
       "    </tr>\n",
       "    <tr>\n",
       "      <th>latitude</th>\n",
       "      <td>34.02</td>\n",
       "      <td>36.73</td>\n",
       "    </tr>\n",
       "    <tr>\n",
       "      <th>longitude</th>\n",
       "      <td>-117.89</td>\n",
       "      <td>-102.51</td>\n",
       "    </tr>\n",
       "    <tr>\n",
       "      <th>per_capita_income_zipcode</th>\n",
       "      <td>22681.0</td>\n",
       "      <td>11342.0</td>\n",
       "    </tr>\n",
       "    <tr>\n",
       "      <th>yearly_income_person</th>\n",
       "      <td>33483.0</td>\n",
       "      <td>23123.0</td>\n",
       "    </tr>\n",
       "    <tr>\n",
       "      <th>total_debt</th>\n",
       "      <td>196.0</td>\n",
       "      <td>5079.0</td>\n",
       "    </tr>\n",
       "    <tr>\n",
       "      <th>fico_score</th>\n",
       "      <td>698</td>\n",
       "      <td>723</td>\n",
       "    </tr>\n",
       "    <tr>\n",
       "      <th>num_credit_cards</th>\n",
       "      <td>5</td>\n",
       "      <td>6</td>\n",
       "    </tr>\n",
       "    <tr>\n",
       "      <th>fraud_rate</th>\n",
       "      <td>0.001048</td>\n",
       "      <td>0.002195</td>\n",
       "    </tr>\n",
       "    <tr>\n",
       "      <th>total_credit_limit</th>\n",
       "      <td>133340.0</td>\n",
       "      <td>29278.0</td>\n",
       "    </tr>\n",
       "  </tbody>\n",
       "</table>\n",
       "</div>"
      ],
      "text/plain": [
       "                                        2                    15\n",
       "person                          Saanvi Lee            Riya Cruz\n",
       "current_age                             81                   41\n",
       "retirement_age                          67                   68\n",
       "birth_year                            1938                 1978\n",
       "birth_month                             11                    4\n",
       "gender                              Female               Female\n",
       "address                    766 Third Drive  40 Washington Drive\n",
       "apartment                              NaN                  NaN\n",
       "city                           West Covina           Boise City\n",
       "state                                   CA                   OK\n",
       "zipcode                              91792                73933\n",
       "latitude                             34.02                36.73\n",
       "longitude                          -117.89              -102.51\n",
       "per_capita_income_zipcode          22681.0              11342.0\n",
       "yearly_income_person               33483.0              23123.0\n",
       "total_debt                           196.0               5079.0\n",
       "fico_score                             698                  723\n",
       "num_credit_cards                         5                    6\n",
       "fraud_rate                        0.001048             0.002195\n",
       "total_credit_limit                133340.0              29278.0"
      ]
     },
     "execution_count": 35,
     "metadata": {},
     "output_type": "execute_result"
    }
   ],
   "source": [
    "# Aggregating by user\n",
    "\n",
    "tx_group_users = sampled_tx_df.groupby(\"user\")\n",
    "cards_group_users = cards.groupby(\"user\")\n",
    "user_agg_data = (\n",
    "    tx_group_users\n",
    "    .agg({'is_fraud': 'mean'})\n",
    "    .merge(\n",
    "        cards_group_users.agg({'credit_limit': 'sum'}),\n",
    "        on='user'\n",
    "    )\n",
    "    .set_axis(['fraud_rate', 'total_credit_limit'], axis=1)\n",
    ")\n",
    "users_sample = users.join(user_agg_data, how='inner')\n",
    "users_sample.head(2).T"
   ]
  },
  {
   "attachments": {},
   "cell_type": "markdown",
   "metadata": {},
   "source": [
    "### 3.4 Putting user and card data in the transactions data frame\n",
    "\n"
   ]
  },
  {
   "attachments": {},
   "cell_type": "markdown",
   "metadata": {},
   "source": [
    "## 4 Wrap-up"
   ]
  },
  {
   "attachments": {},
   "cell_type": "markdown",
   "metadata": {},
   "source": [
    "### 4.1 Saving cleaned data frames"
   ]
  },
  {
   "cell_type": "code",
   "execution_count": 36,
   "metadata": {},
   "outputs": [],
   "source": [
    "dfdict = {\n",
    "    \"users_all.csv\": users,\n",
    "    \"cards_all.csv\": cards,\n",
    "    \"users_sample.csv\": users_sample,\n",
    "    \"cards_sample.csv\": cards_sample,\n",
    "    \"tx_sample.csv\": sampled_tx_df\n",
    "}\n",
    "utils.save_data(dfdict)"
   ]
  },
  {
   "attachments": {},
   "cell_type": "markdown",
   "metadata": {},
   "source": [
    "### 4.2 Summary\n",
    "\n",
    "This notebook produces 5 cleaned data files:\n",
    "1. User information (all 2,000 records)\n",
    "1. Card information (all 6,146 records)\n",
    "1. User information (400 randomly sampled users)\n",
    "1. Card information (for the user sample)\n",
    "1. Transaction information (17 features on 5,214,807 records for the user sample)\n",
    "\n",
    "The transactions data frame includes the target features: the boolean `is_fraud`.\n",
    "\n",
    "Issues with the format and data types were fixed:\n",
    "1. Clean column names\n",
    "1. Amounts converted to floating point\n",
    "1. Dates converted to more easily usable formats\n",
    "1. Logically categorical and boolean values converted into appropriate types\n",
    "\n",
    "In addition, aggregated data was added to users and cards data based on the transactions, including the rate of fraud for each card and each user.\n",
    "\n",
    "Two issues to be considered in EDA and model pre-processing were identified:\n",
    "1. Sampling strategies: rely solely on sample of users or also sample (or stratify training/test data) by time?\n",
    "1. Per capita income values in zip codes in the users data that report values of $0.\n",
    "\n",
    "\n"
   ]
  }
 ],
 "metadata": {
  "kernelspec": {
   "display_name": "DataScienceCapstone2-6Yx3DGsU",
   "language": "python",
   "name": "python3"
  },
  "language_info": {
   "codemirror_mode": {
    "name": "ipython",
    "version": 3
   },
   "file_extension": ".py",
   "mimetype": "text/x-python",
   "name": "python",
   "nbconvert_exporter": "python",
   "pygments_lexer": "ipython3",
   "version": "3.9.16"
  },
  "orig_nbformat": 4
 },
 "nbformat": 4,
 "nbformat_minor": 2
}
