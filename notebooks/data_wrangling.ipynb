{
 "cells": [
  {
   "attachments": {},
   "cell_type": "markdown",
   "metadata": {},
   "source": [
    "# Springboard Data Science Capstone 2\n",
    "Identifying Credit Card Fraud: 1. Data Wrangling\n",
    "\n",
    "Mark Cohen\n",
    "\n",
    "2023-3-7"
   ]
  },
  {
   "attachments": {},
   "cell_type": "markdown",
   "metadata": {},
   "source": [
    "## 1 Setup\n",
    "\n",
    "The structure of the project directory is as follows:\n",
    "- data\n",
    "    - raw\n",
    "    - processed\n",
    "- src\n",
    "- notebooks\n",
    "- models\n",
    "- reports\n",
    "\n",
    "The `src` directory includes python scripts that define utility functions needed at various steps of the project. This data wrangling notebook will use the `data_utils.py`, which provides functions to download and load the project's data.\n",
    "\n",
    "**NOTE:** because of its size, the raw data is not stored in the github repository. Instead, the zipped data is mirrored on my Google Drive account. See the file `data source and license.txt` for the original source and license. "
   ]
  },
  {
   "cell_type": "code",
   "execution_count": 1,
   "metadata": {},
   "outputs": [],
   "source": [
    "%load_ext autoreload\n",
    "%autoreload 2"
   ]
  },
  {
   "cell_type": "code",
   "execution_count": 2,
   "metadata": {},
   "outputs": [],
   "source": [
    "import sys\n",
    "import pandas as pd\n",
    "sys.path.append(\"../src\")\n",
    "import data_utils"
   ]
  },
  {
   "cell_type": "code",
   "execution_count": 3,
   "metadata": {},
   "outputs": [
    {
     "name": "stdout",
     "output_type": "stream",
     "text": [
      "Downloading data.\n",
      "Downloaded ../tmp/data_archive.zip\n",
      "Unzipping data files.\n"
     ]
    }
   ],
   "source": [
    "# Confirming that data is present locally, or downloading and unzipping if not.\n",
    "data_utils.raw_data_on_disk()"
   ]
  },
  {
   "attachments": {},
   "cell_type": "markdown",
   "metadata": {},
   "source": [
    "## 2 Inspecting the data files"
   ]
  },
  {
   "attachments": {},
   "cell_type": "markdown",
   "metadata": {},
   "source": [
    "### 2.1 A sample transaction record\n",
    "\n",
    "The data set includes the transaction records for a single customer separated out into its own csv file. It will be useful to look at this file to get a sense of the format of the data."
   ]
  },
  {
   "cell_type": "code",
   "execution_count": 4,
   "metadata": {},
   "outputs": [],
   "source": [
    "df_user0 = data_utils.read_sample_transactions()"
   ]
  },
  {
   "attachments": {},
   "cell_type": "markdown",
   "metadata": {},
   "source": [
    "As seen below, the dataset includes almost 20,000 transactions for this one user, and each transaction record consists of 15 features.\n",
    "\n",
    "The column names are inconvenient for data frame indexing. They should be reformatted in snake case with no special characters.\n",
    "\n",
    "We can also see already that some of the data types will need to be adjusted:\n",
    "1. Amount is a string, including currency marks.\n",
    "1. Zip is a float rather than int or string.\n",
    "1. The target feature is a text `yes`/`no` rather than an integer or boolean.\n",
    "\n",
    "`MCC` is \"Merchant Category Code.\" For example: `5411` represents \"Grocery Stores and Supermarkets.\" See the following document from visa: https://usa.visa.com/content/dam/VCOM/download/merchants/visa-merchant-data-standards-manual.pdf.\n",
    "\n",
    "Finally, there are a substantial number of missing values in the `Merchant State` and `Zip` columns. In the `Errors?` column most rows have no value, which probably means there is no error."
   ]
  },
  {
   "cell_type": "code",
   "execution_count": 5,
   "metadata": {},
   "outputs": [
    {
     "name": "stdout",
     "output_type": "stream",
     "text": [
      "<class 'pandas.core.frame.DataFrame'>\n",
      "RangeIndex: 19963 entries, 0 to 19962\n",
      "Data columns (total 15 columns):\n",
      " #   Column          Non-Null Count  Dtype  \n",
      "---  ------          --------------  -----  \n",
      " 0   User            19963 non-null  int64  \n",
      " 1   Card            19963 non-null  int64  \n",
      " 2   Year            19963 non-null  int64  \n",
      " 3   Month           19963 non-null  int64  \n",
      " 4   Day             19963 non-null  int64  \n",
      " 5   Time            19963 non-null  object \n",
      " 6   Amount          19963 non-null  object \n",
      " 7   Use Chip        19963 non-null  object \n",
      " 8   Merchant Name   19963 non-null  int64  \n",
      " 9   Merchant City   19963 non-null  object \n",
      " 10  Merchant State  18646 non-null  object \n",
      " 11  Zip             18316 non-null  float64\n",
      " 12  MCC             19963 non-null  int64  \n",
      " 13  Errors?         574 non-null    object \n",
      " 14  Is Fraud?       19963 non-null  object \n",
      "dtypes: float64(1), int64(7), object(7)\n",
      "memory usage: 2.3+ MB\n",
      "None\n",
      "                                  0                    1                    2\n",
      "User                              0                    0                    0\n",
      "Card                              0                    0                    0\n",
      "Year                           2002                 2002                 2002\n",
      "Month                             9                    9                    9\n",
      "Day                               1                    1                    2\n",
      "Time                          06:21                06:42                06:22\n",
      "Amount                      $134.09               $38.48              $120.34\n",
      "Use Chip          Swipe Transaction    Swipe Transaction    Swipe Transaction\n",
      "Merchant Name   3527213246127876953  -727612092139916043  -727612092139916043\n",
      "Merchant City              La Verne        Monterey Park        Monterey Park\n",
      "Merchant State                   CA                   CA                   CA\n",
      "Zip                         91750.0              91754.0              91754.0\n",
      "MCC                            5300                 5411                 5411\n",
      "Errors?                         NaN                  NaN                  NaN\n",
      "Is Fraud?                        No                   No                   No\n"
     ]
    }
   ],
   "source": [
    "print(df_user0.info())\n",
    "print(df_user0.head(3).T)"
   ]
  },
  {
   "cell_type": "code",
   "execution_count": 6,
   "metadata": {},
   "outputs": [
    {
     "name": "stdout",
     "output_type": "stream",
     "text": [
      "Old column names: Index(['User', 'Card', 'Year', 'Month', 'Day', 'Time', 'Amount', 'Use Chip',\n",
      "       'Merchant Name', 'Merchant City', 'Merchant State', 'Zip', 'MCC',\n",
      "       'Errors?', 'Is Fraud?'],\n",
      "      dtype='object')\n",
      "New column names: Index(['user', 'card', 'year', 'month', 'day', 'time', 'amount', 'use_chip',\n",
      "       'merchant_name', 'merchant_city', 'merchant_state', 'zip', 'mcc',\n",
      "       'errors', 'is_fraud'],\n",
      "      dtype='object')\n"
     ]
    }
   ],
   "source": [
    "# Updating the column names\n",
    "old_colnames = df_user0.columns\n",
    "print(f\"Old column names: {old_colnames}\")\n",
    "new_colnames = (\n",
    "    old_colnames\n",
    "    .str.lower()\n",
    "    .str.replace(' ', '_', regex=False)\n",
    "    .str.replace('?', '', regex=False)\n",
    ")\n",
    "print(f\"New column names: {new_colnames}\")\n",
    "df_user0.columns = new_colnames"
   ]
  },
  {
   "attachments": {},
   "cell_type": "markdown",
   "metadata": {},
   "source": [
    "Looking next at descriptive statistics for the numeric features, a few points stand out.\n",
    "1. The data for this user includes transactions from 5 distinct cards.\n",
    "1. The data covers a long period of time: from 2002 to 2020. One possibility might be to subset the data on time rather than by customers, e.g. restrict it to a period of a few years.\n",
    "1. In addition to missing values, the minimum value of the zip code column is not a valid zip code."
   ]
  },
  {
   "cell_type": "code",
   "execution_count": 7,
   "metadata": {},
   "outputs": [
    {
     "data": {
      "text/html": [
       "<div>\n",
       "<style scoped>\n",
       "    .dataframe tbody tr th:only-of-type {\n",
       "        vertical-align: middle;\n",
       "    }\n",
       "\n",
       "    .dataframe tbody tr th {\n",
       "        vertical-align: top;\n",
       "    }\n",
       "\n",
       "    .dataframe thead th {\n",
       "        text-align: right;\n",
       "    }\n",
       "</style>\n",
       "<table border=\"1\" class=\"dataframe\">\n",
       "  <thead>\n",
       "    <tr style=\"text-align: right;\">\n",
       "      <th></th>\n",
       "      <th>user</th>\n",
       "      <th>card</th>\n",
       "      <th>year</th>\n",
       "      <th>month</th>\n",
       "      <th>day</th>\n",
       "      <th>merchant_name</th>\n",
       "      <th>zip</th>\n",
       "      <th>mcc</th>\n",
       "    </tr>\n",
       "  </thead>\n",
       "  <tbody>\n",
       "    <tr>\n",
       "      <th>count</th>\n",
       "      <td>19963.0</td>\n",
       "      <td>19963.000000</td>\n",
       "      <td>19963.000000</td>\n",
       "      <td>19963.000000</td>\n",
       "      <td>19963.000000</td>\n",
       "      <td>1.996300e+04</td>\n",
       "      <td>18316.000000</td>\n",
       "      <td>19963.000000</td>\n",
       "    </tr>\n",
       "    <tr>\n",
       "      <th>mean</th>\n",
       "      <td>0.0</td>\n",
       "      <td>1.910735</td>\n",
       "      <td>2011.011922</td>\n",
       "      <td>6.568101</td>\n",
       "      <td>15.743876</td>\n",
       "      <td>7.825653e+17</td>\n",
       "      <td>88812.744922</td>\n",
       "      <td>5617.940239</td>\n",
       "    </tr>\n",
       "    <tr>\n",
       "      <th>std</th>\n",
       "      <td>0.0</td>\n",
       "      <td>1.237763</td>\n",
       "      <td>5.048146</td>\n",
       "      <td>3.477497</td>\n",
       "      <td>8.801378</td>\n",
       "      <td>4.040602e+18</td>\n",
       "      <td>13711.491085</td>\n",
       "      <td>707.982901</td>\n",
       "    </tr>\n",
       "    <tr>\n",
       "      <th>min</th>\n",
       "      <td>0.0</td>\n",
       "      <td>0.000000</td>\n",
       "      <td>2002.000000</td>\n",
       "      <td>1.000000</td>\n",
       "      <td>1.000000</td>\n",
       "      <td>-9.179793e+18</td>\n",
       "      <td>1012.000000</td>\n",
       "      <td>1711.000000</td>\n",
       "    </tr>\n",
       "    <tr>\n",
       "      <th>25%</th>\n",
       "      <td>0.0</td>\n",
       "      <td>0.000000</td>\n",
       "      <td>2007.000000</td>\n",
       "      <td>4.000000</td>\n",
       "      <td>8.000000</td>\n",
       "      <td>-1.288082e+18</td>\n",
       "      <td>91750.000000</td>\n",
       "      <td>5311.000000</td>\n",
       "    </tr>\n",
       "    <tr>\n",
       "      <th>50%</th>\n",
       "      <td>0.0</td>\n",
       "      <td>2.000000</td>\n",
       "      <td>2011.000000</td>\n",
       "      <td>7.000000</td>\n",
       "      <td>16.000000</td>\n",
       "      <td>8.384250e+17</td>\n",
       "      <td>91750.000000</td>\n",
       "      <td>5499.000000</td>\n",
       "    </tr>\n",
       "    <tr>\n",
       "      <th>75%</th>\n",
       "      <td>0.0</td>\n",
       "      <td>3.000000</td>\n",
       "      <td>2015.000000</td>\n",
       "      <td>10.000000</td>\n",
       "      <td>23.000000</td>\n",
       "      <td>4.060647e+18</td>\n",
       "      <td>91752.000000</td>\n",
       "      <td>5912.000000</td>\n",
       "    </tr>\n",
       "    <tr>\n",
       "      <th>max</th>\n",
       "      <td>0.0</td>\n",
       "      <td>4.000000</td>\n",
       "      <td>2020.000000</td>\n",
       "      <td>12.000000</td>\n",
       "      <td>31.000000</td>\n",
       "      <td>9.137769e+18</td>\n",
       "      <td>99504.000000</td>\n",
       "      <td>9402.000000</td>\n",
       "    </tr>\n",
       "  </tbody>\n",
       "</table>\n",
       "</div>"
      ],
      "text/plain": [
       "          user          card          year         month           day  \\\n",
       "count  19963.0  19963.000000  19963.000000  19963.000000  19963.000000   \n",
       "mean       0.0      1.910735   2011.011922      6.568101     15.743876   \n",
       "std        0.0      1.237763      5.048146      3.477497      8.801378   \n",
       "min        0.0      0.000000   2002.000000      1.000000      1.000000   \n",
       "25%        0.0      0.000000   2007.000000      4.000000      8.000000   \n",
       "50%        0.0      2.000000   2011.000000      7.000000     16.000000   \n",
       "75%        0.0      3.000000   2015.000000     10.000000     23.000000   \n",
       "max        0.0      4.000000   2020.000000     12.000000     31.000000   \n",
       "\n",
       "       merchant_name           zip           mcc  \n",
       "count   1.996300e+04  18316.000000  19963.000000  \n",
       "mean    7.825653e+17  88812.744922   5617.940239  \n",
       "std     4.040602e+18  13711.491085    707.982901  \n",
       "min    -9.179793e+18   1012.000000   1711.000000  \n",
       "25%    -1.288082e+18  91750.000000   5311.000000  \n",
       "50%     8.384250e+17  91750.000000   5499.000000  \n",
       "75%     4.060647e+18  91752.000000   5912.000000  \n",
       "max     9.137769e+18  99504.000000   9402.000000  "
      ]
     },
     "execution_count": 7,
     "metadata": {},
     "output_type": "execute_result"
    }
   ],
   "source": [
    "df_user0.describe()"
   ]
  },
  {
   "attachments": {},
   "cell_type": "markdown",
   "metadata": {},
   "source": [
    "Looking first at the `zip` column, most of the rows with missing data represent online transactions. Transactions outside of the United States are recorded such that there is no zip code and the country name is stored in the `merchant_state` column."
   ]
  },
  {
   "cell_type": "code",
   "execution_count": 8,
   "metadata": {},
   "outputs": [
    {
     "name": "stdout",
     "output_type": "stream",
     "text": [
      "ONLINE            1317\n",
      "Cancun             112\n",
      "Manila              46\n",
      "Kingston            46\n",
      "Cabo San Lucas      34\n",
      "Rome                32\n",
      "Tallinn             13\n",
      "Tokyo               12\n",
      "Beijing             11\n",
      "Shanghai             7\n",
      "Lisbon               6\n",
      "Zurich               5\n",
      "Santo Domingo        4\n",
      "Toronto              2\n",
      "Name: merchant_city, dtype: int64\n",
      "\n",
      "Mexico                146\n",
      "Philippines            46\n",
      "Jamaica                46\n",
      "Italy                  32\n",
      "China                  18\n",
      "Estonia                13\n",
      "Japan                  12\n",
      "Portugal                6\n",
      "Switzerland             5\n",
      "Dominican Republic      4\n",
      "Canada                  2\n",
      "Name: merchant_state, dtype: int64\n"
     ]
    }
   ],
   "source": [
    "missing_zip = df_user0.loc[df_user0.zip.isna(),[\"merchant_city\", \"merchant_state\", \"zip\"]]\n",
    "print(missing_zip.merchant_city.value_counts())\n",
    "print()\n",
    "print(missing_zip.loc[missing_zip.merchant_state != 'ONLINE', 'merchant_state'].value_counts())"
   ]
  },
  {
   "attachments": {},
   "cell_type": "markdown",
   "metadata": {},
   "source": [
    "As for the zip codes that seem to be too short, this is apparently because leading zeros (i.e. zip codes from northeastern states) have been dropped. This does not impact the validity or usability of the data, so it will be left as is for now."
   ]
  },
  {
   "cell_type": "code",
   "execution_count": 9,
   "metadata": {},
   "outputs": [
    {
     "name": "stdout",
     "output_type": "stream",
     "text": [
      "['NJ' 'CT' 'MA']\n"
     ]
    }
   ],
   "source": [
    "low_zip = df_user0[df_user0.zip < 10000]\n",
    "print(low_zip.merchant_state.unique())"
   ]
  },
  {
   "attachments": {},
   "cell_type": "markdown",
   "metadata": {},
   "source": [
    "Moving on to the textual columns, it turns out that the `amount` column just appends `$` to every value. Accordingly, this can be removed and the values converted to float."
   ]
  },
  {
   "cell_type": "code",
   "execution_count": 10,
   "metadata": {},
   "outputs": [
    {
     "name": "stdout",
     "output_type": "stream",
     "text": [
      "The first character of the value column:\n",
      " $    19963\n",
      "Name: amount, dtype: int64\n"
     ]
    },
    {
     "data": {
      "text/plain": [
       "count    19963.000000\n",
       "mean        81.299989\n",
       "std         94.159093\n",
       "min       -499.000000\n",
       "25%         36.630000\n",
       "50%         69.450000\n",
       "75%        125.680000\n",
       "max       1409.400000\n",
       "Name: amount, dtype: float64"
      ]
     },
     "execution_count": 10,
     "metadata": {},
     "output_type": "execute_result"
    }
   ],
   "source": [
    "print(f\"The first character of the value column:\\n {df_user0.amount.str.get(0).value_counts()}\")\n",
    "\n",
    "df_user0.amount = df_user0.amount.str.slice(1).astype('float')\n",
    "df_user0.amount.describe()"
   ]
  },
  {
   "attachments": {},
   "cell_type": "markdown",
   "metadata": {},
   "source": [
    "This reveals an additional issue: some of the transaction values are negative. These appear to be refunds: note how the 2nd example immediately follows a transaction for the same (but positive) amount from the same merchant."
   ]
  },
  {
   "cell_type": "code",
   "execution_count": 11,
   "metadata": {},
   "outputs": [
    {
     "name": "stdout",
     "output_type": "stream",
     "text": [
      "                                32                    72   \\\n",
      "user                              0                     0   \n",
      "card                              0                     0   \n",
      "year                           2002                  2002   \n",
      "month                             9                     9   \n",
      "day                              11                    25   \n",
      "time                          13:17                 13:14   \n",
      "amount                        -99.0                -100.0   \n",
      "use_chip          Swipe Transaction     Swipe Transaction   \n",
      "merchant_name   2027553650310142703  -1288082279022882052   \n",
      "merchant_city             Mira Loma              La Verne   \n",
      "merchant_state                   CA                    CA   \n",
      "zip                         91752.0               91750.0   \n",
      "mcc                            5541                  5499   \n",
      "errors                          NaN                   NaN   \n",
      "is_fraud                         No                    No   \n",
      "\n",
      "                                 116  \n",
      "user                               0  \n",
      "card                               0  \n",
      "year                            2002  \n",
      "month                             10  \n",
      "day                               13  \n",
      "time                           13:15  \n",
      "amount                         -99.0  \n",
      "use_chip           Swipe Transaction  \n",
      "merchant_name   -1288082279022882052  \n",
      "merchant_city               La Verne  \n",
      "merchant_state                    CA  \n",
      "zip                          91750.0  \n",
      "mcc                             5499  \n",
      "errors                           NaN  \n",
      "is_fraud                          No  \n",
      "                                  71                    72\n",
      "user                               0                     0\n",
      "card                               0                     0\n",
      "year                            2002                  2002\n",
      "month                              9                     9\n",
      "day                               25                    25\n",
      "time                           13:10                 13:14\n",
      "amount                         100.0                -100.0\n",
      "use_chip           Swipe Transaction     Swipe Transaction\n",
      "merchant_name   -1288082279022882052  -1288082279022882052\n",
      "merchant_city               La Verne              La Verne\n",
      "merchant_state                    CA                    CA\n",
      "zip                          91750.0               91750.0\n",
      "mcc                             5499                  5499\n",
      "errors                           NaN                   NaN\n",
      "is_fraud                          No                    No\n"
     ]
    }
   ],
   "source": [
    "neg_val = df_user0[df_user0.amount <= 0]\n",
    "print(neg_val.head(3).T)\n",
    "print(df_user0.iloc[71:73,:].T)"
   ]
  },
  {
   "attachments": {},
   "cell_type": "markdown",
   "metadata": {},
   "source": [
    "The separate columns for year, month, day, and time can be combined into a single Pandas Timestamp column."
   ]
  },
  {
   "cell_type": "code",
   "execution_count": 12,
   "metadata": {},
   "outputs": [
    {
     "name": "stdout",
     "output_type": "stream",
     "text": [
      "Mismatched years: 0\n"
     ]
    }
   ],
   "source": [
    "def row_to_timestamp(row: pd.Series):\n",
    "    dt_str = f\"{row.year}-{row.month:02}-{row.day:02}T{row.time}\"\n",
    "    return pd.Timestamp(dt_str)\n",
    "\n",
    "df_user0['timestamp'] = df_user0.apply(row_to_timestamp, axis=1)\n",
    "# Confirm the years match\n",
    "print(\"Mismatched years:\", (df_user0.year != df_user0.timestamp.dt.year).sum())"
   ]
  },
  {
   "attachments": {},
   "cell_type": "markdown",
   "metadata": {},
   "source": [
    "Next, let's look at `use_chip`. It turns out there are only three values, corresponding to swipe, chip, and online. We can clean this up by renaming the column more intuitively, and converting into categories without redundant names."
   ]
  },
  {
   "cell_type": "code",
   "execution_count": 13,
   "metadata": {},
   "outputs": [
    {
     "name": "stdout",
     "output_type": "stream",
     "text": [
      "Swipe Transaction     15840\n",
      "Chip Transaction       2808\n",
      "Online Transaction     1315\n",
      "Name: use_chip, dtype: int64 0\n"
     ]
    }
   ],
   "source": [
    "print(df_user0.use_chip.value_counts(), df_user0.use_chip.isna().sum())"
   ]
  },
  {
   "cell_type": "code",
   "execution_count": 14,
   "metadata": {},
   "outputs": [
    {
     "name": "stdout",
     "output_type": "stream",
     "text": [
      "Index(['chip', 'online', 'swipe'], dtype='object')\n"
     ]
    }
   ],
   "source": [
    "tx_type = df_user0.use_chip.str.strip(\" Transaction\").str.lower().astype(\"category\")\n",
    "print(tx_type.cat.categories)\n",
    "df_user0['tx_type'] = tx_type"
   ]
  },
  {
   "cell_type": "code",
   "execution_count": 15,
   "metadata": {},
   "outputs": [],
   "source": [
    "df_user0.drop(columns = [\"use_chip\"], inplace=True)"
   ]
  },
  {
   "attachments": {},
   "cell_type": "markdown",
   "metadata": {},
   "source": [
    "Finally, the target feature indicating fraud is a binary 'Yes' or 'No'. It will be easier to work with as a boolean."
   ]
  },
  {
   "cell_type": "code",
   "execution_count": 16,
   "metadata": {},
   "outputs": [
    {
     "name": "stdout",
     "output_type": "stream",
     "text": [
      "No     19936\n",
      "Yes       27\n",
      "Name: is_fraud, dtype: int64\n",
      "False    19936\n",
      "True        27\n",
      "Name: is_fraud, dtype: int64\n"
     ]
    }
   ],
   "source": [
    "print(df_user0.is_fraud.value_counts())\n",
    "\n",
    "df_user0.is_fraud = df_user0.is_fraud == 'Yes'\n",
    "\n",
    "print(df_user0.is_fraud.value_counts())"
   ]
  },
  {
   "attachments": {},
   "cell_type": "markdown",
   "metadata": {},
   "source": [
    "This is what the head of the data frame looks like after processing:"
   ]
  },
  {
   "cell_type": "code",
   "execution_count": 17,
   "metadata": {},
   "outputs": [
    {
     "data": {
      "text/html": [
       "<div>\n",
       "<style scoped>\n",
       "    .dataframe tbody tr th:only-of-type {\n",
       "        vertical-align: middle;\n",
       "    }\n",
       "\n",
       "    .dataframe tbody tr th {\n",
       "        vertical-align: top;\n",
       "    }\n",
       "\n",
       "    .dataframe thead th {\n",
       "        text-align: right;\n",
       "    }\n",
       "</style>\n",
       "<table border=\"1\" class=\"dataframe\">\n",
       "  <thead>\n",
       "    <tr style=\"text-align: right;\">\n",
       "      <th></th>\n",
       "      <th>0</th>\n",
       "      <th>1</th>\n",
       "    </tr>\n",
       "  </thead>\n",
       "  <tbody>\n",
       "    <tr>\n",
       "      <th>user</th>\n",
       "      <td>0</td>\n",
       "      <td>0</td>\n",
       "    </tr>\n",
       "    <tr>\n",
       "      <th>card</th>\n",
       "      <td>0</td>\n",
       "      <td>0</td>\n",
       "    </tr>\n",
       "    <tr>\n",
       "      <th>year</th>\n",
       "      <td>2002</td>\n",
       "      <td>2002</td>\n",
       "    </tr>\n",
       "    <tr>\n",
       "      <th>month</th>\n",
       "      <td>9</td>\n",
       "      <td>9</td>\n",
       "    </tr>\n",
       "    <tr>\n",
       "      <th>day</th>\n",
       "      <td>1</td>\n",
       "      <td>1</td>\n",
       "    </tr>\n",
       "    <tr>\n",
       "      <th>time</th>\n",
       "      <td>06:21</td>\n",
       "      <td>06:42</td>\n",
       "    </tr>\n",
       "    <tr>\n",
       "      <th>amount</th>\n",
       "      <td>134.09</td>\n",
       "      <td>38.48</td>\n",
       "    </tr>\n",
       "    <tr>\n",
       "      <th>merchant_name</th>\n",
       "      <td>3527213246127876953</td>\n",
       "      <td>-727612092139916043</td>\n",
       "    </tr>\n",
       "    <tr>\n",
       "      <th>merchant_city</th>\n",
       "      <td>La Verne</td>\n",
       "      <td>Monterey Park</td>\n",
       "    </tr>\n",
       "    <tr>\n",
       "      <th>merchant_state</th>\n",
       "      <td>CA</td>\n",
       "      <td>CA</td>\n",
       "    </tr>\n",
       "    <tr>\n",
       "      <th>zip</th>\n",
       "      <td>91750.0</td>\n",
       "      <td>91754.0</td>\n",
       "    </tr>\n",
       "    <tr>\n",
       "      <th>mcc</th>\n",
       "      <td>5300</td>\n",
       "      <td>5411</td>\n",
       "    </tr>\n",
       "    <tr>\n",
       "      <th>errors</th>\n",
       "      <td>NaN</td>\n",
       "      <td>NaN</td>\n",
       "    </tr>\n",
       "    <tr>\n",
       "      <th>is_fraud</th>\n",
       "      <td>False</td>\n",
       "      <td>False</td>\n",
       "    </tr>\n",
       "    <tr>\n",
       "      <th>timestamp</th>\n",
       "      <td>2002-09-01 06:21:00</td>\n",
       "      <td>2002-09-01 06:42:00</td>\n",
       "    </tr>\n",
       "    <tr>\n",
       "      <th>tx_type</th>\n",
       "      <td>swipe</td>\n",
       "      <td>swipe</td>\n",
       "    </tr>\n",
       "  </tbody>\n",
       "</table>\n",
       "</div>"
      ],
      "text/plain": [
       "                                  0                    1\n",
       "user                              0                    0\n",
       "card                              0                    0\n",
       "year                           2002                 2002\n",
       "month                             9                    9\n",
       "day                               1                    1\n",
       "time                          06:21                06:42\n",
       "amount                       134.09                38.48\n",
       "merchant_name   3527213246127876953  -727612092139916043\n",
       "merchant_city              La Verne        Monterey Park\n",
       "merchant_state                   CA                   CA\n",
       "zip                         91750.0              91754.0\n",
       "mcc                            5300                 5411\n",
       "errors                          NaN                  NaN\n",
       "is_fraud                      False                False\n",
       "timestamp       2002-09-01 06:21:00  2002-09-01 06:42:00\n",
       "tx_type                       swipe                swipe"
      ]
     },
     "execution_count": 17,
     "metadata": {},
     "output_type": "execute_result"
    }
   ],
   "source": [
    "df_user0.head(2).T"
   ]
  },
  {
   "attachments": {},
   "cell_type": "markdown",
   "metadata": {},
   "source": [
    "To sum up the data cleaning steps that will need to be repeated for the full training and test samples:\n",
    "1. Renaming the columns.\n",
    "1. Stripping the `$` and converting the transaction amounts to floating point values.\n",
    "1. Creating a combined timestamp columns.\n",
    "1. Creating categories and renaming the `use_chip` column.\n",
    "1. Converting `is_fraud` into a boolean value."
   ]
  },
  {
   "attachments": {},
   "cell_type": "markdown",
   "metadata": {},
   "source": [
    "### 2.2 The user records file\n",
    "\n",
    "Information about each user is stored in a separate file, `sd254_users.csv`."
   ]
  },
  {
   "attachments": {},
   "cell_type": "markdown",
   "metadata": {},
   "source": [
    "### 2.3 The card records file\n",
    "\n",
    "Each user can have more than one card. Information about the cards is stored in `sd254_cards.csv`."
   ]
  },
  {
   "attachments": {},
   "cell_type": "markdown",
   "metadata": {},
   "source": [
    "### 2.4 The transactions file\n",
    "\n",
    "The file `credit-card-transactions-ibm_v2.csv` includes 20 million records of simulated transactions. Importing training and test samples will be covered below. For now, though, let's confirm that the records have the same structure as the sample above."
   ]
  },
  {
   "cell_type": "code",
   "execution_count": 19,
   "metadata": {},
   "outputs": [
    {
     "name": "stdout",
     "output_type": "stream",
     "text": [
      "                                  0                    1\n",
      "User                              0                    0\n",
      "Card                              0                    0\n",
      "Year                           2002                 2002\n",
      "Month                             9                    9\n",
      "Day                               1                    1\n",
      "Time                          06:21                06:42\n",
      "Amount                      $134.09               $38.48\n",
      "Use Chip          Swipe Transaction    Swipe Transaction\n",
      "Merchant Name   3527213246127876953  -727612092139916043\n",
      "Merchant City              La Verne        Monterey Park\n",
      "Merchant State                   CA                   CA\n",
      "Zip                         91750.0              91754.0\n",
      "MCC                            5300                 5411\n",
      "Errors?                         NaN                  NaN\n",
      "Is Fraud?                        No                   No\n"
     ]
    }
   ],
   "source": [
    "small_chunk_reader = data_utils.make_txdata_reader(chunksize = 100)\n",
    "sample_df = next(small_chunk_reader)\n",
    "print(sample_df.head(2).T)\n",
    "del small_chunk_reader"
   ]
  },
  {
   "cell_type": "code",
   "execution_count": 20,
   "metadata": {},
   "outputs": [],
   "source": [
    "def clean_tx_df(df: pd.DataFrame) -> pd.DataFrame:\n",
    "    \"\"\"\n",
    "    Carries out the operations to clean the transactions data frame:\n",
    "    - change column names\n",
    "    - convert `amount` to float\n",
    "    - make a timestamp column\n",
    "    - make `tx_type` categorical feature\n",
    "    - convert `is_fraud` to bool\n",
    "    \"\"\"\n",
    "    # Updating the column names\n",
    "    old_colnames = df.columns\n",
    "    new_colnames = (\n",
    "        old_colnames\n",
    "        .str.lower()\n",
    "        .str.replace(' ', '_', regex=False)\n",
    "        .str.replace('?', '', regex=False)\n",
    "    )\n",
    "    df.columns = new_colnames\n",
    "    # Converting transactions to float\n",
    "    df.amount = df.amount.str.slice(1)\\\n",
    "        .astype('float')\n",
    "    # Making a timestamp column\n",
    "    df['timestamp'] = df.apply(row_to_timestamp, axis=1)\n",
    "    # Creating the tx_type categorical feature\n",
    "    df['tx_type'] = df.use_chip\\\n",
    "        .str.strip(\" Transaction\")\\\n",
    "        .str.lower()\\\n",
    "        .astype(\"category\")\n",
    "    # Converting the is_fraud to bool\n",
    "    df.is_fraud = df.is_fraud == 'Yes'\n",
    "    return df\n"
   ]
  },
  {
   "cell_type": "code",
   "execution_count": 21,
   "metadata": {},
   "outputs": [
    {
     "data": {
      "text/html": [
       "<div>\n",
       "<style scoped>\n",
       "    .dataframe tbody tr th:only-of-type {\n",
       "        vertical-align: middle;\n",
       "    }\n",
       "\n",
       "    .dataframe tbody tr th {\n",
       "        vertical-align: top;\n",
       "    }\n",
       "\n",
       "    .dataframe thead th {\n",
       "        text-align: right;\n",
       "    }\n",
       "</style>\n",
       "<table border=\"1\" class=\"dataframe\">\n",
       "  <thead>\n",
       "    <tr style=\"text-align: right;\">\n",
       "      <th></th>\n",
       "      <th>0</th>\n",
       "      <th>1</th>\n",
       "    </tr>\n",
       "  </thead>\n",
       "  <tbody>\n",
       "    <tr>\n",
       "      <th>user</th>\n",
       "      <td>0</td>\n",
       "      <td>0</td>\n",
       "    </tr>\n",
       "    <tr>\n",
       "      <th>card</th>\n",
       "      <td>0</td>\n",
       "      <td>0</td>\n",
       "    </tr>\n",
       "    <tr>\n",
       "      <th>year</th>\n",
       "      <td>2002</td>\n",
       "      <td>2002</td>\n",
       "    </tr>\n",
       "    <tr>\n",
       "      <th>month</th>\n",
       "      <td>9</td>\n",
       "      <td>9</td>\n",
       "    </tr>\n",
       "    <tr>\n",
       "      <th>day</th>\n",
       "      <td>1</td>\n",
       "      <td>1</td>\n",
       "    </tr>\n",
       "    <tr>\n",
       "      <th>time</th>\n",
       "      <td>06:21</td>\n",
       "      <td>06:42</td>\n",
       "    </tr>\n",
       "    <tr>\n",
       "      <th>amount</th>\n",
       "      <td>134.09</td>\n",
       "      <td>38.48</td>\n",
       "    </tr>\n",
       "    <tr>\n",
       "      <th>use_chip</th>\n",
       "      <td>Swipe Transaction</td>\n",
       "      <td>Swipe Transaction</td>\n",
       "    </tr>\n",
       "    <tr>\n",
       "      <th>merchant_name</th>\n",
       "      <td>3527213246127876953</td>\n",
       "      <td>-727612092139916043</td>\n",
       "    </tr>\n",
       "    <tr>\n",
       "      <th>merchant_city</th>\n",
       "      <td>La Verne</td>\n",
       "      <td>Monterey Park</td>\n",
       "    </tr>\n",
       "    <tr>\n",
       "      <th>merchant_state</th>\n",
       "      <td>CA</td>\n",
       "      <td>CA</td>\n",
       "    </tr>\n",
       "    <tr>\n",
       "      <th>zip</th>\n",
       "      <td>91750.0</td>\n",
       "      <td>91754.0</td>\n",
       "    </tr>\n",
       "    <tr>\n",
       "      <th>mcc</th>\n",
       "      <td>5300</td>\n",
       "      <td>5411</td>\n",
       "    </tr>\n",
       "    <tr>\n",
       "      <th>errors</th>\n",
       "      <td>NaN</td>\n",
       "      <td>NaN</td>\n",
       "    </tr>\n",
       "    <tr>\n",
       "      <th>is_fraud</th>\n",
       "      <td>False</td>\n",
       "      <td>False</td>\n",
       "    </tr>\n",
       "    <tr>\n",
       "      <th>timestamp</th>\n",
       "      <td>2002-09-01 06:21:00</td>\n",
       "      <td>2002-09-01 06:42:00</td>\n",
       "    </tr>\n",
       "    <tr>\n",
       "      <th>tx_type</th>\n",
       "      <td>swipe</td>\n",
       "      <td>swipe</td>\n",
       "    </tr>\n",
       "  </tbody>\n",
       "</table>\n",
       "</div>"
      ],
      "text/plain": [
       "                                  0                    1\n",
       "user                              0                    0\n",
       "card                              0                    0\n",
       "year                           2002                 2002\n",
       "month                             9                    9\n",
       "day                               1                    1\n",
       "time                          06:21                06:42\n",
       "amount                       134.09                38.48\n",
       "use_chip          Swipe Transaction    Swipe Transaction\n",
       "merchant_name   3527213246127876953  -727612092139916043\n",
       "merchant_city              La Verne        Monterey Park\n",
       "merchant_state                   CA                   CA\n",
       "zip                         91750.0              91754.0\n",
       "mcc                            5300                 5411\n",
       "errors                          NaN                  NaN\n",
       "is_fraud                      False                False\n",
       "timestamp       2002-09-01 06:21:00  2002-09-01 06:42:00\n",
       "tx_type                       swipe                swipe"
      ]
     },
     "execution_count": 21,
     "metadata": {},
     "output_type": "execute_result"
    }
   ],
   "source": [
    "clean_tx_df(sample_df).head(2).T"
   ]
  },
  {
   "attachments": {},
   "cell_type": "markdown",
   "metadata": {},
   "source": [
    "## 3 Sampling Strategies\n",
    "\n",
    "The main transactions data file includes 20 million records. This is too large a scale for the limited computing resources available for this project."
   ]
  }
 ],
 "metadata": {
  "kernelspec": {
   "display_name": "DataScienceCapstone2-6Yx3DGsU",
   "language": "python",
   "name": "python3"
  },
  "language_info": {
   "codemirror_mode": {
    "name": "ipython",
    "version": 3
   },
   "file_extension": ".py",
   "mimetype": "text/x-python",
   "name": "python",
   "nbconvert_exporter": "python",
   "pygments_lexer": "ipython3",
   "version": "3.9.13"
  },
  "orig_nbformat": 4
 },
 "nbformat": 4,
 "nbformat_minor": 2
}
